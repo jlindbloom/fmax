{
 "cells": [
  {
   "cell_type": "markdown",
   "metadata": {},
   "source": [
    "The goal of this notebook is to create a function that outputs the mean and standard deviation of a Weibull distribution, given its location and scale parameters."
   ]
  },
  {
   "cell_type": "code",
   "execution_count": 114,
   "metadata": {},
   "outputs": [],
   "source": [
    "from scipy.special import gamma, digamma\n",
    "import numpy as np"
   ]
  },
  {
   "cell_type": "code",
   "execution_count": 35,
   "metadata": {},
   "outputs": [],
   "source": [
    "def weibull_mu_and_sigma(alpha, beta):\n",
    "    \"\"\"Given the shape (alpha) and scale (beta) parameters of a Weibull distribution,\n",
    "    outputs the corresponding mean and standard deviation as a 2-tuple.\n",
    "    \"\"\"\n",
    "    mu = beta*gamma(1 + (1/alpha))\n",
    "    sigma = (beta**2)*gamma(1 + (2/alpha) - (mu**2)/(beta**2))\n",
    "    return mu, sigma"
   ]
  },
  {
   "cell_type": "code",
   "execution_count": 36,
   "metadata": {},
   "outputs": [
    {
     "name": "stdout",
     "output_type": "stream",
     "text": [
      "mu = 0.8862269254527579\n",
      "sigma = 0.9144246099120455\n"
     ]
    }
   ],
   "source": [
    "mu, sigma = weibull_mu_and_sigma(2,1)\n",
    "print(f\"mu = {mu}\")\n",
    "print(f\"sigma = {sigma}\")"
   ]
  },
  {
   "cell_type": "markdown",
   "metadata": {},
   "source": [
    "# Can we go in reverse using an optimizer?"
   ]
  },
  {
   "cell_type": "code",
   "execution_count": 115,
   "metadata": {},
   "outputs": [],
   "source": [
    "from scipy import optimize"
   ]
  },
  {
   "cell_type": "code",
   "execution_count": 116,
   "metadata": {},
   "outputs": [],
   "source": [
    "def fun(x, mu, sigma):\n",
    "    \"\"\"Function for finding alpha and beta given a mu and sigma.\n",
    "    First entry is alpha, second is beta.\n",
    "    \"\"\"\n",
    "    alpha = x[0]\n",
    "    beta = x[1]\n",
    "    return [beta*gamma(1 + (1/alpha)) - mu,\n",
    "            (beta**2)*gamma(1 + (2/alpha) - (mu**2)/(beta**2)) - sigma]"
   ]
  },
  {
   "cell_type": "code",
   "execution_count": 46,
   "metadata": {},
   "outputs": [],
   "source": [
    "def weibull_alpha_and_beta(mu, sigma):\n",
    "    \"\"\"Given the mean (mu) and standard deviation (sigma) parameters of a Weibull distribution,\n",
    "    outputs the corresponding shape (alpha) and scale (beta) as a 2-tuple.\n",
    "    \"\"\"\n",
    "\n",
    "    def fun(x, mu, sigma):\n",
    "        \"\"\"Function called for solving the system for alpha and beta given a mu and sigma.\n",
    "        First entry is in x alpha, second is beta.\n",
    "        \"\"\"\n",
    "        alpha = x[0]\n",
    "        beta = x[1]\n",
    "        return [beta*gamma(1 + (1/alpha)) - mu,\n",
    "                (beta**2)*gamma(1 + (2/alpha) - (mu**2)/(beta**2)) - sigma]\n",
    "\n",
    "    res = optimize.root(fun, [1.0, 1.0], args=(mu,sigma))\n",
    "\n",
    "    if res.success == False:\n",
    "        raise Exception(\"Solver for alpha and beta failed.\")\n",
    "    else:\n",
    "        alpha, beta = res.x\n",
    "        return alpha, beta"
   ]
  },
  {
   "cell_type": "code",
   "execution_count": 118,
   "metadata": {},
   "outputs": [],
   "source": [
    "def fun(x, mu, sigma):\n",
    "    \"\"\"Function called for solving the system for alpha and beta given a mu and sigma.\n",
    "    First entry is in x alpha, second is beta.\n",
    "    \"\"\"\n",
    "    alpha = x[0]\n",
    "    beta = x[1]\n",
    "\n",
    "    f_val = [beta*gamma(1 + (1/alpha)) - mu,\n",
    "            (beta**2)*gamma(1 + (2/alpha) - (mu**2)/(beta**2)) - sigma]\n",
    "\n",
    "    df1_dalpha = -beta*gamma(1 + (1/alpha))*digamma(1 + (1/alpha))/(alpha**2)\n",
    "    df1_dbeta = gamma(1 + (1/alpha))\n",
    "    \n",
    "    temp = 1 + (2/alpha) - ((mu**2)/(beta**2))\n",
    "    df2_dalpha = -2*(beta**2)*gamma(temp)*digamma(temp)/(alpha**2)\n",
    "    df2_dbeta = 2*gamma(temp)*( (mu**2)*digamma(temp) + (beta**2))/beta\n",
    "\n",
    "\n",
    "    f_jac = np.array([[df1_dalpha, df1_dbeta],\n",
    "                    [df2_dalpha, df2_dbeta]])\n",
    "\n",
    "    return f_val, f_jac"
   ]
  },
  {
   "cell_type": "code",
   "execution_count": 152,
   "metadata": {},
   "outputs": [],
   "source": [
    "mu, sigma = 10, 4"
   ]
  },
  {
   "cell_type": "code",
   "execution_count": 159,
   "metadata": {},
   "outputs": [],
   "source": [
    "res = optimize.root(fun, [5, 10], args=(mu,sigma), jac=True)"
   ]
  },
  {
   "cell_type": "code",
   "execution_count": 160,
   "metadata": {},
   "outputs": [
    {
     "data": {
      "text/plain": [
       "    fjac: array([[-5.29395592e-23,  1.00000000e+00],\n",
       "       [-1.00000000e+00, -5.29395592e-23]])\n",
       "     fun: array([-10.,  -4.])\n",
       " message: 'The iteration is not making good progress, as measured by the \\n  improvement from the last ten iterations.'\n",
       "    nfev: 14\n",
       "    njev: 2\n",
       "     qtf: array([-4., 10.])\n",
       "       r: array([2.96543897e+77, 4.47345670e+77, 1.14179815e+46])\n",
       "  status: 5\n",
       " success: False\n",
       "       x: array([-1.89820479e-03,  9.40872372e+00])"
      ]
     },
     "execution_count": 160,
     "metadata": {},
     "output_type": "execute_result"
    }
   ],
   "source": [
    "res"
   ]
  },
  {
   "cell_type": "code",
   "execution_count": 155,
   "metadata": {},
   "outputs": [],
   "source": [
    "alpha, beta = res.x"
   ]
  },
  {
   "cell_type": "code",
   "execution_count": 156,
   "metadata": {},
   "outputs": [
    {
     "name": "stdout",
     "output_type": "stream",
     "text": [
      "4.7668687571496555\n",
      "11.497243585972505\n"
     ]
    }
   ],
   "source": [
    "r1, r2 = weibull_mu_and_sigma(alpha, beta)\n",
    "print(r1)\n",
    "print(r2)"
   ]
  },
  {
   "cell_type": "code",
   "execution_count": null,
   "metadata": {},
   "outputs": [],
   "source": []
  },
  {
   "cell_type": "code",
   "execution_count": null,
   "metadata": {},
   "outputs": [],
   "source": [
    "alpha, beta = weibull_alpha_and_beta(1, 3)"
   ]
  },
  {
   "cell_type": "code",
   "execution_count": null,
   "metadata": {},
   "outputs": [],
   "source": []
  },
  {
   "cell_type": "code",
   "execution_count": 93,
   "metadata": {},
   "outputs": [
    {
     "ename": "Exception",
     "evalue": "Solver for alpha and beta failed.",
     "output_type": "error",
     "traceback": [
      "\u001b[1;31m---------------------------------------------------------------------------\u001b[0m",
      "\u001b[1;31mException\u001b[0m                                 Traceback (most recent call last)",
      "\u001b[1;32m~\\AppData\\Local\\Temp/ipykernel_37588/1363393841.py\u001b[0m in \u001b[0;36m<module>\u001b[1;34m\u001b[0m\n\u001b[1;32m----> 1\u001b[1;33m \u001b[0malpha\u001b[0m\u001b[1;33m,\u001b[0m \u001b[0mbeta\u001b[0m \u001b[1;33m=\u001b[0m \u001b[0mweibull_alpha_and_beta\u001b[0m\u001b[1;33m(\u001b[0m\u001b[1;36m0.9\u001b[0m\u001b[1;33m,\u001b[0m \u001b[1;36m3\u001b[0m\u001b[1;33m)\u001b[0m\u001b[1;33m\u001b[0m\u001b[1;33m\u001b[0m\u001b[0m\n\u001b[0m",
      "\u001b[1;32m~\\AppData\\Local\\Temp/ipykernel_37588/3515036543.py\u001b[0m in \u001b[0;36mweibull_alpha_and_beta\u001b[1;34m(mu, sigma)\u001b[0m\n\u001b[0;32m     16\u001b[0m \u001b[1;33m\u001b[0m\u001b[0m\n\u001b[0;32m     17\u001b[0m     \u001b[1;32mif\u001b[0m \u001b[0mres\u001b[0m\u001b[1;33m.\u001b[0m\u001b[0msuccess\u001b[0m \u001b[1;33m==\u001b[0m \u001b[1;32mFalse\u001b[0m\u001b[1;33m:\u001b[0m\u001b[1;33m\u001b[0m\u001b[1;33m\u001b[0m\u001b[0m\n\u001b[1;32m---> 18\u001b[1;33m         \u001b[1;32mraise\u001b[0m \u001b[0mException\u001b[0m\u001b[1;33m(\u001b[0m\u001b[1;34m\"Solver for alpha and beta failed.\"\u001b[0m\u001b[1;33m)\u001b[0m\u001b[1;33m\u001b[0m\u001b[1;33m\u001b[0m\u001b[0m\n\u001b[0m\u001b[0;32m     19\u001b[0m     \u001b[1;32melse\u001b[0m\u001b[1;33m:\u001b[0m\u001b[1;33m\u001b[0m\u001b[1;33m\u001b[0m\u001b[0m\n\u001b[0;32m     20\u001b[0m         \u001b[0malpha\u001b[0m\u001b[1;33m,\u001b[0m \u001b[0mbeta\u001b[0m \u001b[1;33m=\u001b[0m \u001b[0mres\u001b[0m\u001b[1;33m.\u001b[0m\u001b[0mx\u001b[0m\u001b[1;33m\u001b[0m\u001b[1;33m\u001b[0m\u001b[0m\n",
      "\u001b[1;31mException\u001b[0m: Solver for alpha and beta failed."
     ]
    }
   ],
   "source": [
    "alpha, beta = weibull_alpha_and_beta(0.9, 3)"
   ]
  },
  {
   "cell_type": "code",
   "execution_count": 94,
   "metadata": {},
   "outputs": [],
   "source": [
    "r1, r2 = weibull_mu_and_sigma(alpha, beta)"
   ]
  },
  {
   "cell_type": "code",
   "execution_count": 95,
   "metadata": {},
   "outputs": [
    {
     "name": "stdout",
     "output_type": "stream",
     "text": [
      "0.9499999999999952\n",
      "2.9999999999983578\n"
     ]
    }
   ],
   "source": [
    "print(r1)\n",
    "print(r2)"
   ]
  },
  {
   "cell_type": "code",
   "execution_count": 98,
   "metadata": {},
   "outputs": [],
   "source": [
    "mu, sigma = 0.9, 1"
   ]
  },
  {
   "cell_type": "code",
   "execution_count": 110,
   "metadata": {},
   "outputs": [],
   "source": [
    "res = optimize.root(fun, [10.0, 5.0], args=(mu,sigma), options={\"maxfev\":100000, \"eps\":1e-8})"
   ]
  },
  {
   "cell_type": "code",
   "execution_count": 111,
   "metadata": {},
   "outputs": [
    {
     "data": {
      "text/plain": [
       "    fjac: array([[-0.02071979, -0.99978532],\n",
       "       [ 0.99978532, -0.02071979]])\n",
       "     fun: array([0.35918807, 1.88680893])\n",
       " message: 'The iteration is not making good progress, as measured by the \\n  improvement from the last ten iterations.'\n",
       "    nfev: 41\n",
       "     qtf: array([-1.89384617,  0.32001669])\n",
       "       r: array([-5.74294258e-05,  1.62556874e-01,  1.00432252e+00])\n",
       "  status: 5\n",
       " success: False\n",
       "       x: array([-783.04798655,    1.25825853])"
      ]
     },
     "execution_count": 111,
     "metadata": {},
     "output_type": "execute_result"
    }
   ],
   "source": [
    "res"
   ]
  },
  {
   "cell_type": "code",
   "execution_count": 107,
   "metadata": {},
   "outputs": [
    {
     "name": "stdout",
     "output_type": "stream",
     "text": [
      "Help on OptimizeResult in module scipy.optimize.optimize object:\n",
      "\n",
      "class OptimizeResult(builtins.dict)\n",
      " |  Represents the optimization result.\n",
      " |  \n",
      " |  Attributes\n",
      " |  ----------\n",
      " |  x : ndarray\n",
      " |      The solution of the optimization.\n",
      " |  success : bool\n",
      " |      Whether or not the optimizer exited successfully.\n",
      " |  status : int\n",
      " |      Termination status of the optimizer. Its value depends on the\n",
      " |      underlying solver. Refer to `message` for details.\n",
      " |  message : str\n",
      " |      Description of the cause of the termination.\n",
      " |  fun, jac, hess: ndarray\n",
      " |      Values of objective function, its Jacobian and its Hessian (if\n",
      " |      available). The Hessians may be approximations, see the documentation\n",
      " |      of the function in question.\n",
      " |  hess_inv : object\n",
      " |      Inverse of the objective function's Hessian; may be an approximation.\n",
      " |      Not available for all solvers. The type of this attribute may be\n",
      " |      either np.ndarray or scipy.sparse.linalg.LinearOperator.\n",
      " |  nfev, njev, nhev : int\n",
      " |      Number of evaluations of the objective functions and of its\n",
      " |      Jacobian and Hessian.\n",
      " |  nit : int\n",
      " |      Number of iterations performed by the optimizer.\n",
      " |  maxcv : float\n",
      " |      The maximum constraint violation.\n",
      " |  \n",
      " |  Notes\n",
      " |  -----\n",
      " |  There may be additional attributes not listed above depending of the\n",
      " |  specific solver. Since this class is essentially a subclass of dict\n",
      " |  with attribute accessors, one can see which attributes are available\n",
      " |  using the `keys()` method.\n",
      " |  \n",
      " |  Method resolution order:\n",
      " |      OptimizeResult\n",
      " |      builtins.dict\n",
      " |      builtins.object\n",
      " |  \n",
      " |  Methods defined here:\n",
      " |  \n",
      " |  __delattr__ = __delitem__(self, key, /)\n",
      " |  \n",
      " |  __dir__(self)\n",
      " |      Default dir() implementation.\n",
      " |  \n",
      " |  __getattr__(self, name)\n",
      " |  \n",
      " |  __repr__(self)\n",
      " |      Return repr(self).\n",
      " |  \n",
      " |  __setattr__ = __setitem__(self, key, value, /)\n",
      " |  \n",
      " |  ----------------------------------------------------------------------\n",
      " |  Data descriptors defined here:\n",
      " |  \n",
      " |  __dict__\n",
      " |      dictionary for instance variables (if defined)\n",
      " |  \n",
      " |  __weakref__\n",
      " |      list of weak references to the object (if defined)\n",
      " |  \n",
      " |  ----------------------------------------------------------------------\n",
      " |  Methods inherited from builtins.dict:\n",
      " |  \n",
      " |  __contains__(self, key, /)\n",
      " |      True if the dictionary has the specified key, else False.\n",
      " |  \n",
      " |  __delitem__(self, key, /)\n",
      " |      Delete self[key].\n",
      " |  \n",
      " |  __eq__(self, value, /)\n",
      " |      Return self==value.\n",
      " |  \n",
      " |  __ge__(self, value, /)\n",
      " |      Return self>=value.\n",
      " |  \n",
      " |  __getattribute__(self, name, /)\n",
      " |      Return getattr(self, name).\n",
      " |  \n",
      " |  __getitem__(...)\n",
      " |      x.__getitem__(y) <==> x[y]\n",
      " |  \n",
      " |  __gt__(self, value, /)\n",
      " |      Return self>value.\n",
      " |  \n",
      " |  __init__(self, /, *args, **kwargs)\n",
      " |      Initialize self.  See help(type(self)) for accurate signature.\n",
      " |  \n",
      " |  __iter__(self, /)\n",
      " |      Implement iter(self).\n",
      " |  \n",
      " |  __le__(self, value, /)\n",
      " |      Return self<=value.\n",
      " |  \n",
      " |  __len__(self, /)\n",
      " |      Return len(self).\n",
      " |  \n",
      " |  __lt__(self, value, /)\n",
      " |      Return self<value.\n",
      " |  \n",
      " |  __ne__(self, value, /)\n",
      " |      Return self!=value.\n",
      " |  \n",
      " |  __reversed__(self, /)\n",
      " |      Return a reverse iterator over the dict keys.\n",
      " |  \n",
      " |  __setitem__(self, key, value, /)\n",
      " |      Set self[key] to value.\n",
      " |  \n",
      " |  __sizeof__(...)\n",
      " |      D.__sizeof__() -> size of D in memory, in bytes\n",
      " |  \n",
      " |  clear(...)\n",
      " |      D.clear() -> None.  Remove all items from D.\n",
      " |  \n",
      " |  copy(...)\n",
      " |      D.copy() -> a shallow copy of D\n",
      " |  \n",
      " |  get(self, key, default=None, /)\n",
      " |      Return the value for key if key is in the dictionary, else default.\n",
      " |  \n",
      " |  items(...)\n",
      " |      D.items() -> a set-like object providing a view on D's items\n",
      " |  \n",
      " |  keys(...)\n",
      " |      D.keys() -> a set-like object providing a view on D's keys\n",
      " |  \n",
      " |  pop(...)\n",
      " |      D.pop(k[,d]) -> v, remove specified key and return the corresponding value.\n",
      " |      If key is not found, d is returned if given, otherwise KeyError is raised\n",
      " |  \n",
      " |  popitem(self, /)\n",
      " |      Remove and return a (key, value) pair as a 2-tuple.\n",
      " |      \n",
      " |      Pairs are returned in LIFO (last-in, first-out) order.\n",
      " |      Raises KeyError if the dict is empty.\n",
      " |  \n",
      " |  setdefault(self, key, default=None, /)\n",
      " |      Insert key with a value of default if key is not in the dictionary.\n",
      " |      \n",
      " |      Return the value for key if key is in the dictionary, else default.\n",
      " |  \n",
      " |  update(...)\n",
      " |      D.update([E, ]**F) -> None.  Update D from dict/iterable E and F.\n",
      " |      If E is present and has a .keys() method, then does:  for k in E: D[k] = E[k]\n",
      " |      If E is present and lacks a .keys() method, then does:  for k, v in E: D[k] = v\n",
      " |      In either case, this is followed by: for k in F:  D[k] = F[k]\n",
      " |  \n",
      " |  values(...)\n",
      " |      D.values() -> an object providing a view on D's values\n",
      " |  \n",
      " |  ----------------------------------------------------------------------\n",
      " |  Class methods inherited from builtins.dict:\n",
      " |  \n",
      " |  fromkeys(iterable, value=None, /) from builtins.type\n",
      " |      Create a new dictionary with keys from iterable and values set to value.\n",
      " |  \n",
      " |  ----------------------------------------------------------------------\n",
      " |  Static methods inherited from builtins.dict:\n",
      " |  \n",
      " |  __new__(*args, **kwargs) from builtins.type\n",
      " |      Create and return a new object.  See help(type) for accurate signature.\n",
      " |  \n",
      " |  ----------------------------------------------------------------------\n",
      " |  Data and other attributes inherited from builtins.dict:\n",
      " |  \n",
      " |  __hash__ = None\n",
      "\n"
     ]
    }
   ],
   "source": [
    "help(res)"
   ]
  },
  {
   "cell_type": "code",
   "execution_count": 32,
   "metadata": {},
   "outputs": [
    {
     "data": {
      "text/plain": [
       "True"
      ]
     },
     "execution_count": 32,
     "metadata": {},
     "output_type": "execute_result"
    }
   ],
   "source": [
    "res.success"
   ]
  },
  {
   "cell_type": "code",
   "execution_count": 22,
   "metadata": {},
   "outputs": [
    {
     "data": {
      "text/plain": [
       "array([5.37797259, 1.08457197])"
      ]
     },
     "execution_count": 22,
     "metadata": {},
     "output_type": "execute_result"
    }
   ],
   "source": [
    "res.x"
   ]
  },
  {
   "cell_type": "code",
   "execution_count": null,
   "metadata": {},
   "outputs": [],
   "source": []
  }
 ],
 "metadata": {
  "interpreter": {
   "hash": "69ffb85235ffa46b5a57f679eb7b603080f93f3e7f902cfae1f9a31760076578"
  },
  "kernelspec": {
   "display_name": "Python 3.8.10 64-bit ('pm3env': conda)",
   "language": "python",
   "name": "python3"
  },
  "language_info": {
   "codemirror_mode": {
    "name": "ipython",
    "version": 3
   },
   "file_extension": ".py",
   "mimetype": "text/x-python",
   "name": "python",
   "nbconvert_exporter": "python",
   "pygments_lexer": "ipython3",
   "version": "3.8.10"
  },
  "orig_nbformat": 4
 },
 "nbformat": 4,
 "nbformat_minor": 2
}
