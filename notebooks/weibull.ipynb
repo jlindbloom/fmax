{
 "cells": [
  {
   "cell_type": "code",
   "execution_count": 1,
   "metadata": {},
   "outputs": [],
   "source": [
    "import pymc3 as pm\n",
    "import pandas as pd\n",
    "import matplotlib.pyplot as plt\n",
    "import fmax as fm\n",
    "import numpy as np\n",
    "import arviz as az"
   ]
  },
  {
   "cell_type": "code",
   "execution_count": 2,
   "metadata": {},
   "outputs": [],
   "source": [
    "def plot_posterior_predictive(fcast_model, label):\n",
    "    \"\"\"Simple plot of the posterior predictive of a forecast model.\n",
    "    \"\"\"\n",
    "\n",
    "    sample_paths = fcast_model.posterior_predictive_samples\n",
    "    index = fcast_model.train_index\n",
    "\n",
    "    # Calculate the 1%, 10%, 50%, 90%, and 99% quantiles\n",
    "    lower_bound_one = np.quantile(sample_paths, q=0.01, axis=0)\n",
    "    lower_bound_ten = np.quantile(sample_paths, q=0.1, axis=0)\n",
    "    medians = np.quantile(sample_paths, q=0.5, axis=0)\n",
    "    upper_bound_ninety = np.quantile(sample_paths, q=0.9, axis=0)\n",
    "    upper_bound_ninety_nine = np.quantile(sample_paths, q=0.99, axis=0)\n",
    "\n",
    "    # Plot\n",
    "    fig, axs = plt.subplots(figsize=(13,8))\n",
    "\n",
    "    axs.fill_between(index, lower_bound_one, upper_bound_ninety_nine, alpha=0.4, label=\"99% CI\", color=\"C0\")\n",
    "    axs.fill_between(index, lower_bound_ten, upper_bound_ninety, alpha=0.7, label=\"80% CI\", color=\"C0\")\n",
    "    axs.plot(index, medians, label=\"Median\")\n",
    "    axs.plot(index, fcast_model.train_data, color=\"red\", label=\"Training\")\n",
    "    axs.legend()\n",
    "    axs.set_xlabel(\"Period\")\n",
    "    axs.set_ylabel(\"Record\")\n",
    "    axs.set_title(label)\n",
    "\n",
    "    fig.tight_layout()\n",
    "\n",
    "    return fig"
   ]
  },
  {
   "cell_type": "code",
   "execution_count": 3,
   "metadata": {},
   "outputs": [],
   "source": [
    "def plot_forecast(fcast_model, test_data, label, actual):\n",
    "    \"\"\"Simple plot of the posterior predictive of a forecast model.\n",
    "    \"\"\"\n",
    "\n",
    "    sample_paths = fcast_model.forecast_samples\n",
    "    index = fcast_model.master_with_fcast_index\n",
    "\n",
    "    # Calculate the 1%, 10%, 50%, 90%, and 99% quantiles\n",
    "    lower_bound_one = np.quantile(sample_paths, q=0.01, axis=0)\n",
    "    lower_bound_ten = np.quantile(sample_paths, q=0.1, axis=0)\n",
    "    medians = np.quantile(sample_paths, q=0.5, axis=0)\n",
    "    upper_bound_ninety = np.quantile(sample_paths, q=0.9, axis=0)\n",
    "    upper_bound_ninety_nine = np.quantile(sample_paths, q=0.99, axis=0)\n",
    "\n",
    "    # Plot\n",
    "    fig, axs = plt.subplots(figsize=(13,8))\n",
    "    \n",
    "    axs.fill_between(index, lower_bound_one, upper_bound_ninety_nine, alpha=0.4, label=\"99% CI\", color=\"C0\")\n",
    "    axs.fill_between(index, lower_bound_ten, upper_bound_ninety, alpha=0.7, label=\"80% CI\", color=\"C0\")\n",
    "    axs.plot(index, medians, label=\"Median\")\n",
    "    axs.plot(fcast_model.train_index, fcast_model.train_data, color=\"red\", label=\"Training\")\n",
    "    axs.plot(fcast_model.fcast_index, test_data, color=\"black\", label=\"Tryfos\")\n",
    "    axs.plot(fcast_model.fcast_index, actual, color=\"green\", label=\"Actual\")\n",
    "    axs.legend()\n",
    "    axs.set_xlabel(\"Period\")\n",
    "    axs.set_ylabel(\"Record\")\n",
    "    axs.set_title(label)\n",
    "\n",
    "    fig.tight_layout()\n",
    "\n",
    "    return fig"
   ]
  },
  {
   "cell_type": "code",
   "execution_count": 4,
   "metadata": {},
   "outputs": [],
   "source": [
    "def plot_forecast_fin(fcast_model, test_data, label, actual):\n",
    "    \"\"\"Simple plot of the posterior predictive of a forecast model.\n",
    "    \"\"\"\n",
    "\n",
    "    sample_paths = fcast_model.forecast_samples\n",
    "    index = fcast_model.master_with_fcast_index\n",
    "\n",
    "    # Convert to the actual years\n",
    "    index = [1968+i for i in range(len(index))]\n",
    "\n",
    "    # Calculate the 1%, 10%, 50%, 90%, and 99% quantiles\n",
    "    lower_bound_one = np.quantile(sample_paths, q=0.025, axis=0)\n",
    "    lower_bound_ten = np.quantile(sample_paths, q=0.16, axis=0)\n",
    "    medians = np.quantile(sample_paths, q=0.5, axis=0)\n",
    "    upper_bound_ninety = np.quantile(sample_paths, q=0.84, axis=0)\n",
    "    upper_bound_ninety_nine = np.quantile(sample_paths, q=0.975, axis=0)\n",
    "\n",
    "    # Plot\n",
    "    fig, axs = plt.subplots(figsize=(13,8))\n",
    "    \n",
    "    axs.fill_between(index, lower_bound_one, upper_bound_ninety_nine, alpha=0.4, label=\"95% CI\", color=\"C0\")\n",
    "    axs.fill_between(index, lower_bound_ten, upper_bound_ninety, alpha=0.7, label=\"68% CI\", color=\"C0\")\n",
    "    axs.plot(index, medians, label=\"Median\", color=\"blue\")\n",
    "    axs.plot([1968+i for i in range(len(fcast_model.train_index))], fcast_model.train_data, color=\"green\", label=\"Training\")\n",
    "    axs.plot([1983+i for i in range(len(fcast_model.fcast_index))], test_data, color=\"black\", label=\"Tryfos\")\n",
    "    axs.plot([1983+i for i in range(len(fcast_model.fcast_index))], actual, color=\"red\", label=\"Actual\")\n",
    "    axs.legend()\n",
    "    axs.set_xlabel(\"Period\")\n",
    "    axs.set_ylabel(\"Record\")\n",
    "    axs.set_title(label)\n",
    "\n",
    "    fig.tight_layout()\n",
    "\n",
    "    return fig"
   ]
  },
  {
   "cell_type": "code",
   "execution_count": 5,
   "metadata": {},
   "outputs": [],
   "source": [
    "def plot_forecast_small(fcast_model, test_data, label, actual):\n",
    "    \"\"\"Simple plot of the posterior predictive of a forecast model.\n",
    "    \"\"\"\n",
    "\n",
    "    sample_paths = fcast_model.forecast_samples\n",
    "    index = fcast_model.master_with_fcast_index\n",
    "\n",
    "    # Convert to the actual years\n",
    "    index = [1968+i for i in range(len(index))]\n",
    "\n",
    "    # Calculate the 1%, 10%, 50%, 90%, and 99% quantiles\n",
    "    lower_bound_one = np.quantile(sample_paths, q=0.025, axis=0)\n",
    "    lower_bound_ten = np.quantile(sample_paths, q=0.16, axis=0)\n",
    "    medians = np.quantile(sample_paths, q=0.5, axis=0)\n",
    "    upper_bound_ninety = np.quantile(sample_paths, q=0.84, axis=0)\n",
    "    upper_bound_ninety_nine = np.quantile(sample_paths, q=0.975, axis=0)\n",
    "\n",
    "    # Plot\n",
    "    fig, axs = plt.subplots(figsize=(8,5))\n",
    "    \n",
    "    axs.fill_between(index, lower_bound_one, upper_bound_ninety_nine, alpha=0.4, label=\"95% CI\", color=\"C0\")\n",
    "    axs.fill_between(index, lower_bound_ten, upper_bound_ninety, alpha=0.7, label=\"68% CI\", color=\"C0\")\n",
    "    axs.plot(index, medians, label=\"Median\", color=\"blue\")\n",
    "    axs.plot([1968+i for i in range(len(fcast_model.train_index))], fcast_model.train_data, color=\"green\", label=\"Training\")\n",
    "    axs.plot([1983+i for i in range(len(fcast_model.fcast_index))], test_data, color=\"black\", label=\"Tryfos\")\n",
    "    axs.plot([1983+i for i in range(len(fcast_model.fcast_index))], actual, color=\"red\", label=\"Actual\")\n",
    "    axs.legend()\n",
    "    #axs.set_xlabel(\"Period\")\n",
    "    #axs.set_ylabel(\"Record\")\n",
    "    #axs.set_title(label)\n",
    "\n",
    "    fig.tight_layout()\n",
    "\n",
    "    return fig"
   ]
  },
  {
   "cell_type": "code",
   "execution_count": 6,
   "metadata": {},
   "outputs": [],
   "source": [
    "whiches = [\"1000m\", \"1m\", \"5000m\", \"Marathon\", \"10000m\"]\n",
    "which = whiches[0]"
   ]
  },
  {
   "cell_type": "code",
   "execution_count": null,
   "metadata": {},
   "outputs": [],
   "source": []
  },
  {
   "cell_type": "code",
   "execution_count": 10,
   "metadata": {},
   "outputs": [],
   "source": [
    "df = pd.read_csv(\"tryfos_data.csv\")\n",
    "years, records = df[\"Year\"].values, df[which].values # Years 1983 and onward are just forecasts\n",
    "\n",
    "training_years = years[:15]\n",
    "training_records = records[:15]\n",
    "tryfos_years = years[15:]\n",
    "tryfos_fcast = records[15:]\n",
    "\n",
    "actual_df = pd.read_csv(\"tryfos_actual.csv\")\n",
    "_, actual_records = actual_df[\"Year\"].values, actual_df[which].values"
   ]
  },
  {
   "cell_type": "code",
   "execution_count": null,
   "metadata": {},
   "outputs": [],
   "source": []
  },
  {
   "cell_type": "markdown",
   "metadata": {},
   "source": [
    "# Inverse gamma approximation"
   ]
  },
  {
   "cell_type": "code",
   "execution_count": 15,
   "metadata": {},
   "outputs": [],
   "source": [
    "import numpy as np\n",
    "import math\n",
    "import scipy.special\n",
    "\n",
    "def _lambert_w(z):\n",
    "    \"\"\"\n",
    "    Lambert W function, principal branch.\n",
    "    See http://en.wikipedia.org/wiki/Lambert_W_function\n",
    "    Code taken from http://keithbriggs.info/software.html\n",
    "    \"\"\"\n",
    "    eps=4.0e-16\n",
    "    em1=0.3678794411714423215955237701614608\n",
    "    assert z>=-em1, 'LambertW.py: bad argument %g, exiting.'%z\n",
    "    if 0.0==z: \n",
    "        return 0.0\n",
    "    if z<-em1+1e-4:\n",
    "        q=z+em1\n",
    "        r=math.sqrt(q)\n",
    "        q2=q*q\n",
    "        q3=q2*q\n",
    "        return\\\n",
    "        -1.0\\\n",
    "        +2.331643981597124203363536062168*r\\\n",
    "        -1.812187885639363490240191647568*q\\\n",
    "        +1.936631114492359755363277457668*r*q\\\n",
    "        -2.353551201881614516821543561516*q2\\\n",
    "        +3.066858901050631912893148922704*r*q2\\\n",
    "        -4.175335600258177138854984177460*q3\\\n",
    "        +5.858023729874774148815053846119*r*q3\\\n",
    "        -8.401032217523977370984161688514*q3*q\n",
    "    if z<1.0:\n",
    "        p=math.sqrt(2.0*(2.7182818284590452353602874713526625*z+1.0))\n",
    "        w=-1.0+p*(1.0+p*(-0.333333333333333333333+p*0.152777777777777777777777))\n",
    "    else:\n",
    "        w=math.log(z)\n",
    "    if z>3.0: \n",
    "        w-=math.log(w)\n",
    "    for i in range(10):\n",
    "        e=math.exp(w)\n",
    "        t=w*e-z\n",
    "        p=w+1.0\n",
    "        t/=e*p-0.5*(p+1.0)*t/p\n",
    "        w-=t\n",
    "        if abs(t)<eps*(1.0+abs(w)): \n",
    "            return w\n",
    "    #raise AssertionError, 'Unhandled value %1.2f'%z\n",
    "\n",
    "def _gamma_inverse(x):\n",
    "    \"\"\"\n",
    "    Inverse the gamma function.\n",
    "    http://mathoverflow.net/questions/12828/inverse-gamma-function\n",
    "    \"\"\"\n",
    "    k=1.461632 # the positive zero of the digamma function, scipy.special.psi\n",
    "    assert x>=k, 'gamma(x) is strictly increasing for x >= k, k=%1.2f, x=%1.2f' % (k, x)\n",
    "    C=math.sqrt(2*np.pi)/np.e - scipy.special.gamma(k) # approximately 0.036534\n",
    "    L=np.log((x+C)/np.sqrt(2*np.pi))\n",
    "    gamma_inv = 0.5+L/_lambert_w(L/np.e)\n",
    "    return gamma_inv"
   ]
  },
  {
   "cell_type": "code",
   "execution_count": 16,
   "metadata": {},
   "outputs": [
    {
     "data": {
      "text/plain": [
       "5.888157950897754"
      ]
     },
     "execution_count": 16,
     "metadata": {},
     "output_type": "execute_result"
    }
   ],
   "source": [
    "_gamma_inverse(100)"
   ]
  },
  {
   "cell_type": "code",
   "execution_count": 65,
   "metadata": {},
   "outputs": [
    {
     "name": "stdout",
     "output_type": "stream",
     "text": [
      "alpha, beta -> mean = 135.70642909868727, sigma = -0.0\n"
     ]
    }
   ],
   "source": [
    "# Input desired mean here\n",
    "desired_mean = training_records[0]\n",
    "\n",
    "# Pick a beta (larger means larger variance, I think)\n",
    "beta = 3.641*1e-6\n",
    "\n",
    "# This determines a value for alpha\n",
    "alpha = 1/(_gamma_inverse(desired_mean/beta) - 1)\n",
    "\n",
    "# Define some bounds around alpha and beta (for lower and upper of uniform priors)\n",
    "pct_diff = 0.01\n",
    "alpha_lower = alpha*(1-pct_diff)\n",
    "alpha_upper = alpha*(1+pct_diff)\n",
    "beta_lower = beta*(1-pct_diff)\n",
    "beta_upper = beta*(1+pct_diff)\n",
    "\n",
    "# What are the means at each of these boundary points?\n",
    "def mean_sigma_weibull(alpha, beta):\n",
    "    mean = beta*scipy.special.gamma(1 + 1/alpha)\n",
    "    return mean, (beta**2)*scipy.special.gamma(1 + (2/alpha) - ((mean**2)/(beta**2)))\n",
    "\n",
    "mean, sigma = mean_sigma_weibull(alpha, beta)\n",
    "print(f\"alpha, beta -> mean = {mean}, sigma = {sigma}\")"
   ]
  },
  {
   "cell_type": "code",
   "execution_count": 66,
   "metadata": {},
   "outputs": [
    {
     "data": {
      "text/plain": [
       "0.09114177157985516"
      ]
     },
     "execution_count": 66,
     "metadata": {},
     "output_type": "execute_result"
    }
   ],
   "source": [
    "alpha"
   ]
  },
  {
   "cell_type": "code",
   "execution_count": null,
   "metadata": {},
   "outputs": [],
   "source": []
  },
  {
   "cell_type": "code",
   "execution_count": null,
   "metadata": {},
   "outputs": [],
   "source": []
  },
  {
   "cell_type": "code",
   "execution_count": null,
   "metadata": {},
   "outputs": [],
   "source": []
  },
  {
   "cell_type": "code",
   "execution_count": 21,
   "metadata": {},
   "outputs": [
    {
     "data": {
      "text/plain": [
       "135.223048928323"
      ]
     },
     "execution_count": 21,
     "metadata": {},
     "output_type": "execute_result"
    }
   ],
   "source": [
    "beta*scipy.special.gamma(1 + (1/alpha))"
   ]
  },
  {
   "cell_type": "code",
   "execution_count": 22,
   "metadata": {},
   "outputs": [
    {
     "data": {
      "text/plain": [
       "147.69846644304354"
      ]
     },
     "execution_count": 22,
     "metadata": {},
     "output_type": "execute_result"
    }
   ],
   "source": [
    "beta*scipy.special.gamma(1 + (1/(alpha - 0.01*alpha)))"
   ]
  },
  {
   "cell_type": "code",
   "execution_count": null,
   "metadata": {},
   "outputs": [],
   "source": []
  },
  {
   "cell_type": "code",
   "execution_count": 9,
   "metadata": {},
   "outputs": [],
   "source": [
    "prior_parameters = {\n",
    "        'alpha' : {\n",
    "            'lower' : alpha - 0.01*alpha,\n",
    "            'upper' : alpha - 0.01*alpha,\n",
    "        },\n",
    "        'beta' : {\n",
    "            'lower' : beta - 0.01*alpha,\n",
    "            'upper' : 1,\n",
    "        }\n",
    "    }"
   ]
  },
  {
   "cell_type": "code",
   "execution_count": null,
   "metadata": {},
   "outputs": [],
   "source": [
    "model = fm.WeibullForecastModel(training_records, prior_parameters=prior_parameters, attempt_distribution=\"gumbel\", \n",
    "                            kind=\"min\", train='all', fcast_len=len(tryfos_fcast), fcast_test_data=actual_records)\n",
    "model.fit(chains=1, draws=10000, tune=3000)\n",
    "model.posterior_predictive()\n",
    "model.forecast()"
   ]
  },
  {
   "cell_type": "code",
   "execution_count": null,
   "metadata": {},
   "outputs": [],
   "source": []
  },
  {
   "cell_type": "code",
   "execution_count": null,
   "metadata": {},
   "outputs": [],
   "source": []
  }
 ],
 "metadata": {
  "interpreter": {
   "hash": "69ffb85235ffa46b5a57f679eb7b603080f93f3e7f902cfae1f9a31760076578"
  },
  "kernelspec": {
   "display_name": "Python 3.8.10 ('pm3env')",
   "language": "python",
   "name": "python3"
  },
  "language_info": {
   "codemirror_mode": {
    "name": "ipython",
    "version": 3
   },
   "file_extension": ".py",
   "mimetype": "text/x-python",
   "name": "python",
   "nbconvert_exporter": "python",
   "pygments_lexer": "ipython3",
   "version": "3.8.10"
  },
  "orig_nbformat": 4
 },
 "nbformat": 4,
 "nbformat_minor": 2
}
