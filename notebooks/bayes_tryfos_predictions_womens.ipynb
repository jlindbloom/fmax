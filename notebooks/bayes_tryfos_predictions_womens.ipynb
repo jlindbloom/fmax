{
 "cells": [
  {
   "cell_type": "code",
   "execution_count": 1,
   "metadata": {},
   "outputs": [],
   "source": [
    "import pymc3 as pm\n",
    "import pandas as pd\n",
    "import matplotlib.pyplot as plt\n",
    "import fmax as fm\n",
    "import numpy as np"
   ]
  },
  {
   "cell_type": "markdown",
   "metadata": {},
   "source": [
    "# Some plotting functions"
   ]
  },
  {
   "cell_type": "code",
   "execution_count": 2,
   "metadata": {},
   "outputs": [],
   "source": [
    "def plot_posterior_predictive(fcast_model, label, figsize=(13,8)):\n",
    "    \"\"\"Simple plot of the posterior predictive of a forecast model.\n",
    "    \"\"\"\n",
    "\n",
    "    sample_paths = fcast_model.posterior_predictive_samples\n",
    "    index = fcast_model.train_index\n",
    "\n",
    "    # Calculate the 1%, 10%, 50%, 90%, and 99% quantiles\n",
    "    lower_bound_one = np.quantile(sample_paths, q=0.01, axis=0)\n",
    "    lower_bound_ten = np.quantile(sample_paths, q=0.1, axis=0)\n",
    "    medians = np.quantile(sample_paths, q=0.5, axis=0)\n",
    "    upper_bound_ninety = np.quantile(sample_paths, q=0.9, axis=0)\n",
    "    upper_bound_ninety_nine = np.quantile(sample_paths, q=0.99, axis=0)\n",
    "\n",
    "    # Plot\n",
    "    fig, axs = plt.subplots(figsize=figsize)\n",
    "\n",
    "    t_index = [1968+i for i in range(len(index))]\n",
    "\n",
    "    axs.fill_between(t_index, lower_bound_one, upper_bound_ninety_nine, alpha=0.4, label=\"99% CI\", color=\"C0\")\n",
    "    axs.fill_between(t_index, lower_bound_ten, upper_bound_ninety, alpha=0.7, label=\"80% CI\", color=\"C0\")\n",
    "    axs.plot(t_index, medians, label=\"Median\")\n",
    "    axs.plot(t_index, fcast_model.train_data, color=\"red\", label=\"Training\")\n",
    "    axs.legend()\n",
    "    axs.set_xlabel(\"Year\")\n",
    "    axs.set_ylabel(\"Record (in seconds)\")\n",
    "    axs.set_title(label)\n",
    "\n",
    "    fig.tight_layout()\n",
    "\n",
    "    return fig"
   ]
  },
  {
   "cell_type": "code",
   "execution_count": 3,
   "metadata": {},
   "outputs": [],
   "source": [
    "def plot_forecast(fcast_model, label, figsize=(13,8)):\n",
    "    \"\"\"Simple plot of the posterior predictive of a forecast model.\n",
    "    \"\"\"\n",
    "\n",
    "    sample_paths = fcast_model.forecast_samples\n",
    "    index = fcast_model.master_with_fcast_index\n",
    "\n",
    "    # Calculate the 1%, 10%, 50%, 90%, and 99% quantiles\n",
    "    lower_bound_one = np.quantile(sample_paths, q=0.025, axis=0)\n",
    "    lower_bound_ten = np.quantile(sample_paths, q=0.16, axis=0)\n",
    "    medians = np.quantile(sample_paths, q=0.5, axis=0)\n",
    "    upper_bound_ninety = np.quantile(sample_paths, q=0.84, axis=0)\n",
    "    upper_bound_ninety_nine = np.quantile(sample_paths, q=0.975, axis=0)\n",
    "\n",
    "    # Plot\n",
    "    fig, axs = plt.subplots(figsize=figsize)\n",
    "        \n",
    "    # axs.fill_between(index, lower_bound_one, upper_bound_ninety_nine, alpha=0.4, label=\"99% CI\", color=\"C0\")\n",
    "    # axs.fill_between(index, lower_bound_ten, upper_bound_ninety, alpha=0.7, label=\"80% CI\", color=\"C0\")\n",
    "    \n",
    "    axs.fill_between(index, lower_bound_one, upper_bound_ninety_nine, alpha=0.4, label=\"95% CI\", color=\"C0\")\n",
    "    axs.fill_between(index, lower_bound_ten, upper_bound_ninety, alpha=0.7, label=\"68% CI\", color=\"C0\")\n",
    "    \n",
    "    axs.plot(index, medians, label=\"Median\")\n",
    "    axs.plot(fcast_model.train_index, fcast_model.train_data, color=\"red\", label=\"Training\")\n",
    "    #axs.plot(fcast_model.fcast_index, test_data, color=\"black\", label=\"Tryfos\")\n",
    "    #axs.plot(fcast_model.fcast_index, actual, color=\"green\", label=\"Actual\")\n",
    "    axs.legend()\n",
    "    axs.set_xlabel(\"Year\")\n",
    "    axs.set_ylabel(\"Record (in seconds)\")\n",
    "    axs.set_title(label)\n",
    "\n",
    "    fig.tight_layout()\n",
    "\n",
    "    return fig"
   ]
  },
  {
   "cell_type": "code",
   "execution_count": 4,
   "metadata": {},
   "outputs": [],
   "source": [
    "def plot_forecast_fin(fcast_model, label, figsize=(13,8)):\n",
    "    \"\"\"Simple plot of the posterior predictive of a forecast model.\n",
    "    \"\"\"\n",
    "\n",
    "    sample_paths = fcast_model.forecast_samples\n",
    "    index = fcast_model.master_with_fcast_index\n",
    "\n",
    "    # Convert to the actual years\n",
    "    index = [1968+i for i in range(len(index))]\n",
    "\n",
    "    # Calculate the 1%, 10%, 50%, 90%, and 99% quantiles\n",
    "    lower_bound_one = np.quantile(sample_paths, q=0.025, axis=0)\n",
    "    lower_bound_ten = np.quantile(sample_paths, q=0.16, axis=0)\n",
    "    medians = np.quantile(sample_paths, q=0.5, axis=0)\n",
    "    upper_bound_ninety = np.quantile(sample_paths, q=0.84, axis=0)\n",
    "    upper_bound_ninety_nine = np.quantile(sample_paths, q=0.975, axis=0)\n",
    "\n",
    "    # Plot\n",
    "    fig, axs = plt.subplots(figsize=figsize)\n",
    "    \n",
    "    axs.fill_between(index, lower_bound_one, upper_bound_ninety_nine, alpha=0.4, label=\"95% CI\", color=\"C0\")\n",
    "    axs.fill_between(index, lower_bound_ten, upper_bound_ninety, alpha=0.7, label=\"68% CI\", color=\"C0\")\n",
    "    axs.plot(index, medians, label=\"Median\", color=\"blue\")\n",
    "    axs.plot([1968+i for i in range(len(fcast_model.train_index))], fcast_model.train_data, color=\"green\", label=\"Training\")\n",
    "    #axs.plot([1983+i for i in range(len(fcast_model.fcast_index))], test_data, color=\"black\", label=\"Tryfos\")\n",
    "    #axs.plot([1983+i for i in range(len(fcast_model.fcast_index))], actual, color=\"red\", label=\"Actual\")\n",
    "    axs.legend()\n",
    "    axs.set_xlabel(\"Year\")\n",
    "    axs.set_ylabel(\"Record (in seconds)\")\n",
    "    axs.set_title(label)\n",
    "\n",
    "    fig.tight_layout()\n",
    "\n",
    "    return fig"
   ]
  },
  {
   "cell_type": "code",
   "execution_count": 5,
   "metadata": {},
   "outputs": [],
   "source": [
    "def plot_forecast_fin_w_mean(fcast_model, test_data, label, actual, figsize=(13,8)):\n",
    "    \"\"\"Simple plot of the posterior predictive of a forecast model.\n",
    "    \"\"\"\n",
    "\n",
    "    sample_paths = fcast_model.forecast_samples\n",
    "    index = fcast_model.master_with_fcast_index\n",
    "\n",
    "    # Convert to the actual years\n",
    "    index = [1968+i for i in range(len(index))]\n",
    "\n",
    "    # Calculate the 1%, 10%, 50%, 90%, and 99% quantiles\n",
    "    lower_bound_one = np.quantile(sample_paths, q=0.025, axis=0)\n",
    "    lower_bound_ten = np.quantile(sample_paths, q=0.16, axis=0)\n",
    "    medians = np.quantile(sample_paths, q=0.5, axis=0)\n",
    "    upper_bound_ninety = np.quantile(sample_paths, q=0.84, axis=0)\n",
    "    upper_bound_ninety_nine = np.quantile(sample_paths, q=0.975, axis=0)\n",
    "    mean = np.mean(sample_paths, axis=0)\n",
    "\n",
    "    # Plot\n",
    "    fig, axs = plt.subplots(figsize=figsize)\n",
    "    \n",
    "    axs.fill_between(index, lower_bound_one, upper_bound_ninety_nine, alpha=0.4, label=\"95% CI\", color=\"C0\")\n",
    "    axs.fill_between(index, lower_bound_ten, upper_bound_ninety, alpha=0.7, label=\"68% CI\", color=\"C0\")\n",
    "    axs.plot(index, medians, label=\"Median\", color=\"blue\")\n",
    "    axs.plot(index, mean, label=\"Mean\", color=\"purple\")\n",
    "    axs.plot([1968+i for i in range(len(fcast_model.train_index))], fcast_model.train_data, color=\"green\", label=\"Training\")\n",
    "    axs.plot([1983+i for i in range(len(fcast_model.fcast_index))], test_data, color=\"black\", label=\"Tryfos\")\n",
    "    axs.plot([1983+i for i in range(len(fcast_model.fcast_index))], actual, color=\"red\", label=\"Actual\")\n",
    "    axs.legend()\n",
    "    axs.set_xlabel(\"Year\")\n",
    "    axs.set_ylabel(\"Record (in seconds)\")\n",
    "    axs.set_title(label)\n",
    "\n",
    "    fig.tight_layout()\n",
    "\n",
    "    return fig"
   ]
  },
  {
   "cell_type": "code",
   "execution_count": 6,
   "metadata": {},
   "outputs": [],
   "source": [
    "def plot_forecast_small(fcast_model, label):\n",
    "    \"\"\"Simple plot of the posterior predictive of a forecast model.\n",
    "    \"\"\"\n",
    "\n",
    "    sample_paths = fcast_model.forecast_samples\n",
    "    index = fcast_model.master_with_fcast_index\n",
    "\n",
    "    # Convert to the actual years\n",
    "    index = [1968+i for i in range(len(index))]\n",
    "\n",
    "    # Calculate the 1%, 10%, 50%, 90%, and 99% quantiles\n",
    "    lower_bound_one = np.quantile(sample_paths, q=0.025, axis=0)\n",
    "    lower_bound_ten = np.quantile(sample_paths, q=0.16, axis=0)\n",
    "    medians = np.quantile(sample_paths, q=0.5, axis=0)\n",
    "    upper_bound_ninety = np.quantile(sample_paths, q=0.84, axis=0)\n",
    "    upper_bound_ninety_nine = np.quantile(sample_paths, q=0.975, axis=0)\n",
    "\n",
    "    # Plot\n",
    "    fig, axs = plt.subplots(figsize=(8,5))\n",
    "    \n",
    "    axs.fill_between(index, lower_bound_one, upper_bound_ninety_nine, alpha=0.4, label=\"95% CI\", color=\"C0\")\n",
    "    axs.fill_between(index, lower_bound_ten, upper_bound_ninety, alpha=0.7, label=\"68% CI\", color=\"C0\")\n",
    "    axs.plot(index, medians, label=\"Median\", color=\"blue\")\n",
    "    axs.plot([1968+i for i in range(len(fcast_model.train_index))], fcast_model.train_data, color=\"green\", label=\"Training\")\n",
    "    #axs.plot([1983+i for i in range(len(fcast_model.fcast_index))], test_data, color=\"black\", label=\"Tryfos\")\n",
    "    #axs.plot([1983+i for i in range(len(fcast_model.fcast_index))], actual, color=\"red\", label=\"Actual\")\n",
    "    axs.legend()\n",
    "    #axs.set_xlabel(\"Period\")\n",
    "    #axs.set_ylabel(\"Record\")\n",
    "    #axs.set_title(label)\n",
    "\n",
    "    fig.tight_layout()\n",
    "\n",
    "    return fig"
   ]
  },
  {
   "cell_type": "markdown",
   "metadata": {},
   "source": [
    "# Results for Gaussian"
   ]
  },
  {
   "cell_type": "code",
   "execution_count": 8,
   "metadata": {},
   "outputs": [
    {
     "name": "stderr",
     "output_type": "stream",
     "text": [
      "WARNING (theano.tensor.opt): Optimization Warning: The Op erfcx does not provide a C implementation. As well as being potentially slow, this also disables loop fusion.\n",
      "Auto-assigning NUTS sampler...\n",
      "Initializing NUTS using jitter+adapt_diag...\n",
      "Sequential sampling (10 chains in 1 job)\n",
      "NUTS: [sigma, mu]\n"
     ]
    },
    {
     "data": {
      "text/html": [
       "\n",
       "    <div>\n",
       "        <style>\n",
       "            /* Turns off some styling */\n",
       "            progress {\n",
       "                /* gets rid of default border in Firefox and Opera. */\n",
       "                border: none;\n",
       "                /* Needs to be in here for Safari polyfill so background images work as expected. */\n",
       "                background-size: auto;\n",
       "            }\n",
       "            .progress-bar-interrupted, .progress-bar-interrupted::-webkit-progress-bar {\n",
       "                background: #F44336;\n",
       "            }\n",
       "        </style>\n",
       "      <progress value='10000' class='' max='10000' style='width:300px; height:20px; vertical-align: middle;'></progress>\n",
       "      100.00% [10000/10000 00:13<00:00 Sampling chain 0, 0 divergences]\n",
       "    </div>\n",
       "    "
      ],
      "text/plain": [
       "<IPython.core.display.HTML object>"
      ]
     },
     "metadata": {},
     "output_type": "display_data"
    },
    {
     "data": {
      "text/html": [
       "\n",
       "    <div>\n",
       "        <style>\n",
       "            /* Turns off some styling */\n",
       "            progress {\n",
       "                /* gets rid of default border in Firefox and Opera. */\n",
       "                border: none;\n",
       "                /* Needs to be in here for Safari polyfill so background images work as expected. */\n",
       "                background-size: auto;\n",
       "            }\n",
       "            .progress-bar-interrupted, .progress-bar-interrupted::-webkit-progress-bar {\n",
       "                background: #F44336;\n",
       "            }\n",
       "        </style>\n",
       "      <progress value='10000' class='' max='10000' style='width:300px; height:20px; vertical-align: middle;'></progress>\n",
       "      100.00% [10000/10000 00:14<00:00 Sampling chain 1, 0 divergences]\n",
       "    </div>\n",
       "    "
      ],
      "text/plain": [
       "<IPython.core.display.HTML object>"
      ]
     },
     "metadata": {},
     "output_type": "display_data"
    },
    {
     "data": {
      "text/html": [
       "\n",
       "    <div>\n",
       "        <style>\n",
       "            /* Turns off some styling */\n",
       "            progress {\n",
       "                /* gets rid of default border in Firefox and Opera. */\n",
       "                border: none;\n",
       "                /* Needs to be in here for Safari polyfill so background images work as expected. */\n",
       "                background-size: auto;\n",
       "            }\n",
       "            .progress-bar-interrupted, .progress-bar-interrupted::-webkit-progress-bar {\n",
       "                background: #F44336;\n",
       "            }\n",
       "        </style>\n",
       "      <progress value='10000' class='' max='10000' style='width:300px; height:20px; vertical-align: middle;'></progress>\n",
       "      100.00% [10000/10000 00:13<00:00 Sampling chain 2, 0 divergences]\n",
       "    </div>\n",
       "    "
      ],
      "text/plain": [
       "<IPython.core.display.HTML object>"
      ]
     },
     "metadata": {},
     "output_type": "display_data"
    },
    {
     "data": {
      "text/html": [
       "\n",
       "    <div>\n",
       "        <style>\n",
       "            /* Turns off some styling */\n",
       "            progress {\n",
       "                /* gets rid of default border in Firefox and Opera. */\n",
       "                border: none;\n",
       "                /* Needs to be in here for Safari polyfill so background images work as expected. */\n",
       "                background-size: auto;\n",
       "            }\n",
       "            .progress-bar-interrupted, .progress-bar-interrupted::-webkit-progress-bar {\n",
       "                background: #F44336;\n",
       "            }\n",
       "        </style>\n",
       "      <progress value='10000' class='' max='10000' style='width:300px; height:20px; vertical-align: middle;'></progress>\n",
       "      100.00% [10000/10000 00:14<00:00 Sampling chain 3, 0 divergences]\n",
       "    </div>\n",
       "    "
      ],
      "text/plain": [
       "<IPython.core.display.HTML object>"
      ]
     },
     "metadata": {},
     "output_type": "display_data"
    },
    {
     "data": {
      "text/html": [
       "\n",
       "    <div>\n",
       "        <style>\n",
       "            /* Turns off some styling */\n",
       "            progress {\n",
       "                /* gets rid of default border in Firefox and Opera. */\n",
       "                border: none;\n",
       "                /* Needs to be in here for Safari polyfill so background images work as expected. */\n",
       "                background-size: auto;\n",
       "            }\n",
       "            .progress-bar-interrupted, .progress-bar-interrupted::-webkit-progress-bar {\n",
       "                background: #F44336;\n",
       "            }\n",
       "        </style>\n",
       "      <progress value='10000' class='' max='10000' style='width:300px; height:20px; vertical-align: middle;'></progress>\n",
       "      100.00% [10000/10000 00:11<00:00 Sampling chain 4, 0 divergences]\n",
       "    </div>\n",
       "    "
      ],
      "text/plain": [
       "<IPython.core.display.HTML object>"
      ]
     },
     "metadata": {},
     "output_type": "display_data"
    },
    {
     "data": {
      "text/html": [
       "\n",
       "    <div>\n",
       "        <style>\n",
       "            /* Turns off some styling */\n",
       "            progress {\n",
       "                /* gets rid of default border in Firefox and Opera. */\n",
       "                border: none;\n",
       "                /* Needs to be in here for Safari polyfill so background images work as expected. */\n",
       "                background-size: auto;\n",
       "            }\n",
       "            .progress-bar-interrupted, .progress-bar-interrupted::-webkit-progress-bar {\n",
       "                background: #F44336;\n",
       "            }\n",
       "        </style>\n",
       "      <progress value='10000' class='' max='10000' style='width:300px; height:20px; vertical-align: middle;'></progress>\n",
       "      100.00% [10000/10000 00:14<00:00 Sampling chain 5, 0 divergences]\n",
       "    </div>\n",
       "    "
      ],
      "text/plain": [
       "<IPython.core.display.HTML object>"
      ]
     },
     "metadata": {},
     "output_type": "display_data"
    },
    {
     "data": {
      "text/html": [
       "\n",
       "    <div>\n",
       "        <style>\n",
       "            /* Turns off some styling */\n",
       "            progress {\n",
       "                /* gets rid of default border in Firefox and Opera. */\n",
       "                border: none;\n",
       "                /* Needs to be in here for Safari polyfill so background images work as expected. */\n",
       "                background-size: auto;\n",
       "            }\n",
       "            .progress-bar-interrupted, .progress-bar-interrupted::-webkit-progress-bar {\n",
       "                background: #F44336;\n",
       "            }\n",
       "        </style>\n",
       "      <progress value='10000' class='' max='10000' style='width:300px; height:20px; vertical-align: middle;'></progress>\n",
       "      100.00% [10000/10000 00:13<00:00 Sampling chain 6, 0 divergences]\n",
       "    </div>\n",
       "    "
      ],
      "text/plain": [
       "<IPython.core.display.HTML object>"
      ]
     },
     "metadata": {},
     "output_type": "display_data"
    },
    {
     "data": {
      "text/html": [
       "\n",
       "    <div>\n",
       "        <style>\n",
       "            /* Turns off some styling */\n",
       "            progress {\n",
       "                /* gets rid of default border in Firefox and Opera. */\n",
       "                border: none;\n",
       "                /* Needs to be in here for Safari polyfill so background images work as expected. */\n",
       "                background-size: auto;\n",
       "            }\n",
       "            .progress-bar-interrupted, .progress-bar-interrupted::-webkit-progress-bar {\n",
       "                background: #F44336;\n",
       "            }\n",
       "        </style>\n",
       "      <progress value='10000' class='' max='10000' style='width:300px; height:20px; vertical-align: middle;'></progress>\n",
       "      100.00% [10000/10000 00:12<00:00 Sampling chain 7, 0 divergences]\n",
       "    </div>\n",
       "    "
      ],
      "text/plain": [
       "<IPython.core.display.HTML object>"
      ]
     },
     "metadata": {},
     "output_type": "display_data"
    },
    {
     "data": {
      "text/html": [
       "\n",
       "    <div>\n",
       "        <style>\n",
       "            /* Turns off some styling */\n",
       "            progress {\n",
       "                /* gets rid of default border in Firefox and Opera. */\n",
       "                border: none;\n",
       "                /* Needs to be in here for Safari polyfill so background images work as expected. */\n",
       "                background-size: auto;\n",
       "            }\n",
       "            .progress-bar-interrupted, .progress-bar-interrupted::-webkit-progress-bar {\n",
       "                background: #F44336;\n",
       "            }\n",
       "        </style>\n",
       "      <progress value='10000' class='' max='10000' style='width:300px; height:20px; vertical-align: middle;'></progress>\n",
       "      100.00% [10000/10000 00:13<00:00 Sampling chain 8, 0 divergences]\n",
       "    </div>\n",
       "    "
      ],
      "text/plain": [
       "<IPython.core.display.HTML object>"
      ]
     },
     "metadata": {},
     "output_type": "display_data"
    },
    {
     "data": {
      "text/html": [
       "\n",
       "    <div>\n",
       "        <style>\n",
       "            /* Turns off some styling */\n",
       "            progress {\n",
       "                /* gets rid of default border in Firefox and Opera. */\n",
       "                border: none;\n",
       "                /* Needs to be in here for Safari polyfill so background images work as expected. */\n",
       "                background-size: auto;\n",
       "            }\n",
       "            .progress-bar-interrupted, .progress-bar-interrupted::-webkit-progress-bar {\n",
       "                background: #F44336;\n",
       "            }\n",
       "        </style>\n",
       "      <progress value='6315' class='' max='10000' style='width:300px; height:20px; vertical-align: middle;'></progress>\n",
       "      63.15% [6315/10000 00:08<00:04 Sampling chain 9, 0 divergences]\n",
       "    </div>\n",
       "    "
      ],
      "text/plain": [
       "<IPython.core.display.HTML object>"
      ]
     },
     "metadata": {},
     "output_type": "display_data"
    }
   ],
   "source": [
    "#whiches = [\"1000m\", \"1m\", \"5000m\", \"Marathon\", \"10000m\", \"20000m\"]\n",
    "#whiches = ['20000m']\n",
    "whiches = [\"1000m\", \"1m\", \"5000m\", \"Marathon\", \"10000m\"]\n",
    "#whiches = [\"1000m\", \"1m\", \"5000m\", \"Marathon\"]\n",
    "#whiches = [\"1000m\"]\n",
    "#whiches = [\"1000m\"]\n",
    "#whiches = ['1m']\n",
    "#whiches = ['Marathon']\n",
    "\n",
    "mses = {}\n",
    "avg_log_probs = {}\n",
    "\n",
    "s5_quantiles = {}\n",
    "s15_quantiles = {}\n",
    "s50_quantiles = {}\n",
    "s85_quantiles = {}\n",
    "s95_quantiles = {}\n",
    "means = {}\n",
    "\n",
    "\n",
    "fails = []\n",
    "\n",
    "for which in whiches:\n",
    "  try:\n",
    "    # df = pd.read_csv(\"tryfos_data.csv\")\n",
    "    # years, records = df[\"Year\"].values, df[which].values # Years 1983 and onward are just forecasts\n",
    "\n",
    "    # actual_df = pd.read_csv(\"tryfos_actual.csv\")\n",
    "    # _, actual_records = actual_df[\"Year\"].values, actual_df[which].values\n",
    "\n",
    "    df = pd.read_csv('tryfos_until_present.csv')\n",
    "    years, records = df[\"Year\"].values, df[which].values\n",
    "\n",
    "    training_years = years\n",
    "    training_records = records\n",
    "    # tryfos_years = years[15:]\n",
    "    # tryfos_fcast = records[15:]\n",
    "\n",
    "    prior_parameters = {\n",
    "              'mu' : {\n",
    "                'mean' : training_records[0],\n",
    "                'std' : 100*training_records[0],\n",
    "              },\n",
    "              'sigma' : {\n",
    "                'lam' : 1.0/100.0\n",
    "              }\n",
    "            }\n",
    "\n",
    "    model = fm.ForecastModel(training_records, prior_parameters=prior_parameters, attempt_distribution=\"gaussian\", \n",
    "                                kind=\"min\", train='all', fcast_len=10, fcast_test_data=None)\n",
    "                                \n",
    "    model.fit(chains=10, draws=5000)\n",
    "    model.posterior_predictive()\n",
    "    model.forecast()\n",
    "\n",
    "    # # MSE calculation\n",
    "    # median = np.quantile(model.forecast_samples[:,-15:], q=0.5, axis=0)\n",
    "    # bayes_mse = fm.mse(median, model.fcast_test_data)\n",
    "    # tryfos_mse = fm.mse(tryfos_fcast, model.fcast_test_data)\n",
    "    # baseline_fcast = training_records[-1]*np.ones_like(model.fcast_test_data)\n",
    "    # baseline_mse = fm.mse(baseline_fcast, model.fcast_test_data)\n",
    "    # mses[which] = (bayes_mse, tryfos_mse, baseline_mse)\n",
    "\n",
    "    # # Average logp\n",
    "    # avg_log_probs[which] = np.mean(model.posterior_predictive_ppc[\"log_like_holdout\"])\n",
    "    \n",
    "    sample_paths = model.forecast_samples\n",
    "\n",
    "    s5_quant = np.quantile(sample_paths, q=0.05, axis=0)\n",
    "    s15_quant = np.quantile(sample_paths, q=0.15, axis=0)\n",
    "    s50_quant = np.quantile(sample_paths, q=0.5, axis=0)\n",
    "    s85_quant = np.quantile(sample_paths, q=0.85, axis=0)\n",
    "    s95_quant = np.quantile(sample_paths, q=0.95, axis=0)\n",
    "    mean = np.mean(sample_paths, axis=0)\n",
    "\n",
    "    s5_quantiles[which] = s5_quant\n",
    "    s15_quantiles[which] = s15_quant\n",
    "    s50_quantiles[which] = s50_quant\n",
    "    s85_quantiles[which] = s85_quant\n",
    "    s95_quantiles[which] = s95_quant\n",
    "    means[which] = mean\n",
    "\n",
    "\n",
    "    # Plots\n",
    "    fig = plot_posterior_predictive(model, f\"{which}, Gaussian Attempts, Posterior Predictive\")\n",
    "    fig.savefig(f\"predictions/gauss/{which}_gaussian_attempts_post_pred.png\")\n",
    "\n",
    "    # fig = plot_forecast(model, tryfos_fcast, f\"{which}, Gaussian Attempts, Forecast\", actual_records)\n",
    "    # fig.savefig(f\"{which}_gaussian_attempts_forecast.png\")\n",
    "\n",
    "    fig = plot_forecast_fin(model,  f\"{which}, Gaussian Attempts\")\n",
    "    fig.savefig(f\"predictions/gauss/final_{which}_gaussian_attempts_forecast.png\")\n",
    "\n",
    "    fig = plot_forecast_fin_w_mean(model,  f\"{which}, Gaussian Attempts\")\n",
    "    fig.savefig(f\"predictions/gauss/final_{which}_gaussian_attempts_forecast_w_mean.png\")\n",
    "\n",
    "    fig = plot_forecast_small(model, f\"{which}, Gaussian Attempts\")\n",
    "    fig.savefig(f\"predictions/gauss/s_final_{which}_gaussian_attempts_forecast.png\")\n",
    "\n",
    "\n",
    "  except:\n",
    "    print(f\"failed for {which}\")\n",
    "    fails.append(which)"
   ]
  },
  {
   "cell_type": "code",
   "execution_count": null,
   "metadata": {},
   "outputs": [],
   "source": []
  },
  {
   "cell_type": "code",
   "execution_count": null,
   "metadata": {},
   "outputs": [
    {
     "data": {
      "text/plain": [
       "{}"
      ]
     },
     "execution_count": 7,
     "metadata": {},
     "output_type": "execute_result"
    }
   ],
   "source": [
    "mses"
   ]
  },
  {
   "cell_type": "code",
   "execution_count": null,
   "metadata": {},
   "outputs": [
    {
     "data": {
      "text/plain": [
       "{}"
      ]
     },
     "execution_count": 8,
     "metadata": {},
     "output_type": "execute_result"
    }
   ],
   "source": [
    "avg_log_probs"
   ]
  },
  {
   "cell_type": "code",
   "execution_count": null,
   "metadata": {},
   "outputs": [
    {
     "name": "stdout",
     "output_type": "stream",
     "text": [
      "{'1000m': array([136.2       , 136.2       , 136.2       , 136.2       ,\n",
      "       136.2       , 136.        , 133.9       , 133.9       ,\n",
      "       133.9       , 133.9       , 133.9       , 133.9       ,\n",
      "       133.4       , 132.18      , 132.18      , 132.18      ,\n",
      "       132.18      , 132.18      , 132.18      , 132.18      ,\n",
      "       132.18      , 132.18      , 132.18      , 132.18      ,\n",
      "       132.18      , 132.18      , 132.18      , 132.18      ,\n",
      "       132.18      , 132.18      , 132.18      , 131.96      ,\n",
      "       131.96      , 131.96      , 131.96      , 131.96      ,\n",
      "       131.96      , 131.96      , 131.96      , 131.96      ,\n",
      "       131.96      , 131.96      , 131.96      , 131.96      ,\n",
      "       131.96      , 131.96      , 131.96      , 131.96      ,\n",
      "       131.96      , 131.96      , 131.96      , 131.96      ,\n",
      "       131.96      , 131.96      , 129.43192692, 128.33086652,\n",
      "       127.60210292, 127.10805203, 126.71310619, 126.40101745,\n",
      "       126.14992551, 125.94327472, 125.75026143, 125.55574813]), '1m': array([231.1       , 231.1       , 231.1       , 231.1       ,\n",
      "       231.1       , 231.1       , 231.1       , 229.4       ,\n",
      "       229.4       , 229.4       , 229.4       , 228.95      ,\n",
      "       228.8       , 227.33      , 227.33      , 227.33      ,\n",
      "       227.33      , 226.32      , 226.32      , 226.32      ,\n",
      "       226.32      , 226.32      , 226.32      , 226.32      ,\n",
      "       226.32      , 224.39      , 224.39      , 224.39      ,\n",
      "       224.39      , 224.39      , 224.39      , 223.13      ,\n",
      "       223.13      , 223.13      , 223.13      , 223.13      ,\n",
      "       223.13      , 223.13      , 223.13      , 223.13      ,\n",
      "       223.13      , 223.13      , 223.13      , 223.13      ,\n",
      "       223.13      , 223.13      , 223.13      , 223.13      ,\n",
      "       223.13      , 223.13      , 223.13      , 223.13      ,\n",
      "       223.13      , 223.13      , 221.60443767, 220.13805001,\n",
      "       219.40867394, 218.84741728, 218.45377867, 218.04324078,\n",
      "       217.71872147, 217.45841045, 217.24027625, 217.00512938]), '5000m': array([796.6       , 796.6       , 796.6       , 796.6       ,\n",
      "       793.        , 793.        , 793.        , 793.        ,\n",
      "       793.        , 792.9       , 788.4       , 788.4       ,\n",
      "       788.4       , 786.2       , 780.42      , 780.42      ,\n",
      "       780.42      , 780.4       , 780.4       , 778.39      ,\n",
      "       778.39      , 778.39      , 778.39      , 778.39      ,\n",
      "       778.39      , 778.39      , 776.96      , 764.39      ,\n",
      "       764.39      , 759.74      , 759.36      , 759.36      ,\n",
      "       759.36      , 759.36      , 759.36      , 759.36      ,\n",
      "       757.35      , 757.35      , 757.35      , 757.35      ,\n",
      "       757.35      , 757.35      , 757.35      , 757.35      ,\n",
      "       757.35      , 757.35      , 757.35      , 757.35      ,\n",
      "       757.35      , 757.35      , 757.35      , 757.35      ,\n",
      "       755.36      , 755.36      , 748.61815004, 742.72135609,\n",
      "       739.62591547, 737.25028235, 735.53059012, 734.18203789,\n",
      "       733.06485902, 732.24730442, 731.22830032, 730.51587031]), 'Marathon': array([7777.        , 7714.        , 7714.        , 7714.        ,\n",
      "       7714.        , 7714.        , 7714.        , 7714.        ,\n",
      "       7714.        , 7714.        , 7714.        , 7714.        ,\n",
      "       7714.        , 7693.        , 7693.        , 7693.        ,\n",
      "       7685.        , 7632.        , 7632.        , 7632.        ,\n",
      "       7610.        , 7610.        , 7610.        , 7610.        ,\n",
      "       7610.        , 7610.        , 7610.        , 7610.        ,\n",
      "       7610.        , 7610.        , 7565.        , 7542.        ,\n",
      "       7542.        , 7542.        , 7538.        , 7495.        ,\n",
      "       7495.        , 7495.        , 7495.        , 7466.        ,\n",
      "       7439.        , 7439.        , 7439.        , 7418.        ,\n",
      "       7418.        , 7403.        , 7377.        , 7377.        ,\n",
      "       7377.        , 7377.        , 7299.        , 7299.        ,\n",
      "       7299.        , 7299.        , 7287.65754943, 7234.14595424,\n",
      "       7204.40592413, 7184.68727877, 7167.81255476, 7153.78768956,\n",
      "       7143.28627862, 7133.45148462, 7126.46015244, 7119.34116077]), '10000m': array([1659.4       , 1659.4       , 1659.4       , 1659.4       ,\n",
      "       1658.4       , 1650.8       , 1650.8       , 1650.8       ,\n",
      "       1650.8       , 1650.5       , 1642.4       , 1642.4       ,\n",
      "       1642.4       , 1642.4       , 1642.4       , 1642.4       ,\n",
      "       1633.81      , 1633.81      , 1633.81      , 1633.81      ,\n",
      "       1633.81      , 1628.23      , 1628.23      , 1628.23      ,\n",
      "       1628.23      , 1618.38      , 1612.23      , 1603.53      ,\n",
      "       1598.08      , 1587.85      , 1582.75      , 1582.75      ,\n",
      "       1582.75      , 1582.75      , 1582.75      , 1582.75      ,\n",
      "       1580.31      , 1577.53      , 1577.53      , 1577.53      ,\n",
      "       1577.53      , 1577.53      , 1577.53      , 1577.53      ,\n",
      "       1577.53      , 1577.53      , 1577.53      , 1577.53      ,\n",
      "       1577.53      , 1577.53      , 1577.53      , 1577.53      ,\n",
      "       1571.        , 1571.        , 1558.34158362, 1546.61677858,\n",
      "       1539.46676424, 1535.08136312, 1531.32450929, 1528.24113056,\n",
      "       1525.68761901, 1523.69766598, 1521.83439928, 1520.11799065])}\n",
      "{'1000m': array([136.2       , 136.2       , 136.2       , 136.2       ,\n",
      "       136.2       , 136.        , 133.9       , 133.9       ,\n",
      "       133.9       , 133.9       , 133.9       , 133.9       ,\n",
      "       133.4       , 132.18      , 132.18      , 132.18      ,\n",
      "       132.18      , 132.18      , 132.18      , 132.18      ,\n",
      "       132.18      , 132.18      , 132.18      , 132.18      ,\n",
      "       132.18      , 132.18      , 132.18      , 132.18      ,\n",
      "       132.18      , 132.18      , 132.18      , 131.96      ,\n",
      "       131.96      , 131.96      , 131.96      , 131.96      ,\n",
      "       131.96      , 131.96      , 131.96      , 131.96      ,\n",
      "       131.96      , 131.96      , 131.96      , 131.96      ,\n",
      "       131.96      , 131.96      , 131.96      , 131.96      ,\n",
      "       131.96      , 131.96      , 131.96      , 131.96      ,\n",
      "       131.96      , 131.96      , 131.3945866 , 130.37917978,\n",
      "       129.76981422, 129.34940099, 129.029242  , 128.77162081,\n",
      "       128.55591887, 128.36128073, 128.19875889, 128.06833646]), '1m': array([231.1       , 231.1       , 231.1       , 231.1       ,\n",
      "       231.1       , 231.1       , 231.1       , 229.4       ,\n",
      "       229.4       , 229.4       , 229.4       , 228.95      ,\n",
      "       228.8       , 227.33      , 227.33      , 227.33      ,\n",
      "       227.33      , 226.32      , 226.32      , 226.32      ,\n",
      "       226.32      , 226.32      , 226.32      , 226.32      ,\n",
      "       226.32      , 224.39      , 224.39      , 224.39      ,\n",
      "       224.39      , 224.39      , 224.39      , 223.13      ,\n",
      "       223.13      , 223.13      , 223.13      , 223.13      ,\n",
      "       223.13      , 223.13      , 223.13      , 223.13      ,\n",
      "       223.13      , 223.13      , 223.13      , 223.13      ,\n",
      "       223.13      , 223.13      , 223.13      , 223.13      ,\n",
      "       223.13      , 223.13      , 223.13      , 223.13      ,\n",
      "       223.13      , 223.13      , 223.13      , 222.63720015,\n",
      "       221.87644394, 221.35955159, 220.96323943, 220.64695639,\n",
      "       220.36576037, 220.10784652, 219.90487622, 219.7569051 ]), '5000m': array([796.6       , 796.6       , 796.6       , 796.6       ,\n",
      "       793.        , 793.        , 793.        , 793.        ,\n",
      "       793.        , 792.9       , 788.4       , 788.4       ,\n",
      "       788.4       , 786.2       , 780.42      , 780.42      ,\n",
      "       780.42      , 780.4       , 780.4       , 778.39      ,\n",
      "       778.39      , 778.39      , 778.39      , 778.39      ,\n",
      "       778.39      , 778.39      , 776.96      , 764.39      ,\n",
      "       764.39      , 759.74      , 759.36      , 759.36      ,\n",
      "       759.36      , 759.36      , 759.36      , 759.36      ,\n",
      "       757.35      , 757.35      , 757.35      , 757.35      ,\n",
      "       757.35      , 757.35      , 757.35      , 757.35      ,\n",
      "       757.35      , 757.35      , 757.35      , 757.35      ,\n",
      "       757.35      , 757.35      , 757.35      , 757.35      ,\n",
      "       755.36      , 755.36      , 755.36      , 753.03107601,\n",
      "       749.61598312, 747.25389257, 745.52063474, 744.00808607,\n",
      "       742.85642034, 741.87301535, 740.99865805, 740.17717164]), 'Marathon': array([7777.        , 7714.        , 7714.        , 7714.        ,\n",
      "       7714.        , 7714.        , 7714.        , 7714.        ,\n",
      "       7714.        , 7714.        , 7714.        , 7714.        ,\n",
      "       7714.        , 7693.        , 7693.        , 7693.        ,\n",
      "       7685.        , 7632.        , 7632.        , 7632.        ,\n",
      "       7610.        , 7610.        , 7610.        , 7610.        ,\n",
      "       7610.        , 7610.        , 7610.        , 7610.        ,\n",
      "       7610.        , 7610.        , 7565.        , 7542.        ,\n",
      "       7542.        , 7542.        , 7538.        , 7495.        ,\n",
      "       7495.        , 7495.        , 7495.        , 7466.        ,\n",
      "       7439.        , 7439.        , 7439.        , 7418.        ,\n",
      "       7418.        , 7403.        , 7377.        , 7377.        ,\n",
      "       7377.        , 7377.        , 7299.        , 7299.        ,\n",
      "       7299.        , 7299.        , 7299.        , 7299.        ,\n",
      "       7293.17746519, 7272.47335373, 7256.47356567, 7243.61504731,\n",
      "       7232.43386912, 7222.50126299, 7213.85006577, 7205.97428115]), '10000m': array([1659.4       , 1659.4       , 1659.4       , 1659.4       ,\n",
      "       1658.4       , 1650.8       , 1650.8       , 1650.8       ,\n",
      "       1650.8       , 1650.5       , 1642.4       , 1642.4       ,\n",
      "       1642.4       , 1642.4       , 1642.4       , 1642.4       ,\n",
      "       1633.81      , 1633.81      , 1633.81      , 1633.81      ,\n",
      "       1633.81      , 1628.23      , 1628.23      , 1628.23      ,\n",
      "       1628.23      , 1618.38      , 1612.23      , 1603.53      ,\n",
      "       1598.08      , 1587.85      , 1582.75      , 1582.75      ,\n",
      "       1582.75      , 1582.75      , 1582.75      , 1582.75      ,\n",
      "       1580.31      , 1577.53      , 1577.53      , 1577.53      ,\n",
      "       1577.53      , 1577.53      , 1577.53      , 1577.53      ,\n",
      "       1577.53      , 1577.53      , 1577.53      , 1577.53      ,\n",
      "       1577.53      , 1577.53      , 1577.53      , 1577.53      ,\n",
      "       1571.        , 1571.        , 1571.        , 1567.42253687,\n",
      "       1560.05945547, 1555.14999701, 1551.40025621, 1548.29664368,\n",
      "       1545.92178221, 1543.73685181, 1541.91349273, 1540.29970696])}\n",
      "{'1000m': array([136.2       , 136.2       , 136.2       , 136.2       ,\n",
      "       136.2       , 136.        , 133.9       , 133.9       ,\n",
      "       133.9       , 133.9       , 133.9       , 133.9       ,\n",
      "       133.4       , 132.18      , 132.18      , 132.18      ,\n",
      "       132.18      , 132.18      , 132.18      , 132.18      ,\n",
      "       132.18      , 132.18      , 132.18      , 132.18      ,\n",
      "       132.18      , 132.18      , 132.18      , 132.18      ,\n",
      "       132.18      , 132.18      , 132.18      , 131.96      ,\n",
      "       131.96      , 131.96      , 131.96      , 131.96      ,\n",
      "       131.96      , 131.96      , 131.96      , 131.96      ,\n",
      "       131.96      , 131.96      , 131.96      , 131.96      ,\n",
      "       131.96      , 131.96      , 131.96      , 131.96      ,\n",
      "       131.96      , 131.96      , 131.96      , 131.96      ,\n",
      "       131.96      , 131.96      , 131.96      , 131.96      ,\n",
      "       131.96      , 131.81859445, 131.54110146, 131.31368454,\n",
      "       131.12172625, 130.96332411, 130.83193944, 130.71389224]), '1m': array([231.1       , 231.1       , 231.1       , 231.1       ,\n",
      "       231.1       , 231.1       , 231.1       , 229.4       ,\n",
      "       229.4       , 229.4       , 229.4       , 228.95      ,\n",
      "       228.8       , 227.33      , 227.33      , 227.33      ,\n",
      "       227.33      , 226.32      , 226.32      , 226.32      ,\n",
      "       226.32      , 226.32      , 226.32      , 226.32      ,\n",
      "       226.32      , 224.39      , 224.39      , 224.39      ,\n",
      "       224.39      , 224.39      , 224.39      , 223.13      ,\n",
      "       223.13      , 223.13      , 223.13      , 223.13      ,\n",
      "       223.13      , 223.13      , 223.13      , 223.13      ,\n",
      "       223.13      , 223.13      , 223.13      , 223.13      ,\n",
      "       223.13      , 223.13      , 223.13      , 223.13      ,\n",
      "       223.13      , 223.13      , 223.13      , 223.13      ,\n",
      "       223.13      , 223.13      , 223.13      , 223.13      ,\n",
      "       223.13      , 223.13      , 223.13      , 223.13      ,\n",
      "       223.13      , 223.13      , 223.05850604, 222.90030178]), '5000m': array([796.6       , 796.6       , 796.6       , 796.6       ,\n",
      "       793.        , 793.        , 793.        , 793.        ,\n",
      "       793.        , 792.9       , 788.4       , 788.4       ,\n",
      "       788.4       , 786.2       , 780.42      , 780.42      ,\n",
      "       780.42      , 780.4       , 780.4       , 778.39      ,\n",
      "       778.39      , 778.39      , 778.39      , 778.39      ,\n",
      "       778.39      , 778.39      , 776.96      , 764.39      ,\n",
      "       764.39      , 759.74      , 759.36      , 759.36      ,\n",
      "       759.36      , 759.36      , 759.36      , 759.36      ,\n",
      "       757.35      , 757.35      , 757.35      , 757.35      ,\n",
      "       757.35      , 757.35      , 757.35      , 757.35      ,\n",
      "       757.35      , 757.35      , 757.35      , 757.35      ,\n",
      "       757.35      , 757.35      , 757.35      , 757.35      ,\n",
      "       755.36      , 755.36      , 755.36      , 755.36      ,\n",
      "       755.36      , 755.36      , 755.36      , 755.36      ,\n",
      "       755.36      , 754.97446051, 754.01507452, 753.21442444]), 'Marathon': array([7777., 7714., 7714., 7714., 7714., 7714., 7714., 7714., 7714.,\n",
      "       7714., 7714., 7714., 7714., 7693., 7693., 7693., 7685., 7632.,\n",
      "       7632., 7632., 7610., 7610., 7610., 7610., 7610., 7610., 7610.,\n",
      "       7610., 7610., 7610., 7565., 7542., 7542., 7542., 7538., 7495.,\n",
      "       7495., 7495., 7495., 7466., 7439., 7439., 7439., 7418., 7418.,\n",
      "       7403., 7377., 7377., 7377., 7377., 7299., 7299., 7299., 7299.,\n",
      "       7299., 7299., 7299., 7299., 7299., 7299., 7299., 7299., 7299.,\n",
      "       7299.]), '10000m': array([1659.4       , 1659.4       , 1659.4       , 1659.4       ,\n",
      "       1658.4       , 1650.8       , 1650.8       , 1650.8       ,\n",
      "       1650.8       , 1650.5       , 1642.4       , 1642.4       ,\n",
      "       1642.4       , 1642.4       , 1642.4       , 1642.4       ,\n",
      "       1633.81      , 1633.81      , 1633.81      , 1633.81      ,\n",
      "       1633.81      , 1628.23      , 1628.23      , 1628.23      ,\n",
      "       1628.23      , 1618.38      , 1612.23      , 1603.53      ,\n",
      "       1598.08      , 1587.85      , 1582.75      , 1582.75      ,\n",
      "       1582.75      , 1582.75      , 1582.75      , 1582.75      ,\n",
      "       1580.31      , 1577.53      , 1577.53      , 1577.53      ,\n",
      "       1577.53      , 1577.53      , 1577.53      , 1577.53      ,\n",
      "       1577.53      , 1577.53      , 1577.53      , 1577.53      ,\n",
      "       1577.53      , 1577.53      , 1577.53      , 1577.53      ,\n",
      "       1571.        , 1571.        , 1571.        , 1571.        ,\n",
      "       1571.        , 1571.        , 1571.        , 1571.        ,\n",
      "       1571.        , 1570.79859232, 1568.78052906, 1567.02896418])}\n",
      "{'1000m': array([136.2 , 136.2 , 136.2 , 136.2 , 136.2 , 136.  , 133.9 , 133.9 ,\n",
      "       133.9 , 133.9 , 133.9 , 133.9 , 133.4 , 132.18, 132.18, 132.18,\n",
      "       132.18, 132.18, 132.18, 132.18, 132.18, 132.18, 132.18, 132.18,\n",
      "       132.18, 132.18, 132.18, 132.18, 132.18, 132.18, 132.18, 131.96,\n",
      "       131.96, 131.96, 131.96, 131.96, 131.96, 131.96, 131.96, 131.96,\n",
      "       131.96, 131.96, 131.96, 131.96, 131.96, 131.96, 131.96, 131.96,\n",
      "       131.96, 131.96, 131.96, 131.96, 131.96, 131.96, 131.96, 131.96,\n",
      "       131.96, 131.96, 131.96, 131.96, 131.96, 131.96, 131.96, 131.96]), '1m': array([231.1 , 231.1 , 231.1 , 231.1 , 231.1 , 231.1 , 231.1 , 229.4 ,\n",
      "       229.4 , 229.4 , 229.4 , 228.95, 228.8 , 227.33, 227.33, 227.33,\n",
      "       227.33, 226.32, 226.32, 226.32, 226.32, 226.32, 226.32, 226.32,\n",
      "       226.32, 224.39, 224.39, 224.39, 224.39, 224.39, 224.39, 223.13,\n",
      "       223.13, 223.13, 223.13, 223.13, 223.13, 223.13, 223.13, 223.13,\n",
      "       223.13, 223.13, 223.13, 223.13, 223.13, 223.13, 223.13, 223.13,\n",
      "       223.13, 223.13, 223.13, 223.13, 223.13, 223.13, 223.13, 223.13,\n",
      "       223.13, 223.13, 223.13, 223.13, 223.13, 223.13, 223.13, 223.13]), '5000m': array([796.6 , 796.6 , 796.6 , 796.6 , 793.  , 793.  , 793.  , 793.  ,\n",
      "       793.  , 792.9 , 788.4 , 788.4 , 788.4 , 786.2 , 780.42, 780.42,\n",
      "       780.42, 780.4 , 780.4 , 778.39, 778.39, 778.39, 778.39, 778.39,\n",
      "       778.39, 778.39, 776.96, 764.39, 764.39, 759.74, 759.36, 759.36,\n",
      "       759.36, 759.36, 759.36, 759.36, 757.35, 757.35, 757.35, 757.35,\n",
      "       757.35, 757.35, 757.35, 757.35, 757.35, 757.35, 757.35, 757.35,\n",
      "       757.35, 757.35, 757.35, 757.35, 755.36, 755.36, 755.36, 755.36,\n",
      "       755.36, 755.36, 755.36, 755.36, 755.36, 755.36, 755.36, 755.36]), 'Marathon': array([7777., 7714., 7714., 7714., 7714., 7714., 7714., 7714., 7714.,\n",
      "       7714., 7714., 7714., 7714., 7693., 7693., 7693., 7685., 7632.,\n",
      "       7632., 7632., 7610., 7610., 7610., 7610., 7610., 7610., 7610.,\n",
      "       7610., 7610., 7610., 7565., 7542., 7542., 7542., 7538., 7495.,\n",
      "       7495., 7495., 7495., 7466., 7439., 7439., 7439., 7418., 7418.,\n",
      "       7403., 7377., 7377., 7377., 7377., 7299., 7299., 7299., 7299.,\n",
      "       7299., 7299., 7299., 7299., 7299., 7299., 7299., 7299., 7299.,\n",
      "       7299.]), '10000m': array([1659.4 , 1659.4 , 1659.4 , 1659.4 , 1658.4 , 1650.8 , 1650.8 ,\n",
      "       1650.8 , 1650.8 , 1650.5 , 1642.4 , 1642.4 , 1642.4 , 1642.4 ,\n",
      "       1642.4 , 1642.4 , 1633.81, 1633.81, 1633.81, 1633.81, 1633.81,\n",
      "       1628.23, 1628.23, 1628.23, 1628.23, 1618.38, 1612.23, 1603.53,\n",
      "       1598.08, 1587.85, 1582.75, 1582.75, 1582.75, 1582.75, 1582.75,\n",
      "       1582.75, 1580.31, 1577.53, 1577.53, 1577.53, 1577.53, 1577.53,\n",
      "       1577.53, 1577.53, 1577.53, 1577.53, 1577.53, 1577.53, 1577.53,\n",
      "       1577.53, 1577.53, 1577.53, 1571.  , 1571.  , 1571.  , 1571.  ,\n",
      "       1571.  , 1571.  , 1571.  , 1571.  , 1571.  , 1571.  , 1571.  ,\n",
      "       1571.  ])}\n",
      "{'1000m': array([136.2 , 136.2 , 136.2 , 136.2 , 136.2 , 136.  , 133.9 , 133.9 ,\n",
      "       133.9 , 133.9 , 133.9 , 133.9 , 133.4 , 132.18, 132.18, 132.18,\n",
      "       132.18, 132.18, 132.18, 132.18, 132.18, 132.18, 132.18, 132.18,\n",
      "       132.18, 132.18, 132.18, 132.18, 132.18, 132.18, 132.18, 131.96,\n",
      "       131.96, 131.96, 131.96, 131.96, 131.96, 131.96, 131.96, 131.96,\n",
      "       131.96, 131.96, 131.96, 131.96, 131.96, 131.96, 131.96, 131.96,\n",
      "       131.96, 131.96, 131.96, 131.96, 131.96, 131.96, 131.96, 131.96,\n",
      "       131.96, 131.96, 131.96, 131.96, 131.96, 131.96, 131.96, 131.96]), '1m': array([231.1 , 231.1 , 231.1 , 231.1 , 231.1 , 231.1 , 231.1 , 229.4 ,\n",
      "       229.4 , 229.4 , 229.4 , 228.95, 228.8 , 227.33, 227.33, 227.33,\n",
      "       227.33, 226.32, 226.32, 226.32, 226.32, 226.32, 226.32, 226.32,\n",
      "       226.32, 224.39, 224.39, 224.39, 224.39, 224.39, 224.39, 223.13,\n",
      "       223.13, 223.13, 223.13, 223.13, 223.13, 223.13, 223.13, 223.13,\n",
      "       223.13, 223.13, 223.13, 223.13, 223.13, 223.13, 223.13, 223.13,\n",
      "       223.13, 223.13, 223.13, 223.13, 223.13, 223.13, 223.13, 223.13,\n",
      "       223.13, 223.13, 223.13, 223.13, 223.13, 223.13, 223.13, 223.13]), '5000m': array([796.6 , 796.6 , 796.6 , 796.6 , 793.  , 793.  , 793.  , 793.  ,\n",
      "       793.  , 792.9 , 788.4 , 788.4 , 788.4 , 786.2 , 780.42, 780.42,\n",
      "       780.42, 780.4 , 780.4 , 778.39, 778.39, 778.39, 778.39, 778.39,\n",
      "       778.39, 778.39, 776.96, 764.39, 764.39, 759.74, 759.36, 759.36,\n",
      "       759.36, 759.36, 759.36, 759.36, 757.35, 757.35, 757.35, 757.35,\n",
      "       757.35, 757.35, 757.35, 757.35, 757.35, 757.35, 757.35, 757.35,\n",
      "       757.35, 757.35, 757.35, 757.35, 755.36, 755.36, 755.36, 755.36,\n",
      "       755.36, 755.36, 755.36, 755.36, 755.36, 755.36, 755.36, 755.36]), 'Marathon': array([7777., 7714., 7714., 7714., 7714., 7714., 7714., 7714., 7714.,\n",
      "       7714., 7714., 7714., 7714., 7693., 7693., 7693., 7685., 7632.,\n",
      "       7632., 7632., 7610., 7610., 7610., 7610., 7610., 7610., 7610.,\n",
      "       7610., 7610., 7610., 7565., 7542., 7542., 7542., 7538., 7495.,\n",
      "       7495., 7495., 7495., 7466., 7439., 7439., 7439., 7418., 7418.,\n",
      "       7403., 7377., 7377., 7377., 7377., 7299., 7299., 7299., 7299.,\n",
      "       7299., 7299., 7299., 7299., 7299., 7299., 7299., 7299., 7299.,\n",
      "       7299.]), '10000m': array([1659.4 , 1659.4 , 1659.4 , 1659.4 , 1658.4 , 1650.8 , 1650.8 ,\n",
      "       1650.8 , 1650.8 , 1650.5 , 1642.4 , 1642.4 , 1642.4 , 1642.4 ,\n",
      "       1642.4 , 1642.4 , 1633.81, 1633.81, 1633.81, 1633.81, 1633.81,\n",
      "       1628.23, 1628.23, 1628.23, 1628.23, 1618.38, 1612.23, 1603.53,\n",
      "       1598.08, 1587.85, 1582.75, 1582.75, 1582.75, 1582.75, 1582.75,\n",
      "       1582.75, 1580.31, 1577.53, 1577.53, 1577.53, 1577.53, 1577.53,\n",
      "       1577.53, 1577.53, 1577.53, 1577.53, 1577.53, 1577.53, 1577.53,\n",
      "       1577.53, 1577.53, 1577.53, 1571.  , 1571.  , 1571.  , 1571.  ,\n",
      "       1571.  , 1571.  , 1571.  , 1571.  , 1571.  , 1571.  , 1571.  ,\n",
      "       1571.  ])}\n"
     ]
    }
   ],
   "source": [
    "print(s5_quantiles)\n",
    "print(s15_quantiles)\n",
    "print(s50_quantiles)\n",
    "print(s85_quantiles)\n",
    "print(s95_quantiles)\n",
    "print(means)"
   ]
  },
  {
   "cell_type": "code",
   "execution_count": null,
   "metadata": {},
   "outputs": [],
   "source": []
  },
  {
   "cell_type": "code",
   "execution_count": null,
   "metadata": {},
   "outputs": [],
   "source": []
  },
  {
   "cell_type": "code",
   "execution_count": null,
   "metadata": {},
   "outputs": [],
   "source": []
  },
  {
   "cell_type": "code",
   "execution_count": null,
   "metadata": {},
   "outputs": [],
   "source": []
  },
  {
   "cell_type": "code",
   "execution_count": null,
   "metadata": {},
   "outputs": [],
   "source": []
  },
  {
   "cell_type": "code",
   "execution_count": null,
   "metadata": {},
   "outputs": [],
   "source": []
  },
  {
   "cell_type": "code",
   "execution_count": 58,
   "metadata": {},
   "outputs": [
    {
     "data": {
      "image/png": "[encoded data removed]",
      "text/plain": [
       "<Figure size 648x360 with 1 Axes>"
      ]
     },
     "metadata": {
      "needs_background": "light"
     },
     "output_type": "display_data"
    }
   ],
   "source": [
    "fig = plot_posterior_predictive(model, f\"Historical Posterior Predictive for the Mile Run, Gaussian Attempts\", figsize=(9,5))\n",
    "fig.savefig(f\"gauss_results/article_gaussian_attempts_post_pred_mile_run.png\")"
   ]
  },
  {
   "cell_type": "code",
   "execution_count": 59,
   "metadata": {},
   "outputs": [
    {
     "data": {
      "image/png": "[encoded data removed]",
      "text/plain": [
       "<Figure size 648x360 with 1 Axes>"
      ]
     },
     "metadata": {
      "needs_background": "light"
     },
     "output_type": "display_data"
    }
   ],
   "source": [
    "fig = plot_forecast_fin(model, tryfos_fcast, f\"Posterior Forecast for the Mile Run, Gaussian Attempts\", actual_records, figsize=(9,5))\n",
    "fig.savefig(f\"gauss_results/article_gaussian_attempts_fcast_mile_run.png\")"
   ]
  },
  {
   "cell_type": "code",
   "execution_count": 80,
   "metadata": {},
   "outputs": [
    {
     "name": "stderr",
     "output_type": "stream",
     "text": [
      "C:\\Users\\Jonathan\\AppData\\Local\\Temp/ipykernel_225516/1981564619.py:19: UserWarning: Matplotlib is currently using module://matplotlib_inline.backend_inline, which is a non-GUI backend, so cannot show the figure.\n",
      "  fig.show()\n"
     ]
    },
    {
     "data": {
      "image/png": "[encoded data removed]",
      "text/plain": [
       "<Figure size 1080x360 with 2 Axes>"
      ]
     },
     "metadata": {
      "needs_background": "light"
     },
     "output_type": "display_data"
    }
   ],
   "source": [
    "fig, axs = plt.subplots(1,2,figsize=(15,5))\n",
    "\n",
    "axs[0].hist(model.trace.posterior.mu.values.flatten(), bins=1000)\n",
    "axs[0].set_title('Samples of Mean of Underlying Gaussian')\n",
    "axs[0].set_xlabel('Mean (in seconds)')\n",
    "axs[0].set_yticks([])\n",
    "axs[0].set_xlim(222, 236)\n",
    "\n",
    "axs[1].hist(model.trace.posterior.sigma.values.flatten(), bins=1000)\n",
    "axs[1].set_title('Samples of Standard Deviation of Underlying Gaussian')\n",
    "axs[1].set_xlabel('Standard Deviation (in seconds)')\n",
    "axs[1].set_yticks([])\n",
    "axs[1].set_xlim(None,12)\n",
    "\n",
    "fig.tight_layout()\n",
    "\n",
    "fig.savefig(f\"gauss_results/article_gaussian_attempts_posterior_hist.png\")\n",
    "\n",
    "fig.show()"
   ]
  },
  {
   "cell_type": "code",
   "execution_count": 82,
   "metadata": {},
   "outputs": [],
   "source": [
    "import arviz as az"
   ]
  },
  {
   "cell_type": "code",
   "execution_count": 88,
   "metadata": {},
   "outputs": [
    {
     "data": {
      "image/png": "[encoded data removed]",
      "text/plain": [
       "<Figure size 432x288 with 1 Axes>"
      ]
     },
     "metadata": {
      "needs_background": "light"
     },
     "output_type": "display_data"
    }
   ],
   "source": [
    "az.plot_pair(model.trace,\n",
    "            kind='kde',\n",
    "            var_names=['mu', 'sigma'],\n",
    "            backend_kwargs\n",
    "            textsize=18)\n",
    "    \n",
    "plt.show()"
   ]
  },
  {
   "cell_type": "code",
   "execution_count": 81,
   "metadata": {},
   "outputs": [
    {
     "data": {
      "text/plain": [
       "<matplotlib.collections.PathCollection at 0x1b36db1b280>"
      ]
     },
     "execution_count": 81,
     "metadata": {},
     "output_type": "execute_result"
    },
    {
     "data": {
      "image/png": "[encoded data removed]",
      "text/plain": [
       "<Figure size 432x288 with 1 Axes>"
      ]
     },
     "metadata": {
      "needs_background": "light"
     },
     "output_type": "display_data"
    }
   ],
   "source": [
    "plt.scatter([model.trace.posterior.mu.values.flatten()], model.trace.posterior.sigma.values.flatten())"
   ]
  },
  {
   "cell_type": "code",
   "execution_count": 73,
   "metadata": {},
   "outputs": [
    {
     "data": {
      "text/plain": [
       "[<matplotlib.lines.Line2D at 0x1b36f76cd90>]"
      ]
     },
     "execution_count": 73,
     "metadata": {},
     "output_type": "execute_result"
    },
    {
     "data": {
      "image/png": "[encoded data removed]",
      "text/plain": [
       "<Figure size 432x288 with 1 Axes>"
      ]
     },
     "metadata": {
      "needs_background": "light"
     },
     "output_type": "display_data"
    }
   ],
   "source": [
    "plt.plot(model.trace.posterior.mu.values.flatten())"
   ]
  },
  {
   "cell_type": "code",
   "execution_count": null,
   "metadata": {},
   "outputs": [],
   "source": []
  },
  {
   "cell_type": "code",
   "execution_count": null,
   "metadata": {},
   "outputs": [],
   "source": []
  },
  {
   "cell_type": "markdown",
   "metadata": {},
   "source": [
    "# Gumbel"
   ]
  },
  {
   "cell_type": "code",
   "execution_count": null,
   "metadata": {},
   "outputs": [
    {
     "name": "stderr",
     "output_type": "stream",
     "text": [
      "Auto-assigning NUTS sampler...\n",
      "Initializing NUTS using jitter+adapt_diag...\n",
      "Sequential sampling (10 chains in 1 job)\n",
      "NUTS: [sigma, mu]\n"
     ]
    },
    {
     "data": {
      "text/html": [
       "\n",
       "    <div>\n",
       "        <style>\n",
       "            /* Turns off some styling */\n",
       "            progress {\n",
       "                /* gets rid of default border in Firefox and Opera. */\n",
       "                border: none;\n",
       "                /* Needs to be in here for Safari polyfill so background images work as expected. */\n",
       "                background-size: auto;\n",
       "            }\n",
       "            .progress-bar-interrupted, .progress-bar-interrupted::-webkit-progress-bar {\n",
       "                background: #F44336;\n",
       "            }\n",
       "        </style>\n",
       "      <progress value='10000' class='' max='10000' style='width:300px; height:20px; vertical-align: middle;'></progress>\n",
       "      100.00% [10000/10000 00:10<00:00 Sampling chain 0, 0 divergences]\n",
       "    </div>\n",
       "    "
      ],
      "text/plain": [
       "<IPython.core.display.HTML object>"
      ]
     },
     "metadata": {},
     "output_type": "display_data"
    },
    {
     "data": {
      "text/html": [
       "\n",
       "    <div>\n",
       "        <style>\n",
       "            /* Turns off some styling */\n",
       "            progress {\n",
       "                /* gets rid of default border in Firefox and Opera. */\n",
       "                border: none;\n",
       "                /* Needs to be in here for Safari polyfill so background images work as expected. */\n",
       "                background-size: auto;\n",
       "            }\n",
       "            .progress-bar-interrupted, .progress-bar-interrupted::-webkit-progress-bar {\n",
       "                background: #F44336;\n",
       "            }\n",
       "        </style>\n",
       "      <progress value='10000' class='' max='10000' style='width:300px; height:20px; vertical-align: middle;'></progress>\n",
       "      100.00% [10000/10000 00:13<00:00 Sampling chain 1, 0 divergences]\n",
       "    </div>\n",
       "    "
      ],
      "text/plain": [
       "<IPython.core.display.HTML object>"
      ]
     },
     "metadata": {},
     "output_type": "display_data"
    },
    {
     "data": {
      "text/html": [
       "\n",
       "    <div>\n",
       "        <style>\n",
       "            /* Turns off some styling */\n",
       "            progress {\n",
       "                /* gets rid of default border in Firefox and Opera. */\n",
       "                border: none;\n",
       "                /* Needs to be in here for Safari polyfill so background images work as expected. */\n",
       "                background-size: auto;\n",
       "            }\n",
       "            .progress-bar-interrupted, .progress-bar-interrupted::-webkit-progress-bar {\n",
       "                background: #F44336;\n",
       "            }\n",
       "        </style>\n",
       "      <progress value='10000' class='' max='10000' style='width:300px; height:20px; vertical-align: middle;'></progress>\n",
       "      100.00% [10000/10000 00:12<00:00 Sampling chain 2, 0 divergences]\n",
       "    </div>\n",
       "    "
      ],
      "text/plain": [
       "<IPython.core.display.HTML object>"
      ]
     },
     "metadata": {},
     "output_type": "display_data"
    },
    {
     "data": {
      "text/html": [
       "\n",
       "    <div>\n",
       "        <style>\n",
       "            /* Turns off some styling */\n",
       "            progress {\n",
       "                /* gets rid of default border in Firefox and Opera. */\n",
       "                border: none;\n",
       "                /* Needs to be in here for Safari polyfill so background images work as expected. */\n",
       "                background-size: auto;\n",
       "            }\n",
       "            .progress-bar-interrupted, .progress-bar-interrupted::-webkit-progress-bar {\n",
       "                background: #F44336;\n",
       "            }\n",
       "        </style>\n",
       "      <progress value='10000' class='' max='10000' style='width:300px; height:20px; vertical-align: middle;'></progress>\n",
       "      100.00% [10000/10000 00:12<00:00 Sampling chain 3, 0 divergences]\n",
       "    </div>\n",
       "    "
      ],
      "text/plain": [
       "<IPython.core.display.HTML object>"
      ]
     },
     "metadata": {},
     "output_type": "display_data"
    },
    {
     "data": {
      "text/html": [
       "\n",
       "    <div>\n",
       "        <style>\n",
       "            /* Turns off some styling */\n",
       "            progress {\n",
       "                /* gets rid of default border in Firefox and Opera. */\n",
       "                border: none;\n",
       "                /* Needs to be in here for Safari polyfill so background images work as expected. */\n",
       "                background-size: auto;\n",
       "            }\n",
       "            .progress-bar-interrupted, .progress-bar-interrupted::-webkit-progress-bar {\n",
       "                background: #F44336;\n",
       "            }\n",
       "        </style>\n",
       "      <progress value='10000' class='' max='10000' style='width:300px; height:20px; vertical-align: middle;'></progress>\n",
       "      100.00% [10000/10000 00:12<00:00 Sampling chain 4, 0 divergences]\n",
       "    </div>\n",
       "    "
      ],
      "text/plain": [
       "<IPython.core.display.HTML object>"
      ]
     },
     "metadata": {},
     "output_type": "display_data"
    },
    {
     "data": {
      "text/html": [
       "\n",
       "    <div>\n",
       "        <style>\n",
       "            /* Turns off some styling */\n",
       "            progress {\n",
       "                /* gets rid of default border in Firefox and Opera. */\n",
       "                border: none;\n",
       "                /* Needs to be in here for Safari polyfill so background images work as expected. */\n",
       "                background-size: auto;\n",
       "            }\n",
       "            .progress-bar-interrupted, .progress-bar-interrupted::-webkit-progress-bar {\n",
       "                background: #F44336;\n",
       "            }\n",
       "        </style>\n",
       "      <progress value='10000' class='' max='10000' style='width:300px; height:20px; vertical-align: middle;'></progress>\n",
       "      100.00% [10000/10000 00:12<00:00 Sampling chain 5, 0 divergences]\n",
       "    </div>\n",
       "    "
      ],
      "text/plain": [
       "<IPython.core.display.HTML object>"
      ]
     },
     "metadata": {},
     "output_type": "display_data"
    },
    {
     "data": {
      "text/html": [
       "\n",
       "    <div>\n",
       "        <style>\n",
       "            /* Turns off some styling */\n",
       "            progress {\n",
       "                /* gets rid of default border in Firefox and Opera. */\n",
       "                border: none;\n",
       "                /* Needs to be in here for Safari polyfill so background images work as expected. */\n",
       "                background-size: auto;\n",
       "            }\n",
       "            .progress-bar-interrupted, .progress-bar-interrupted::-webkit-progress-bar {\n",
       "                background: #F44336;\n",
       "            }\n",
       "        </style>\n",
       "      <progress value='10000' class='' max='10000' style='width:300px; height:20px; vertical-align: middle;'></progress>\n",
       "      100.00% [10000/10000 00:13<00:00 Sampling chain 6, 0 divergences]\n",
       "    </div>\n",
       "    "
      ],
      "text/plain": [
       "<IPython.core.display.HTML object>"
      ]
     },
     "metadata": {},
     "output_type": "display_data"
    },
    {
     "data": {
      "text/html": [
       "\n",
       "    <div>\n",
       "        <style>\n",
       "            /* Turns off some styling */\n",
       "            progress {\n",
       "                /* gets rid of default border in Firefox and Opera. */\n",
       "                border: none;\n",
       "                /* Needs to be in here for Safari polyfill so background images work as expected. */\n",
       "                background-size: auto;\n",
       "            }\n",
       "            .progress-bar-interrupted, .progress-bar-interrupted::-webkit-progress-bar {\n",
       "                background: #F44336;\n",
       "            }\n",
       "        </style>\n",
       "      <progress value='10000' class='' max='10000' style='width:300px; height:20px; vertical-align: middle;'></progress>\n",
       "      100.00% [10000/10000 00:12<00:00 Sampling chain 7, 0 divergences]\n",
       "    </div>\n",
       "    "
      ],
      "text/plain": [
       "<IPython.core.display.HTML object>"
      ]
     },
     "metadata": {},
     "output_type": "display_data"
    },
    {
     "data": {
      "text/html": [
       "\n",
       "    <div>\n",
       "        <style>\n",
       "            /* Turns off some styling */\n",
       "            progress {\n",
       "                /* gets rid of default border in Firefox and Opera. */\n",
       "                border: none;\n",
       "                /* Needs to be in here for Safari polyfill so background images work as expected. */\n",
       "                background-size: auto;\n",
       "            }\n",
       "            .progress-bar-interrupted, .progress-bar-interrupted::-webkit-progress-bar {\n",
       "                background: #F44336;\n",
       "            }\n",
       "        </style>\n",
       "      <progress value='10000' class='' max='10000' style='width:300px; height:20px; vertical-align: middle;'></progress>\n",
       "      100.00% [10000/10000 00:12<00:00 Sampling chain 8, 0 divergences]\n",
       "    </div>\n",
       "    "
      ],
      "text/plain": [
       "<IPython.core.display.HTML object>"
      ]
     },
     "metadata": {},
     "output_type": "display_data"
    },
    {
     "data": {
      "text/html": [
       "\n",
       "    <div>\n",
       "        <style>\n",
       "            /* Turns off some styling */\n",
       "            progress {\n",
       "                /* gets rid of default border in Firefox and Opera. */\n",
       "                border: none;\n",
       "                /* Needs to be in here for Safari polyfill so background images work as expected. */\n",
       "                background-size: auto;\n",
       "            }\n",
       "            .progress-bar-interrupted, .progress-bar-interrupted::-webkit-progress-bar {\n",
       "                background: #F44336;\n",
       "            }\n",
       "        </style>\n",
       "      <progress value='10000' class='' max='10000' style='width:300px; height:20px; vertical-align: middle;'></progress>\n",
       "      100.00% [10000/10000 00:13<00:00 Sampling chain 9, 0 divergences]\n",
       "    </div>\n",
       "    "
      ],
      "text/plain": [
       "<IPython.core.display.HTML object>"
      ]
     },
     "metadata": {},
     "output_type": "display_data"
    },
    {
     "name": "stderr",
     "output_type": "stream",
     "text": [
      "Sampling 10 chains for 5_000 tune and 5_000 draw iterations (50_000 + 50_000 draws total) took 125 seconds.\n",
      "The acceptance probability does not match the target. It is 0.9619951504027966, but should be close to 0.99. Try to increase the number of tuning steps.\n",
      "The number of effective samples is smaller than 25% for some parameters.\n"
     ]
    },
    {
     "data": {
      "text/html": [
       "\n",
       "    <div>\n",
       "        <style>\n",
       "            /* Turns off some styling */\n",
       "            progress {\n",
       "                /* gets rid of default border in Firefox and Opera. */\n",
       "                border: none;\n",
       "                /* Needs to be in here for Safari polyfill so background images work as expected. */\n",
       "                background-size: auto;\n",
       "            }\n",
       "            .progress-bar-interrupted, .progress-bar-interrupted::-webkit-progress-bar {\n",
       "                background: #F44336;\n",
       "            }\n",
       "        </style>\n",
       "      <progress value='50000' class='' max='50000' style='width:300px; height:20px; vertical-align: middle;'></progress>\n",
       "      100.00% [50000/50000 02:16<00:00]\n",
       "    </div>\n",
       "    "
      ],
      "text/plain": [
       "<IPython.core.display.HTML object>"
      ]
     },
     "metadata": {},
     "output_type": "display_data"
    },
    {
     "data": {
      "text/html": [
       "\n",
       "    <div>\n",
       "        <style>\n",
       "            /* Turns off some styling */\n",
       "            progress {\n",
       "                /* gets rid of default border in Firefox and Opera. */\n",
       "                border: none;\n",
       "                /* Needs to be in here for Safari polyfill so background images work as expected. */\n",
       "                background-size: auto;\n",
       "            }\n",
       "            .progress-bar-interrupted, .progress-bar-interrupted::-webkit-progress-bar {\n",
       "                background: #F44336;\n",
       "            }\n",
       "        </style>\n",
       "      <progress value='50000' class='' max='50000' style='width:300px; height:20px; vertical-align: middle;'></progress>\n",
       "      100.00% [50000/50000 01:17<00:00]\n",
       "    </div>\n",
       "    "
      ],
      "text/plain": [
       "<IPython.core.display.HTML object>"
      ]
     },
     "metadata": {},
     "output_type": "display_data"
    },
    {
     "name": "stdout",
     "output_type": "stream",
     "text": [
      "Error: failed on 1000m\n"
     ]
    },
    {
     "name": "stderr",
     "output_type": "stream",
     "text": [
      "Auto-assigning NUTS sampler...\n",
      "Initializing NUTS using jitter+adapt_diag...\n",
      "Sequential sampling (10 chains in 1 job)\n",
      "NUTS: [sigma, mu]\n"
     ]
    },
    {
     "data": {
      "text/html": [
       "\n",
       "    <div>\n",
       "        <style>\n",
       "            /* Turns off some styling */\n",
       "            progress {\n",
       "                /* gets rid of default border in Firefox and Opera. */\n",
       "                border: none;\n",
       "                /* Needs to be in here for Safari polyfill so background images work as expected. */\n",
       "                background-size: auto;\n",
       "            }\n",
       "            .progress-bar-interrupted, .progress-bar-interrupted::-webkit-progress-bar {\n",
       "                background: #F44336;\n",
       "            }\n",
       "        </style>\n",
       "      <progress value='10000' class='' max='10000' style='width:300px; height:20px; vertical-align: middle;'></progress>\n",
       "      100.00% [10000/10000 00:15<00:00 Sampling chain 0, 260 divergences]\n",
       "    </div>\n",
       "    "
      ],
      "text/plain": [
       "<IPython.core.display.HTML object>"
      ]
     },
     "metadata": {},
     "output_type": "display_data"
    },
    {
     "data": {
      "text/html": [
       "\n",
       "    <div>\n",
       "        <style>\n",
       "            /* Turns off some styling */\n",
       "            progress {\n",
       "                /* gets rid of default border in Firefox and Opera. */\n",
       "                border: none;\n",
       "                /* Needs to be in here for Safari polyfill so background images work as expected. */\n",
       "                background-size: auto;\n",
       "            }\n",
       "            .progress-bar-interrupted, .progress-bar-interrupted::-webkit-progress-bar {\n",
       "                background: #F44336;\n",
       "            }\n",
       "        </style>\n",
       "      <progress value='10000' class='' max='10000' style='width:300px; height:20px; vertical-align: middle;'></progress>\n",
       "      100.00% [10000/10000 00:14<00:00 Sampling chain 1, 230 divergences]\n",
       "    </div>\n",
       "    "
      ],
      "text/plain": [
       "<IPython.core.display.HTML object>"
      ]
     },
     "metadata": {},
     "output_type": "display_data"
    },
    {
     "data": {
      "text/html": [
       "\n",
       "    <div>\n",
       "        <style>\n",
       "            /* Turns off some styling */\n",
       "            progress {\n",
       "                /* gets rid of default border in Firefox and Opera. */\n",
       "                border: none;\n",
       "                /* Needs to be in here for Safari polyfill so background images work as expected. */\n",
       "                background-size: auto;\n",
       "            }\n",
       "            .progress-bar-interrupted, .progress-bar-interrupted::-webkit-progress-bar {\n",
       "                background: #F44336;\n",
       "            }\n",
       "        </style>\n",
       "      <progress value='10000' class='' max='10000' style='width:300px; height:20px; vertical-align: middle;'></progress>\n",
       "      100.00% [10000/10000 00:13<00:00 Sampling chain 2, 192 divergences]\n",
       "    </div>\n",
       "    "
      ],
      "text/plain": [
       "<IPython.core.display.HTML object>"
      ]
     },
     "metadata": {},
     "output_type": "display_data"
    },
    {
     "data": {
      "text/html": [
       "\n",
       "    <div>\n",
       "        <style>\n",
       "            /* Turns off some styling */\n",
       "            progress {\n",
       "                /* gets rid of default border in Firefox and Opera. */\n",
       "                border: none;\n",
       "                /* Needs to be in here for Safari polyfill so background images work as expected. */\n",
       "                background-size: auto;\n",
       "            }\n",
       "            .progress-bar-interrupted, .progress-bar-interrupted::-webkit-progress-bar {\n",
       "                background: #F44336;\n",
       "            }\n",
       "        </style>\n",
       "      <progress value='10000' class='' max='10000' style='width:300px; height:20px; vertical-align: middle;'></progress>\n",
       "      100.00% [10000/10000 00:15<00:00 Sampling chain 3, 219 divergences]\n",
       "    </div>\n",
       "    "
      ],
      "text/plain": [
       "<IPython.core.display.HTML object>"
      ]
     },
     "metadata": {},
     "output_type": "display_data"
    },
    {
     "data": {
      "text/html": [
       "\n",
       "    <div>\n",
       "        <style>\n",
       "            /* Turns off some styling */\n",
       "            progress {\n",
       "                /* gets rid of default border in Firefox and Opera. */\n",
       "                border: none;\n",
       "                /* Needs to be in here for Safari polyfill so background images work as expected. */\n",
       "                background-size: auto;\n",
       "            }\n",
       "            .progress-bar-interrupted, .progress-bar-interrupted::-webkit-progress-bar {\n",
       "                background: #F44336;\n",
       "            }\n",
       "        </style>\n",
       "      <progress value='10000' class='' max='10000' style='width:300px; height:20px; vertical-align: middle;'></progress>\n",
       "      100.00% [10000/10000 00:13<00:00 Sampling chain 4, 222 divergences]\n",
       "    </div>\n",
       "    "
      ],
      "text/plain": [
       "<IPython.core.display.HTML object>"
      ]
     },
     "metadata": {},
     "output_type": "display_data"
    },
    {
     "data": {
      "text/html": [
       "\n",
       "    <div>\n",
       "        <style>\n",
       "            /* Turns off some styling */\n",
       "            progress {\n",
       "                /* gets rid of default border in Firefox and Opera. */\n",
       "                border: none;\n",
       "                /* Needs to be in here for Safari polyfill so background images work as expected. */\n",
       "                background-size: auto;\n",
       "            }\n",
       "            .progress-bar-interrupted, .progress-bar-interrupted::-webkit-progress-bar {\n",
       "                background: #F44336;\n",
       "            }\n",
       "        </style>\n",
       "      <progress value='10000' class='' max='10000' style='width:300px; height:20px; vertical-align: middle;'></progress>\n",
       "      100.00% [10000/10000 00:15<00:00 Sampling chain 5, 225 divergences]\n",
       "    </div>\n",
       "    "
      ],
      "text/plain": [
       "<IPython.core.display.HTML object>"
      ]
     },
     "metadata": {},
     "output_type": "display_data"
    },
    {
     "data": {
      "text/html": [
       "\n",
       "    <div>\n",
       "        <style>\n",
       "            /* Turns off some styling */\n",
       "            progress {\n",
       "                /* gets rid of default border in Firefox and Opera. */\n",
       "                border: none;\n",
       "                /* Needs to be in here for Safari polyfill so background images work as expected. */\n",
       "                background-size: auto;\n",
       "            }\n",
       "            .progress-bar-interrupted, .progress-bar-interrupted::-webkit-progress-bar {\n",
       "                background: #F44336;\n",
       "            }\n",
       "        </style>\n",
       "      <progress value='10000' class='' max='10000' style='width:300px; height:20px; vertical-align: middle;'></progress>\n",
       "      100.00% [10000/10000 00:14<00:00 Sampling chain 6, 206 divergences]\n",
       "    </div>\n",
       "    "
      ],
      "text/plain": [
       "<IPython.core.display.HTML object>"
      ]
     },
     "metadata": {},
     "output_type": "display_data"
    },
    {
     "data": {
      "text/html": [
       "\n",
       "    <div>\n",
       "        <style>\n",
       "            /* Turns off some styling */\n",
       "            progress {\n",
       "                /* gets rid of default border in Firefox and Opera. */\n",
       "                border: none;\n",
       "                /* Needs to be in here for Safari polyfill so background images work as expected. */\n",
       "                background-size: auto;\n",
       "            }\n",
       "            .progress-bar-interrupted, .progress-bar-interrupted::-webkit-progress-bar {\n",
       "                background: #F44336;\n",
       "            }\n",
       "        </style>\n",
       "      <progress value='10000' class='' max='10000' style='width:300px; height:20px; vertical-align: middle;'></progress>\n",
       "      100.00% [10000/10000 00:14<00:00 Sampling chain 7, 221 divergences]\n",
       "    </div>\n",
       "    "
      ],
      "text/plain": [
       "<IPython.core.display.HTML object>"
      ]
     },
     "metadata": {},
     "output_type": "display_data"
    },
    {
     "data": {
      "text/html": [
       "\n",
       "    <div>\n",
       "        <style>\n",
       "            /* Turns off some styling */\n",
       "            progress {\n",
       "                /* gets rid of default border in Firefox and Opera. */\n",
       "                border: none;\n",
       "                /* Needs to be in here for Safari polyfill so background images work as expected. */\n",
       "                background-size: auto;\n",
       "            }\n",
       "            .progress-bar-interrupted, .progress-bar-interrupted::-webkit-progress-bar {\n",
       "                background: #F44336;\n",
       "            }\n",
       "        </style>\n",
       "      <progress value='10000' class='' max='10000' style='width:300px; height:20px; vertical-align: middle;'></progress>\n",
       "      100.00% [10000/10000 00:13<00:00 Sampling chain 8, 220 divergences]\n",
       "    </div>\n",
       "    "
      ],
      "text/plain": [
       "<IPython.core.display.HTML object>"
      ]
     },
     "metadata": {},
     "output_type": "display_data"
    },
    {
     "data": {
      "text/html": [
       "\n",
       "    <div>\n",
       "        <style>\n",
       "            /* Turns off some styling */\n",
       "            progress {\n",
       "                /* gets rid of default border in Firefox and Opera. */\n",
       "                border: none;\n",
       "                /* Needs to be in here for Safari polyfill so background images work as expected. */\n",
       "                background-size: auto;\n",
       "            }\n",
       "            .progress-bar-interrupted, .progress-bar-interrupted::-webkit-progress-bar {\n",
       "                background: #F44336;\n",
       "            }\n",
       "        </style>\n",
       "      <progress value='10000' class='' max='10000' style='width:300px; height:20px; vertical-align: middle;'></progress>\n",
       "      100.00% [10000/10000 00:13<00:00 Sampling chain 9, 219 divergences]\n",
       "    </div>\n",
       "    "
      ],
      "text/plain": [
       "<IPython.core.display.HTML object>"
      ]
     },
     "metadata": {},
     "output_type": "display_data"
    },
    {
     "name": "stderr",
     "output_type": "stream",
     "text": [
      "Sampling 10 chains for 5_000 tune and 5_000 draw iterations (50_000 + 50_000 draws total) took 143 seconds.\n",
      "There were 260 divergences after tuning. Increase `target_accept` or reparameterize.\n",
      "There were 490 divergences after tuning. Increase `target_accept` or reparameterize.\n",
      "There were 682 divergences after tuning. Increase `target_accept` or reparameterize.\n",
      "There were 901 divergences after tuning. Increase `target_accept` or reparameterize.\n",
      "There were 1123 divergences after tuning. Increase `target_accept` or reparameterize.\n",
      "There were 1348 divergences after tuning. Increase `target_accept` or reparameterize.\n",
      "There were 1554 divergences after tuning. Increase `target_accept` or reparameterize.\n",
      "There were 1775 divergences after tuning. Increase `target_accept` or reparameterize.\n",
      "There were 1995 divergences after tuning. Increase `target_accept` or reparameterize.\n",
      "There were 2214 divergences after tuning. Increase `target_accept` or reparameterize.\n",
      "The number of effective samples is smaller than 25% for some parameters.\n"
     ]
    },
    {
     "data": {
      "text/html": [
       "\n",
       "    <div>\n",
       "        <style>\n",
       "            /* Turns off some styling */\n",
       "            progress {\n",
       "                /* gets rid of default border in Firefox and Opera. */\n",
       "                border: none;\n",
       "                /* Needs to be in here for Safari polyfill so background images work as expected. */\n",
       "                background-size: auto;\n",
       "            }\n",
       "            .progress-bar-interrupted, .progress-bar-interrupted::-webkit-progress-bar {\n",
       "                background: #F44336;\n",
       "            }\n",
       "        </style>\n",
       "      <progress value='50000' class='' max='50000' style='width:300px; height:20px; vertical-align: middle;'></progress>\n",
       "      100.00% [50000/50000 02:15<00:00]\n",
       "    </div>\n",
       "    "
      ],
      "text/plain": [
       "<IPython.core.display.HTML object>"
      ]
     },
     "metadata": {},
     "output_type": "display_data"
    },
    {
     "data": {
      "text/html": [
       "\n",
       "    <div>\n",
       "        <style>\n",
       "            /* Turns off some styling */\n",
       "            progress {\n",
       "                /* gets rid of default border in Firefox and Opera. */\n",
       "                border: none;\n",
       "                /* Needs to be in here for Safari polyfill so background images work as expected. */\n",
       "                background-size: auto;\n",
       "            }\n",
       "            .progress-bar-interrupted, .progress-bar-interrupted::-webkit-progress-bar {\n",
       "                background: #F44336;\n",
       "            }\n",
       "        </style>\n",
       "      <progress value='50000' class='' max='50000' style='width:300px; height:20px; vertical-align: middle;'></progress>\n",
       "      100.00% [50000/50000 01:17<00:00]\n",
       "    </div>\n",
       "    "
      ],
      "text/plain": [
       "<IPython.core.display.HTML object>"
      ]
     },
     "metadata": {},
     "output_type": "display_data"
    },
    {
     "name": "stdout",
     "output_type": "stream",
     "text": [
      "Error: failed on 1m\n"
     ]
    },
    {
     "name": "stderr",
     "output_type": "stream",
     "text": [
      "Auto-assigning NUTS sampler...\n",
      "Initializing NUTS using jitter+adapt_diag...\n",
      "Sequential sampling (10 chains in 1 job)\n",
      "NUTS: [sigma, mu]\n"
     ]
    },
    {
     "data": {
      "text/html": [
       "\n",
       "    <div>\n",
       "        <style>\n",
       "            /* Turns off some styling */\n",
       "            progress {\n",
       "                /* gets rid of default border in Firefox and Opera. */\n",
       "                border: none;\n",
       "                /* Needs to be in here for Safari polyfill so background images work as expected. */\n",
       "                background-size: auto;\n",
       "            }\n",
       "            .progress-bar-interrupted, .progress-bar-interrupted::-webkit-progress-bar {\n",
       "                background: #F44336;\n",
       "            }\n",
       "        </style>\n",
       "      <progress value='10000' class='' max='10000' style='width:300px; height:20px; vertical-align: middle;'></progress>\n",
       "      100.00% [10000/10000 00:11<00:00 Sampling chain 0, 3 divergences]\n",
       "    </div>\n",
       "    "
      ],
      "text/plain": [
       "<IPython.core.display.HTML object>"
      ]
     },
     "metadata": {},
     "output_type": "display_data"
    },
    {
     "data": {
      "text/html": [
       "\n",
       "    <div>\n",
       "        <style>\n",
       "            /* Turns off some styling */\n",
       "            progress {\n",
       "                /* gets rid of default border in Firefox and Opera. */\n",
       "                border: none;\n",
       "                /* Needs to be in here for Safari polyfill so background images work as expected. */\n",
       "                background-size: auto;\n",
       "            }\n",
       "            .progress-bar-interrupted, .progress-bar-interrupted::-webkit-progress-bar {\n",
       "                background: #F44336;\n",
       "            }\n",
       "        </style>\n",
       "      <progress value='10000' class='' max='10000' style='width:300px; height:20px; vertical-align: middle;'></progress>\n",
       "      100.00% [10000/10000 00:13<00:00 Sampling chain 1, 3 divergences]\n",
       "    </div>\n",
       "    "
      ],
      "text/plain": [
       "<IPython.core.display.HTML object>"
      ]
     },
     "metadata": {},
     "output_type": "display_data"
    },
    {
     "data": {
      "text/html": [
       "\n",
       "    <div>\n",
       "        <style>\n",
       "            /* Turns off some styling */\n",
       "            progress {\n",
       "                /* gets rid of default border in Firefox and Opera. */\n",
       "                border: none;\n",
       "                /* Needs to be in here for Safari polyfill so background images work as expected. */\n",
       "                background-size: auto;\n",
       "            }\n",
       "            .progress-bar-interrupted, .progress-bar-interrupted::-webkit-progress-bar {\n",
       "                background: #F44336;\n",
       "            }\n",
       "        </style>\n",
       "      <progress value='10000' class='' max='10000' style='width:300px; height:20px; vertical-align: middle;'></progress>\n",
       "      100.00% [10000/10000 00:14<00:00 Sampling chain 2, 2 divergences]\n",
       "    </div>\n",
       "    "
      ],
      "text/plain": [
       "<IPython.core.display.HTML object>"
      ]
     },
     "metadata": {},
     "output_type": "display_data"
    },
    {
     "data": {
      "text/html": [
       "\n",
       "    <div>\n",
       "        <style>\n",
       "            /* Turns off some styling */\n",
       "            progress {\n",
       "                /* gets rid of default border in Firefox and Opera. */\n",
       "                border: none;\n",
       "                /* Needs to be in here for Safari polyfill so background images work as expected. */\n",
       "                background-size: auto;\n",
       "            }\n",
       "            .progress-bar-interrupted, .progress-bar-interrupted::-webkit-progress-bar {\n",
       "                background: #F44336;\n",
       "            }\n",
       "        </style>\n",
       "      <progress value='10000' class='' max='10000' style='width:300px; height:20px; vertical-align: middle;'></progress>\n",
       "      100.00% [10000/10000 00:12<00:00 Sampling chain 3, 4 divergences]\n",
       "    </div>\n",
       "    "
      ],
      "text/plain": [
       "<IPython.core.display.HTML object>"
      ]
     },
     "metadata": {},
     "output_type": "display_data"
    },
    {
     "data": {
      "text/html": [
       "\n",
       "    <div>\n",
       "        <style>\n",
       "            /* Turns off some styling */\n",
       "            progress {\n",
       "                /* gets rid of default border in Firefox and Opera. */\n",
       "                border: none;\n",
       "                /* Needs to be in here for Safari polyfill so background images work as expected. */\n",
       "                background-size: auto;\n",
       "            }\n",
       "            .progress-bar-interrupted, .progress-bar-interrupted::-webkit-progress-bar {\n",
       "                background: #F44336;\n",
       "            }\n",
       "        </style>\n",
       "      <progress value='10000' class='' max='10000' style='width:300px; height:20px; vertical-align: middle;'></progress>\n",
       "      100.00% [10000/10000 00:11<00:00 Sampling chain 4, 1 divergences]\n",
       "    </div>\n",
       "    "
      ],
      "text/plain": [
       "<IPython.core.display.HTML object>"
      ]
     },
     "metadata": {},
     "output_type": "display_data"
    },
    {
     "data": {
      "text/html": [
       "\n",
       "    <div>\n",
       "        <style>\n",
       "            /* Turns off some styling */\n",
       "            progress {\n",
       "                /* gets rid of default border in Firefox and Opera. */\n",
       "                border: none;\n",
       "                /* Needs to be in here for Safari polyfill so background images work as expected. */\n",
       "                background-size: auto;\n",
       "            }\n",
       "            .progress-bar-interrupted, .progress-bar-interrupted::-webkit-progress-bar {\n",
       "                background: #F44336;\n",
       "            }\n",
       "        </style>\n",
       "      <progress value='10000' class='' max='10000' style='width:300px; height:20px; vertical-align: middle;'></progress>\n",
       "      100.00% [10000/10000 00:11<00:00 Sampling chain 5, 0 divergences]\n",
       "    </div>\n",
       "    "
      ],
      "text/plain": [
       "<IPython.core.display.HTML object>"
      ]
     },
     "metadata": {},
     "output_type": "display_data"
    },
    {
     "data": {
      "text/html": [
       "\n",
       "    <div>\n",
       "        <style>\n",
       "            /* Turns off some styling */\n",
       "            progress {\n",
       "                /* gets rid of default border in Firefox and Opera. */\n",
       "                border: none;\n",
       "                /* Needs to be in here for Safari polyfill so background images work as expected. */\n",
       "                background-size: auto;\n",
       "            }\n",
       "            .progress-bar-interrupted, .progress-bar-interrupted::-webkit-progress-bar {\n",
       "                background: #F44336;\n",
       "            }\n",
       "        </style>\n",
       "      <progress value='10000' class='' max='10000' style='width:300px; height:20px; vertical-align: middle;'></progress>\n",
       "      100.00% [10000/10000 00:12<00:00 Sampling chain 6, 1 divergences]\n",
       "    </div>\n",
       "    "
      ],
      "text/plain": [
       "<IPython.core.display.HTML object>"
      ]
     },
     "metadata": {},
     "output_type": "display_data"
    },
    {
     "data": {
      "text/html": [
       "\n",
       "    <div>\n",
       "        <style>\n",
       "            /* Turns off some styling */\n",
       "            progress {\n",
       "                /* gets rid of default border in Firefox and Opera. */\n",
       "                border: none;\n",
       "                /* Needs to be in here for Safari polyfill so background images work as expected. */\n",
       "                background-size: auto;\n",
       "            }\n",
       "            .progress-bar-interrupted, .progress-bar-interrupted::-webkit-progress-bar {\n",
       "                background: #F44336;\n",
       "            }\n",
       "        </style>\n",
       "      <progress value='10000' class='' max='10000' style='width:300px; height:20px; vertical-align: middle;'></progress>\n",
       "      100.00% [10000/10000 00:13<00:00 Sampling chain 7, 2 divergences]\n",
       "    </div>\n",
       "    "
      ],
      "text/plain": [
       "<IPython.core.display.HTML object>"
      ]
     },
     "metadata": {},
     "output_type": "display_data"
    },
    {
     "data": {
      "text/html": [
       "\n",
       "    <div>\n",
       "        <style>\n",
       "            /* Turns off some styling */\n",
       "            progress {\n",
       "                /* gets rid of default border in Firefox and Opera. */\n",
       "                border: none;\n",
       "                /* Needs to be in here for Safari polyfill so background images work as expected. */\n",
       "                background-size: auto;\n",
       "            }\n",
       "            .progress-bar-interrupted, .progress-bar-interrupted::-webkit-progress-bar {\n",
       "                background: #F44336;\n",
       "            }\n",
       "        </style>\n",
       "      <progress value='10000' class='' max='10000' style='width:300px; height:20px; vertical-align: middle;'></progress>\n",
       "      100.00% [10000/10000 00:10<00:00 Sampling chain 8, 0 divergences]\n",
       "    </div>\n",
       "    "
      ],
      "text/plain": [
       "<IPython.core.display.HTML object>"
      ]
     },
     "metadata": {},
     "output_type": "display_data"
    },
    {
     "data": {
      "text/html": [
       "\n",
       "    <div>\n",
       "        <style>\n",
       "            /* Turns off some styling */\n",
       "            progress {\n",
       "                /* gets rid of default border in Firefox and Opera. */\n",
       "                border: none;\n",
       "                /* Needs to be in here for Safari polyfill so background images work as expected. */\n",
       "                background-size: auto;\n",
       "            }\n",
       "            .progress-bar-interrupted, .progress-bar-interrupted::-webkit-progress-bar {\n",
       "                background: #F44336;\n",
       "            }\n",
       "        </style>\n",
       "      <progress value='10000' class='' max='10000' style='width:300px; height:20px; vertical-align: middle;'></progress>\n",
       "      100.00% [10000/10000 00:12<00:00 Sampling chain 9, 0 divergences]\n",
       "    </div>\n",
       "    "
      ],
      "text/plain": [
       "<IPython.core.display.HTML object>"
      ]
     },
     "metadata": {},
     "output_type": "display_data"
    },
    {
     "name": "stderr",
     "output_type": "stream",
     "text": [
      "Sampling 10 chains for 5_000 tune and 5_000 draw iterations (50_000 + 50_000 draws total) took 124 seconds.\n",
      "There were 3 divergences after tuning. Increase `target_accept` or reparameterize.\n",
      "There were 6 divergences after tuning. Increase `target_accept` or reparameterize.\n",
      "There were 8 divergences after tuning. Increase `target_accept` or reparameterize.\n",
      "There were 12 divergences after tuning. Increase `target_accept` or reparameterize.\n",
      "There were 13 divergences after tuning. Increase `target_accept` or reparameterize.\n",
      "There were 13 divergences after tuning. Increase `target_accept` or reparameterize.\n",
      "There were 14 divergences after tuning. Increase `target_accept` or reparameterize.\n",
      "There were 16 divergences after tuning. Increase `target_accept` or reparameterize.\n",
      "There were 16 divergences after tuning. Increase `target_accept` or reparameterize.\n",
      "There were 16 divergences after tuning. Increase `target_accept` or reparameterize.\n",
      "The number of effective samples is smaller than 25% for some parameters.\n"
     ]
    },
    {
     "data": {
      "text/html": [
       "\n",
       "    <div>\n",
       "        <style>\n",
       "            /* Turns off some styling */\n",
       "            progress {\n",
       "                /* gets rid of default border in Firefox and Opera. */\n",
       "                border: none;\n",
       "                /* Needs to be in here for Safari polyfill so background images work as expected. */\n",
       "                background-size: auto;\n",
       "            }\n",
       "            .progress-bar-interrupted, .progress-bar-interrupted::-webkit-progress-bar {\n",
       "                background: #F44336;\n",
       "            }\n",
       "        </style>\n",
       "      <progress value='50000' class='' max='50000' style='width:300px; height:20px; vertical-align: middle;'></progress>\n",
       "      100.00% [50000/50000 02:15<00:00]\n",
       "    </div>\n",
       "    "
      ],
      "text/plain": [
       "<IPython.core.display.HTML object>"
      ]
     },
     "metadata": {},
     "output_type": "display_data"
    },
    {
     "data": {
      "text/html": [
       "\n",
       "    <div>\n",
       "        <style>\n",
       "            /* Turns off some styling */\n",
       "            progress {\n",
       "                /* gets rid of default border in Firefox and Opera. */\n",
       "                border: none;\n",
       "                /* Needs to be in here for Safari polyfill so background images work as expected. */\n",
       "                background-size: auto;\n",
       "            }\n",
       "            .progress-bar-interrupted, .progress-bar-interrupted::-webkit-progress-bar {\n",
       "                background: #F44336;\n",
       "            }\n",
       "        </style>\n",
       "      <progress value='50000' class='' max='50000' style='width:300px; height:20px; vertical-align: middle;'></progress>\n",
       "      100.00% [50000/50000 01:21<00:00]\n",
       "    </div>\n",
       "    "
      ],
      "text/plain": [
       "<IPython.core.display.HTML object>"
      ]
     },
     "metadata": {},
     "output_type": "display_data"
    },
    {
     "name": "stdout",
     "output_type": "stream",
     "text": [
      "Error: failed on 5000m\n"
     ]
    },
    {
     "name": "stderr",
     "output_type": "stream",
     "text": [
      "Auto-assigning NUTS sampler...\n",
      "Initializing NUTS using jitter+adapt_diag...\n",
      "Sequential sampling (10 chains in 1 job)\n",
      "NUTS: [sigma, mu]\n"
     ]
    },
    {
     "data": {
      "text/html": [
       "\n",
       "    <div>\n",
       "        <style>\n",
       "            /* Turns off some styling */\n",
       "            progress {\n",
       "                /* gets rid of default border in Firefox and Opera. */\n",
       "                border: none;\n",
       "                /* Needs to be in here for Safari polyfill so background images work as expected. */\n",
       "                background-size: auto;\n",
       "            }\n",
       "            .progress-bar-interrupted, .progress-bar-interrupted::-webkit-progress-bar {\n",
       "                background: #F44336;\n",
       "            }\n",
       "        </style>\n",
       "      <progress value='10000' class='' max='10000' style='width:300px; height:20px; vertical-align: middle;'></progress>\n",
       "      100.00% [10000/10000 00:25<00:00 Sampling chain 0, 888 divergences]\n",
       "    </div>\n",
       "    "
      ],
      "text/plain": [
       "<IPython.core.display.HTML object>"
      ]
     },
     "metadata": {},
     "output_type": "display_data"
    },
    {
     "data": {
      "text/html": [
       "\n",
       "    <div>\n",
       "        <style>\n",
       "            /* Turns off some styling */\n",
       "            progress {\n",
       "                /* gets rid of default border in Firefox and Opera. */\n",
       "                border: none;\n",
       "                /* Needs to be in here for Safari polyfill so background images work as expected. */\n",
       "                background-size: auto;\n",
       "            }\n",
       "            .progress-bar-interrupted, .progress-bar-interrupted::-webkit-progress-bar {\n",
       "                background: #F44336;\n",
       "            }\n",
       "        </style>\n",
       "      <progress value='10000' class='' max='10000' style='width:300px; height:20px; vertical-align: middle;'></progress>\n",
       "      100.00% [10000/10000 00:20<00:00 Sampling chain 1, 862 divergences]\n",
       "    </div>\n",
       "    "
      ],
      "text/plain": [
       "<IPython.core.display.HTML object>"
      ]
     },
     "metadata": {},
     "output_type": "display_data"
    },
    {
     "data": {
      "text/html": [
       "\n",
       "    <div>\n",
       "        <style>\n",
       "            /* Turns off some styling */\n",
       "            progress {\n",
       "                /* gets rid of default border in Firefox and Opera. */\n",
       "                border: none;\n",
       "                /* Needs to be in here for Safari polyfill so background images work as expected. */\n",
       "                background-size: auto;\n",
       "            }\n",
       "            .progress-bar-interrupted, .progress-bar-interrupted::-webkit-progress-bar {\n",
       "                background: #F44336;\n",
       "            }\n",
       "        </style>\n",
       "      <progress value='10000' class='' max='10000' style='width:300px; height:20px; vertical-align: middle;'></progress>\n",
       "      100.00% [10000/10000 00:21<00:00 Sampling chain 2, 1,000 divergences]\n",
       "    </div>\n",
       "    "
      ],
      "text/plain": [
       "<IPython.core.display.HTML object>"
      ]
     },
     "metadata": {},
     "output_type": "display_data"
    },
    {
     "data": {
      "text/html": [
       "\n",
       "    <div>\n",
       "        <style>\n",
       "            /* Turns off some styling */\n",
       "            progress {\n",
       "                /* gets rid of default border in Firefox and Opera. */\n",
       "                border: none;\n",
       "                /* Needs to be in here for Safari polyfill so background images work as expected. */\n",
       "                background-size: auto;\n",
       "            }\n",
       "            .progress-bar-interrupted, .progress-bar-interrupted::-webkit-progress-bar {\n",
       "                background: #F44336;\n",
       "            }\n",
       "        </style>\n",
       "      <progress value='10000' class='' max='10000' style='width:300px; height:20px; vertical-align: middle;'></progress>\n",
       "      100.00% [10000/10000 00:18<00:00 Sampling chain 3, 757 divergences]\n",
       "    </div>\n",
       "    "
      ],
      "text/plain": [
       "<IPython.core.display.HTML object>"
      ]
     },
     "metadata": {},
     "output_type": "display_data"
    },
    {
     "data": {
      "text/html": [
       "\n",
       "    <div>\n",
       "        <style>\n",
       "            /* Turns off some styling */\n",
       "            progress {\n",
       "                /* gets rid of default border in Firefox and Opera. */\n",
       "                border: none;\n",
       "                /* Needs to be in here for Safari polyfill so background images work as expected. */\n",
       "                background-size: auto;\n",
       "            }\n",
       "            .progress-bar-interrupted, .progress-bar-interrupted::-webkit-progress-bar {\n",
       "                background: #F44336;\n",
       "            }\n",
       "        </style>\n",
       "      <progress value='10000' class='' max='10000' style='width:300px; height:20px; vertical-align: middle;'></progress>\n",
       "      100.00% [10000/10000 00:23<00:00 Sampling chain 4, 817 divergences]\n",
       "    </div>\n",
       "    "
      ],
      "text/plain": [
       "<IPython.core.display.HTML object>"
      ]
     },
     "metadata": {},
     "output_type": "display_data"
    },
    {
     "data": {
      "text/html": [
       "\n",
       "    <div>\n",
       "        <style>\n",
       "            /* Turns off some styling */\n",
       "            progress {\n",
       "                /* gets rid of default border in Firefox and Opera. */\n",
       "                border: none;\n",
       "                /* Needs to be in here for Safari polyfill so background images work as expected. */\n",
       "                background-size: auto;\n",
       "            }\n",
       "            .progress-bar-interrupted, .progress-bar-interrupted::-webkit-progress-bar {\n",
       "                background: #F44336;\n",
       "            }\n",
       "        </style>\n",
       "      <progress value='10000' class='' max='10000' style='width:300px; height:20px; vertical-align: middle;'></progress>\n",
       "      100.00% [10000/10000 00:21<00:00 Sampling chain 5, 862 divergences]\n",
       "    </div>\n",
       "    "
      ],
      "text/plain": [
       "<IPython.core.display.HTML object>"
      ]
     },
     "metadata": {},
     "output_type": "display_data"
    },
    {
     "data": {
      "text/html": [
       "\n",
       "    <div>\n",
       "        <style>\n",
       "            /* Turns off some styling */\n",
       "            progress {\n",
       "                /* gets rid of default border in Firefox and Opera. */\n",
       "                border: none;\n",
       "                /* Needs to be in here for Safari polyfill so background images work as expected. */\n",
       "                background-size: auto;\n",
       "            }\n",
       "            .progress-bar-interrupted, .progress-bar-interrupted::-webkit-progress-bar {\n",
       "                background: #F44336;\n",
       "            }\n",
       "        </style>\n",
       "      <progress value='10000' class='' max='10000' style='width:300px; height:20px; vertical-align: middle;'></progress>\n",
       "      100.00% [10000/10000 00:24<00:00 Sampling chain 6, 698 divergences]\n",
       "    </div>\n",
       "    "
      ],
      "text/plain": [
       "<IPython.core.display.HTML object>"
      ]
     },
     "metadata": {},
     "output_type": "display_data"
    },
    {
     "data": {
      "text/html": [
       "\n",
       "    <div>\n",
       "        <style>\n",
       "            /* Turns off some styling */\n",
       "            progress {\n",
       "                /* gets rid of default border in Firefox and Opera. */\n",
       "                border: none;\n",
       "                /* Needs to be in here for Safari polyfill so background images work as expected. */\n",
       "                background-size: auto;\n",
       "            }\n",
       "            .progress-bar-interrupted, .progress-bar-interrupted::-webkit-progress-bar {\n",
       "                background: #F44336;\n",
       "            }\n",
       "        </style>\n",
       "      <progress value='10000' class='' max='10000' style='width:300px; height:20px; vertical-align: middle;'></progress>\n",
       "      100.00% [10000/10000 00:22<00:00 Sampling chain 7, 966 divergences]\n",
       "    </div>\n",
       "    "
      ],
      "text/plain": [
       "<IPython.core.display.HTML object>"
      ]
     },
     "metadata": {},
     "output_type": "display_data"
    },
    {
     "data": {
      "text/html": [
       "\n",
       "    <div>\n",
       "        <style>\n",
       "            /* Turns off some styling */\n",
       "            progress {\n",
       "                /* gets rid of default border in Firefox and Opera. */\n",
       "                border: none;\n",
       "                /* Needs to be in here for Safari polyfill so background images work as expected. */\n",
       "                background-size: auto;\n",
       "            }\n",
       "            .progress-bar-interrupted, .progress-bar-interrupted::-webkit-progress-bar {\n",
       "                background: #F44336;\n",
       "            }\n",
       "        </style>\n",
       "      <progress value='10000' class='' max='10000' style='width:300px; height:20px; vertical-align: middle;'></progress>\n",
       "      100.00% [10000/10000 00:18<00:00 Sampling chain 8, 791 divergences]\n",
       "    </div>\n",
       "    "
      ],
      "text/plain": [
       "<IPython.core.display.HTML object>"
      ]
     },
     "metadata": {},
     "output_type": "display_data"
    },
    {
     "data": {
      "text/html": [
       "\n",
       "    <div>\n",
       "        <style>\n",
       "            /* Turns off some styling */\n",
       "            progress {\n",
       "                /* gets rid of default border in Firefox and Opera. */\n",
       "                border: none;\n",
       "                /* Needs to be in here for Safari polyfill so background images work as expected. */\n",
       "                background-size: auto;\n",
       "            }\n",
       "            .progress-bar-interrupted, .progress-bar-interrupted::-webkit-progress-bar {\n",
       "                background: #F44336;\n",
       "            }\n",
       "        </style>\n",
       "      <progress value='10000' class='' max='10000' style='width:300px; height:20px; vertical-align: middle;'></progress>\n",
       "      100.00% [10000/10000 00:20<00:00 Sampling chain 9, 853 divergences]\n",
       "    </div>\n",
       "    "
      ],
      "text/plain": [
       "<IPython.core.display.HTML object>"
      ]
     },
     "metadata": {},
     "output_type": "display_data"
    },
    {
     "name": "stderr",
     "output_type": "stream",
     "text": [
      "Sampling 10 chains for 5_000 tune and 5_000 draw iterations (50_000 + 50_000 draws total) took 218 seconds.\n",
      "There were 888 divergences after tuning. Increase `target_accept` or reparameterize.\n",
      "There were 1751 divergences after tuning. Increase `target_accept` or reparameterize.\n",
      "There were 2752 divergences after tuning. Increase `target_accept` or reparameterize.\n",
      "There were 3509 divergences after tuning. Increase `target_accept` or reparameterize.\n",
      "There were 4326 divergences after tuning. Increase `target_accept` or reparameterize.\n",
      "There were 5189 divergences after tuning. Increase `target_accept` or reparameterize.\n",
      "There were 5887 divergences after tuning. Increase `target_accept` or reparameterize.\n",
      "There were 6853 divergences after tuning. Increase `target_accept` or reparameterize.\n",
      "There were 7644 divergences after tuning. Increase `target_accept` or reparameterize.\n",
      "There were 8497 divergences after tuning. Increase `target_accept` or reparameterize.\n",
      "The number of effective samples is smaller than 25% for some parameters.\n"
     ]
    },
    {
     "data": {
      "text/html": [
       "\n",
       "    <div>\n",
       "        <style>\n",
       "            /* Turns off some styling */\n",
       "            progress {\n",
       "                /* gets rid of default border in Firefox and Opera. */\n",
       "                border: none;\n",
       "                /* Needs to be in here for Safari polyfill so background images work as expected. */\n",
       "                background-size: auto;\n",
       "            }\n",
       "            .progress-bar-interrupted, .progress-bar-interrupted::-webkit-progress-bar {\n",
       "                background: #F44336;\n",
       "            }\n",
       "        </style>\n",
       "      <progress value='50000' class='' max='50000' style='width:300px; height:20px; vertical-align: middle;'></progress>\n",
       "      100.00% [50000/50000 02:25<00:00]\n",
       "    </div>\n",
       "    "
      ],
      "text/plain": [
       "<IPython.core.display.HTML object>"
      ]
     },
     "metadata": {},
     "output_type": "display_data"
    },
    {
     "data": {
      "text/html": [
       "\n",
       "    <div>\n",
       "        <style>\n",
       "            /* Turns off some styling */\n",
       "            progress {\n",
       "                /* gets rid of default border in Firefox and Opera. */\n",
       "                border: none;\n",
       "                /* Needs to be in here for Safari polyfill so background images work as expected. */\n",
       "                background-size: auto;\n",
       "            }\n",
       "            .progress-bar-interrupted, .progress-bar-interrupted::-webkit-progress-bar {\n",
       "                background: #F44336;\n",
       "            }\n",
       "        </style>\n",
       "      <progress value='50000' class='' max='50000' style='width:300px; height:20px; vertical-align: middle;'></progress>\n",
       "      100.00% [50000/50000 01:22<00:00]\n",
       "    </div>\n",
       "    "
      ],
      "text/plain": [
       "<IPython.core.display.HTML object>"
      ]
     },
     "metadata": {},
     "output_type": "display_data"
    },
    {
     "name": "stdout",
     "output_type": "stream",
     "text": [
      "Error: failed on Marathon\n"
     ]
    },
    {
     "name": "stderr",
     "output_type": "stream",
     "text": [
      "Auto-assigning NUTS sampler...\n",
      "Initializing NUTS using jitter+adapt_diag...\n",
      "Sequential sampling (10 chains in 1 job)\n",
      "NUTS: [sigma, mu]\n"
     ]
    },
    {
     "data": {
      "text/html": [
       "\n",
       "    <div>\n",
       "        <style>\n",
       "            /* Turns off some styling */\n",
       "            progress {\n",
       "                /* gets rid of default border in Firefox and Opera. */\n",
       "                border: none;\n",
       "                /* Needs to be in here for Safari polyfill so background images work as expected. */\n",
       "                background-size: auto;\n",
       "            }\n",
       "            .progress-bar-interrupted, .progress-bar-interrupted::-webkit-progress-bar {\n",
       "                background: #F44336;\n",
       "            }\n",
       "        </style>\n",
       "      <progress value='10000' class='' max='10000' style='width:300px; height:20px; vertical-align: middle;'></progress>\n",
       "      100.00% [10000/10000 00:19<00:00 Sampling chain 0, 1,093 divergences]\n",
       "    </div>\n",
       "    "
      ],
      "text/plain": [
       "<IPython.core.display.HTML object>"
      ]
     },
     "metadata": {},
     "output_type": "display_data"
    },
    {
     "data": {
      "text/html": [
       "\n",
       "    <div>\n",
       "        <style>\n",
       "            /* Turns off some styling */\n",
       "            progress {\n",
       "                /* gets rid of default border in Firefox and Opera. */\n",
       "                border: none;\n",
       "                /* Needs to be in here for Safari polyfill so background images work as expected. */\n",
       "                background-size: auto;\n",
       "            }\n",
       "            .progress-bar-interrupted, .progress-bar-interrupted::-webkit-progress-bar {\n",
       "                background: #F44336;\n",
       "            }\n",
       "        </style>\n",
       "      <progress value='10000' class='' max='10000' style='width:300px; height:20px; vertical-align: middle;'></progress>\n",
       "      100.00% [10000/10000 00:17<00:00 Sampling chain 1, 1,060 divergences]\n",
       "    </div>\n",
       "    "
      ],
      "text/plain": [
       "<IPython.core.display.HTML object>"
      ]
     },
     "metadata": {},
     "output_type": "display_data"
    },
    {
     "data": {
      "text/html": [
       "\n",
       "    <div>\n",
       "        <style>\n",
       "            /* Turns off some styling */\n",
       "            progress {\n",
       "                /* gets rid of default border in Firefox and Opera. */\n",
       "                border: none;\n",
       "                /* Needs to be in here for Safari polyfill so background images work as expected. */\n",
       "                background-size: auto;\n",
       "            }\n",
       "            .progress-bar-interrupted, .progress-bar-interrupted::-webkit-progress-bar {\n",
       "                background: #F44336;\n",
       "            }\n",
       "        </style>\n",
       "      <progress value='10000' class='' max='10000' style='width:300px; height:20px; vertical-align: middle;'></progress>\n",
       "      100.00% [10000/10000 00:41<00:00 Sampling chain 2, 966 divergences]\n",
       "    </div>\n",
       "    "
      ],
      "text/plain": [
       "<IPython.core.display.HTML object>"
      ]
     },
     "metadata": {},
     "output_type": "display_data"
    },
    {
     "data": {
      "text/html": [
       "\n",
       "    <div>\n",
       "        <style>\n",
       "            /* Turns off some styling */\n",
       "            progress {\n",
       "                /* gets rid of default border in Firefox and Opera. */\n",
       "                border: none;\n",
       "                /* Needs to be in here for Safari polyfill so background images work as expected. */\n",
       "                background-size: auto;\n",
       "            }\n",
       "            .progress-bar-interrupted, .progress-bar-interrupted::-webkit-progress-bar {\n",
       "                background: #F44336;\n",
       "            }\n",
       "        </style>\n",
       "      <progress value='10000' class='' max='10000' style='width:300px; height:20px; vertical-align: middle;'></progress>\n",
       "      100.00% [10000/10000 00:21<00:00 Sampling chain 3, 977 divergences]\n",
       "    </div>\n",
       "    "
      ],
      "text/plain": [
       "<IPython.core.display.HTML object>"
      ]
     },
     "metadata": {},
     "output_type": "display_data"
    },
    {
     "data": {
      "text/html": [
       "\n",
       "    <div>\n",
       "        <style>\n",
       "            /* Turns off some styling */\n",
       "            progress {\n",
       "                /* gets rid of default border in Firefox and Opera. */\n",
       "                border: none;\n",
       "                /* Needs to be in here for Safari polyfill so background images work as expected. */\n",
       "                background-size: auto;\n",
       "            }\n",
       "            .progress-bar-interrupted, .progress-bar-interrupted::-webkit-progress-bar {\n",
       "                background: #F44336;\n",
       "            }\n",
       "        </style>\n",
       "      <progress value='10000' class='' max='10000' style='width:300px; height:20px; vertical-align: middle;'></progress>\n",
       "      100.00% [10000/10000 00:18<00:00 Sampling chain 4, 989 divergences]\n",
       "    </div>\n",
       "    "
      ],
      "text/plain": [
       "<IPython.core.display.HTML object>"
      ]
     },
     "metadata": {},
     "output_type": "display_data"
    },
    {
     "data": {
      "text/html": [
       "\n",
       "    <div>\n",
       "        <style>\n",
       "            /* Turns off some styling */\n",
       "            progress {\n",
       "                /* gets rid of default border in Firefox and Opera. */\n",
       "                border: none;\n",
       "                /* Needs to be in here for Safari polyfill so background images work as expected. */\n",
       "                background-size: auto;\n",
       "            }\n",
       "            .progress-bar-interrupted, .progress-bar-interrupted::-webkit-progress-bar {\n",
       "                background: #F44336;\n",
       "            }\n",
       "        </style>\n",
       "      <progress value='10000' class='' max='10000' style='width:300px; height:20px; vertical-align: middle;'></progress>\n",
       "      100.00% [10000/10000 00:17<00:00 Sampling chain 5, 1,012 divergences]\n",
       "    </div>\n",
       "    "
      ],
      "text/plain": [
       "<IPython.core.display.HTML object>"
      ]
     },
     "metadata": {},
     "output_type": "display_data"
    },
    {
     "data": {
      "text/html": [
       "\n",
       "    <div>\n",
       "        <style>\n",
       "            /* Turns off some styling */\n",
       "            progress {\n",
       "                /* gets rid of default border in Firefox and Opera. */\n",
       "                border: none;\n",
       "                /* Needs to be in here for Safari polyfill so background images work as expected. */\n",
       "                background-size: auto;\n",
       "            }\n",
       "            .progress-bar-interrupted, .progress-bar-interrupted::-webkit-progress-bar {\n",
       "                background: #F44336;\n",
       "            }\n",
       "        </style>\n",
       "      <progress value='10000' class='' max='10000' style='width:300px; height:20px; vertical-align: middle;'></progress>\n",
       "      100.00% [10000/10000 00:16<00:00 Sampling chain 6, 905 divergences]\n",
       "    </div>\n",
       "    "
      ],
      "text/plain": [
       "<IPython.core.display.HTML object>"
      ]
     },
     "metadata": {},
     "output_type": "display_data"
    },
    {
     "data": {
      "text/html": [
       "\n",
       "    <div>\n",
       "        <style>\n",
       "            /* Turns off some styling */\n",
       "            progress {\n",
       "                /* gets rid of default border in Firefox and Opera. */\n",
       "                border: none;\n",
       "                /* Needs to be in here for Safari polyfill so background images work as expected. */\n",
       "                background-size: auto;\n",
       "            }\n",
       "            .progress-bar-interrupted, .progress-bar-interrupted::-webkit-progress-bar {\n",
       "                background: #F44336;\n",
       "            }\n",
       "        </style>\n",
       "      <progress value='10000' class='' max='10000' style='width:300px; height:20px; vertical-align: middle;'></progress>\n",
       "      100.00% [10000/10000 00:25<00:00 Sampling chain 7, 924 divergences]\n",
       "    </div>\n",
       "    "
      ],
      "text/plain": [
       "<IPython.core.display.HTML object>"
      ]
     },
     "metadata": {},
     "output_type": "display_data"
    },
    {
     "data": {
      "text/html": [
       "\n",
       "    <div>\n",
       "        <style>\n",
       "            /* Turns off some styling */\n",
       "            progress {\n",
       "                /* gets rid of default border in Firefox and Opera. */\n",
       "                border: none;\n",
       "                /* Needs to be in here for Safari polyfill so background images work as expected. */\n",
       "                background-size: auto;\n",
       "            }\n",
       "            .progress-bar-interrupted, .progress-bar-interrupted::-webkit-progress-bar {\n",
       "                background: #F44336;\n",
       "            }\n",
       "        </style>\n",
       "      <progress value='10000' class='' max='10000' style='width:300px; height:20px; vertical-align: middle;'></progress>\n",
       "      100.00% [10000/10000 00:17<00:00 Sampling chain 8, 909 divergences]\n",
       "    </div>\n",
       "    "
      ],
      "text/plain": [
       "<IPython.core.display.HTML object>"
      ]
     },
     "metadata": {},
     "output_type": "display_data"
    },
    {
     "data": {
      "text/html": [
       "\n",
       "    <div>\n",
       "        <style>\n",
       "            /* Turns off some styling */\n",
       "            progress {\n",
       "                /* gets rid of default border in Firefox and Opera. */\n",
       "                border: none;\n",
       "                /* Needs to be in here for Safari polyfill so background images work as expected. */\n",
       "                background-size: auto;\n",
       "            }\n",
       "            .progress-bar-interrupted, .progress-bar-interrupted::-webkit-progress-bar {\n",
       "                background: #F44336;\n",
       "            }\n",
       "        </style>\n",
       "      <progress value='10000' class='' max='10000' style='width:300px; height:20px; vertical-align: middle;'></progress>\n",
       "      100.00% [10000/10000 00:19<00:00 Sampling chain 9, 1,008 divergences]\n",
       "    </div>\n",
       "    "
      ],
      "text/plain": [
       "<IPython.core.display.HTML object>"
      ]
     },
     "metadata": {},
     "output_type": "display_data"
    },
    {
     "name": "stderr",
     "output_type": "stream",
     "text": [
      "Sampling 10 chains for 5_000 tune and 5_000 draw iterations (50_000 + 50_000 draws total) took 216 seconds.\n",
      "There were 1093 divergences after tuning. Increase `target_accept` or reparameterize.\n",
      "There were 2153 divergences after tuning. Increase `target_accept` or reparameterize.\n",
      "There were 3120 divergences after tuning. Increase `target_accept` or reparameterize.\n",
      "There were 4097 divergences after tuning. Increase `target_accept` or reparameterize.\n",
      "There were 5086 divergences after tuning. Increase `target_accept` or reparameterize.\n",
      "There were 6098 divergences after tuning. Increase `target_accept` or reparameterize.\n",
      "There were 7003 divergences after tuning. Increase `target_accept` or reparameterize.\n",
      "There were 7927 divergences after tuning. Increase `target_accept` or reparameterize.\n",
      "There were 8836 divergences after tuning. Increase `target_accept` or reparameterize.\n",
      "There were 9844 divergences after tuning. Increase `target_accept` or reparameterize.\n",
      "The number of effective samples is smaller than 25% for some parameters.\n"
     ]
    },
    {
     "data": {
      "text/html": [
       "\n",
       "    <div>\n",
       "        <style>\n",
       "            /* Turns off some styling */\n",
       "            progress {\n",
       "                /* gets rid of default border in Firefox and Opera. */\n",
       "                border: none;\n",
       "                /* Needs to be in here for Safari polyfill so background images work as expected. */\n",
       "                background-size: auto;\n",
       "            }\n",
       "            .progress-bar-interrupted, .progress-bar-interrupted::-webkit-progress-bar {\n",
       "                background: #F44336;\n",
       "            }\n",
       "        </style>\n",
       "      <progress value='50000' class='' max='50000' style='width:300px; height:20px; vertical-align: middle;'></progress>\n",
       "      100.00% [50000/50000 02:24<00:00]\n",
       "    </div>\n",
       "    "
      ],
      "text/plain": [
       "<IPython.core.display.HTML object>"
      ]
     },
     "metadata": {},
     "output_type": "display_data"
    },
    {
     "data": {
      "text/html": [
       "\n",
       "    <div>\n",
       "        <style>\n",
       "            /* Turns off some styling */\n",
       "            progress {\n",
       "                /* gets rid of default border in Firefox and Opera. */\n",
       "                border: none;\n",
       "                /* Needs to be in here for Safari polyfill so background images work as expected. */\n",
       "                background-size: auto;\n",
       "            }\n",
       "            .progress-bar-interrupted, .progress-bar-interrupted::-webkit-progress-bar {\n",
       "                background: #F44336;\n",
       "            }\n",
       "        </style>\n",
       "      <progress value='50000' class='' max='50000' style='width:300px; height:20px; vertical-align: middle;'></progress>\n",
       "      100.00% [50000/50000 01:21<00:00]\n",
       "    </div>\n",
       "    "
      ],
      "text/plain": [
       "<IPython.core.display.HTML object>"
      ]
     },
     "metadata": {},
     "output_type": "display_data"
    },
    {
     "name": "stdout",
     "output_type": "stream",
     "text": [
      "Error: failed on 10000m\n"
     ]
    },
    {
     "data": {
      "image/png": "[encoded data removed]",
      "text/plain": [
       "<Figure size 936x576 with 1 Axes>"
      ]
     },
     "metadata": {
      "needs_background": "light"
     },
     "output_type": "display_data"
    },
    {
     "data": {
      "image/png": "[encoded data removed]",
      "text/plain": [
       "<Figure size 936x576 with 1 Axes>"
      ]
     },
     "metadata": {
      "needs_background": "light"
     },
     "output_type": "display_data"
    },
    {
     "data": {
      "image/png": "[encoded data removed]",
      "text/plain": [
       "<Figure size 936x576 with 1 Axes>"
      ]
     },
     "metadata": {
      "needs_background": "light"
     },
     "output_type": "display_data"
    },
    {
     "data": {
      "image/png": "[encoded data removed]",
      "text/plain": [
       "<Figure size 936x576 with 1 Axes>"
      ]
     },
     "metadata": {
      "needs_background": "light"
     },
     "output_type": "display_data"
    },
    {
     "data": {
      "image/png": "[encoded data removed]",
      "text/plain": [
       "<Figure size 936x576 with 1 Axes>"
      ]
     },
     "metadata": {
      "needs_background": "light"
     },
     "output_type": "display_data"
    }
   ],
   "source": [
    "#whiches = [\"1m\", \"5000m\", \"10000m\", \"Marathon\"]\n",
    "whiches = [\"1000m\", \"1m\", \"5000m\", \"Marathon\", \"10000m\"]\n",
    "#whiches = []\n",
    "\n",
    "mses = {}\n",
    "avg_log_probs = {}\n",
    "\n",
    "s5_quantiles = {}\n",
    "s15_quantiles = {}\n",
    "s50_quantiles = {}\n",
    "s85_quantiles = {}\n",
    "s95_quantiles = {}\n",
    "means = {}\n",
    "\n",
    "fails = []\n",
    "\n",
    "#whiches = [\"1000m\"]\n",
    "for which in whiches:\n",
    "\n",
    "    try:\n",
    "\n",
    "        df = pd.read_csv(\"tryfos_data.csv\")\n",
    "        years, records = df[\"Year\"].values, df[which].values # Years 1983 and onward are just forecasts\n",
    "\n",
    "        training_years = years[:15]\n",
    "        training_records = records[:15]\n",
    "        tryfos_years = years[15:]\n",
    "        tryfos_fcast = records[15:]\n",
    "\n",
    "        actual_df = pd.read_csv(\"tryfos_actual.csv\")\n",
    "        _, actual_records = actual_df[\"Year\"].values, actual_df[which].values\n",
    "\n",
    "        prior_parameters = {\n",
    "                'mu' : {\n",
    "                    'mean' : training_records[0],\n",
    "                    'std' : 100*training_records[0],\n",
    "                },\n",
    "                'sigma' : {\n",
    "                    'lam' : 1.0/100.0\n",
    "                }\n",
    "            }\n",
    "\n",
    "        model = fm.ForecastModel(training_records, prior_parameters=prior_parameters, attempt_distribution=\"gumbel\", \n",
    "                                    kind=\"min\", train='all', fcast_len=len(tryfos_fcast), fcast_test_data=actual_records)\n",
    "        \n",
    "        model.fit(chains=10, draws=5000)\n",
    "        model.posterior_predictive()\n",
    "        model.forecast()\n",
    "\n",
    "\n",
    "        # MSE calculation\n",
    "        median = np.quantile(model.forecast_samples[:,-15:], q=0.5, axis=0)\n",
    "        bayes_mse = fm.mse(median, model.fcast_test_data)\n",
    "        tryfos_mse = fm.mse(tryfos_fcast, model.fcast_test_data)\n",
    "        baseline_fcast = training_records[-1]*np.ones_like(model.fcast_test_data)\n",
    "        baseline_mse = fm.mse(baseline_fcast, model.fcast_test_data)\n",
    "        mses[which] = (bayes_mse, tryfos_mse, baseline_mse)\n",
    "\n",
    "        sample_paths = model.forecast_samples\n",
    "\n",
    "        s5_quant = np.quantile(sample_paths, q=0.05, axis=0)\n",
    "        s15_quant = np.quantile(sample_paths, q=0.15, axis=0)\n",
    "        s50_quant = np.quantile(sample_paths, q=0.5, axis=0)\n",
    "        s85_quant = np.quantile(sample_paths, q=0.85, axis=0)\n",
    "        s95_quant = np.quantile(sample_paths, q=0.95, axis=0)\n",
    "        mean = np.mean(sample_paths, axis=0)\n",
    "\n",
    "        s5_quantiles[which] = s5_quant\n",
    "        s15_quantiles[which] = s15_quant\n",
    "        s50_quantiles[which] = s50_quant\n",
    "        s85_quantiles[which] = s85_quant\n",
    "        s95_quantiles[which] = s95_quant\n",
    "        means[which] = mean\n",
    "\n",
    "\n",
    "        # Average logp\n",
    "        avg_log_probs[which] = np.mean(model.posterior_predictive_ppc[\"log_like_holdout\"])\n",
    "\n",
    "        # Plots\n",
    "        fig = plot_posterior_predictive(model, f\"{which}, Gumbel Attempts, Posterior Predictive\")\n",
    "        fig.savefig(f\"predictions/gumbel/final_{which}_gumbel_attempts_post_pred.png\")\n",
    "\n",
    "        # fig = plot_forecast(model, tryfos_fcast, f\"{which}, Gumbel Attempts, Forecast\", actual_records)\n",
    "        # fig.savefig(f\"{which}_gumbel_attempts_forecast.png\")\n",
    "\n",
    "        fig = plot_forecast_fin(model, tryfos_fcast, f\"{which}, Gumbel Attempts\", actual_records)\n",
    "        fig.savefig(f\"predictions/gumbel/final_{which}_gumbel_attempts_forecast.png\")\n",
    "\n",
    "        fig = plot_forecast_fin_w_mean(model, tryfos_fcast, f\"{which}, Gumbel Attempts\", actual_records)\n",
    "        fig.savefig(f\"predictions/gumbel/final_{which}_gumbel_attempts_forecast_w_mean.png\")\n",
    "\n",
    "        fig = plot_forecast_small(model, tryfos_fcast, f\"{which}, Gumbel Attempts\", actual_records)\n",
    "        fig.savefig(f\"predictions/gumbel/s_final_{which}_gumbel_attempts_forecast.png\")\n",
    "\n",
    "\n",
    "\n",
    "    except:\n",
    "       print(f\"Error: failed on {which}\")\n",
    "       fails.append(which)"
   ]
  },
  {
   "cell_type": "code",
   "execution_count": null,
   "metadata": {},
   "outputs": [
    {
     "data": {
      "text/plain": [
       "{'1000m': (0.1544339153686762, 0.30973333333333847, 0.0),\n",
       " '1m': (2.4458273978979648, 1.9230733333333596, 3.425253333333406),\n",
       " '5000m': (57.20561199364924, 43.3707066666667, 65.49352666666633),\n",
       " 'Marathon': (1607.8081644432725, 3500.8, 5341.133333333333),\n",
       " '10000m': (528.4708865124019, 496.97074666666725, 607.3418133333379)}"
      ]
     },
     "execution_count": 11,
     "metadata": {},
     "output_type": "execute_result"
    }
   ],
   "source": [
    "mses"
   ]
  },
  {
   "cell_type": "code",
   "execution_count": null,
   "metadata": {},
   "outputs": [
    {
     "data": {
      "text/plain": [
       "{'1000m': -2.298219225159536,\n",
       " '1m': -35.28183698772439,\n",
       " '5000m': -261.24788473515724,\n",
       " 'Marathon': -35.04905121751948,\n",
       " '10000m': -21894.492624709397}"
      ]
     },
     "execution_count": 12,
     "metadata": {},
     "output_type": "execute_result"
    }
   ],
   "source": [
    "avg_log_probs"
   ]
  },
  {
   "cell_type": "code",
   "execution_count": null,
   "metadata": {},
   "outputs": [
    {
     "name": "stdout",
     "output_type": "stream",
     "text": [
      "{'1000m': array([136.2       , 136.2       , 136.2       , 136.2       ,\n",
      "       136.2       , 136.        , 133.9       , 133.9       ,\n",
      "       133.9       , 133.9       , 133.9       , 133.9       ,\n",
      "       133.4       , 132.18      , 132.18      , 130.7404965 ,\n",
      "       129.95317183, 129.47328218, 129.15461756, 128.90290376,\n",
      "       128.70037157, 128.52751713, 128.34894403, 128.23246236,\n",
      "       128.1212613 , 128.02412826, 127.93967027, 127.88192984,\n",
      "       127.80929232, 127.73844604]), '1m': array([231.1       , 231.1       , 231.1       , 231.1       ,\n",
      "       231.1       , 231.1       , 231.1       , 229.4       ,\n",
      "       229.4       , 229.4       , 229.4       , 228.95      ,\n",
      "       228.8       , 227.33      , 227.33      , 226.0940153 ,\n",
      "       225.35585931, 224.94976796, 224.64548252, 224.42081862,\n",
      "       224.23995539, 224.08726531, 223.93672336, 223.83343765,\n",
      "       223.74200826, 223.63970749, 223.57060768, 223.48940137,\n",
      "       223.4199654 , 223.33765088]), '5000m': array([796.6       , 796.6       , 796.6       , 796.6       ,\n",
      "       793.        , 793.        , 793.        , 793.        ,\n",
      "       793.        , 792.9       , 788.4       , 788.4       ,\n",
      "       788.4       , 786.2       , 780.42      , 777.08726461,\n",
      "       774.48458534, 772.95640796, 771.91177707, 771.06465077,\n",
      "       770.45407167, 769.82331707, 769.32192825, 768.89033858,\n",
      "       768.54649222, 768.17744188, 767.90052503, 767.64592755,\n",
      "       767.40802049, 767.20741244]), 'Marathon': array([7777.        , 7714.        , 7714.        , 7714.        ,\n",
      "       7714.        , 7714.        , 7714.        , 7714.        ,\n",
      "       7714.        , 7714.        , 7714.        , 7714.        ,\n",
      "       7714.        , 7693.        , 7693.        , 7575.27330626,\n",
      "       7523.33068484, 7490.29263704, 7469.63878802, 7450.33078622,\n",
      "       7435.54895537, 7423.78695759, 7415.21033066, 7407.77624044,\n",
      "       7401.81683868, 7395.28634831, 7390.15609059, 7384.48417505,\n",
      "       7380.13920712, 7375.20999325]), '10000m': array([1659.4       , 1659.4       , 1659.4       , 1659.4       ,\n",
      "       1658.4       , 1650.8       , 1650.8       , 1650.8       ,\n",
      "       1650.8       , 1650.5       , 1642.4       , 1642.4       ,\n",
      "       1642.4       , 1642.4       , 1642.4       , 1635.57659082,\n",
      "       1631.44814133, 1629.05917679, 1627.29130722, 1625.9974028 ,\n",
      "       1624.78904662, 1623.82415293, 1622.97096837, 1622.42619815,\n",
      "       1621.77445803, 1621.27244149, 1620.82418954, 1620.3321997 ,\n",
      "       1619.94132054, 1619.64966196])}\n",
      "{'1000m': array([136.2       , 136.2       , 136.2       , 136.2       ,\n",
      "       136.2       , 136.        , 133.9       , 133.9       ,\n",
      "       133.9       , 133.9       , 133.9       , 133.9       ,\n",
      "       133.4       , 132.18      , 132.18      , 132.1368396 ,\n",
      "       131.41882745, 131.02970145, 130.74340314, 130.54753906,\n",
      "       130.37982684, 130.2543609 , 130.14030812, 130.03912871,\n",
      "       129.94824152, 129.86387245, 129.7992928 , 129.74341972,\n",
      "       129.68359972, 129.63074864]), '1m': array([231.1       , 231.1       , 231.1       , 231.1       ,\n",
      "       231.1       , 231.1       , 231.1       , 229.4       ,\n",
      "       229.4       , 229.4       , 229.4       , 228.95      ,\n",
      "       228.8       , 227.33      , 227.33      , 227.31161253,\n",
      "       226.70079028, 226.35032339, 226.12033519, 225.93798746,\n",
      "       225.79309828, 225.67073625, 225.56592809, 225.47958124,\n",
      "       225.40307426, 225.32989363, 225.27670309, 225.22420791,\n",
      "       225.16836496, 225.11950734]), '5000m': array([796.6       , 796.6       , 796.6       , 796.6       ,\n",
      "       793.        , 793.        , 793.        , 793.        ,\n",
      "       793.        , 792.9       , 788.4       , 788.4       ,\n",
      "       788.4       , 786.2       , 780.42      , 780.42      ,\n",
      "       779.22617809, 777.84725022, 776.89416675, 776.22089675,\n",
      "       775.69362169, 775.18865254, 774.81479764, 774.53824067,\n",
      "       774.25943104, 773.96148292, 773.73689792, 773.53237629,\n",
      "       773.32567416, 773.14686996]), 'Marathon': array([7777.        , 7714.        , 7714.        , 7714.        ,\n",
      "       7714.        , 7714.        , 7714.        , 7714.        ,\n",
      "       7714.        , 7714.        , 7714.        , 7714.        ,\n",
      "       7714.        , 7693.        , 7693.        , 7654.74147697,\n",
      "       7622.00976852, 7601.64780311, 7587.6942763 , 7577.46553086,\n",
      "       7569.17123568, 7562.01474467, 7556.02858224, 7550.65955644,\n",
      "       7545.80316686, 7542.10795225, 7538.55221593, 7535.44944157,\n",
      "       7532.20071164, 7529.65218712]), '10000m': array([1659.4       , 1659.4       , 1659.4       , 1659.4       ,\n",
      "       1658.4       , 1650.8       , 1650.8       , 1650.8       ,\n",
      "       1650.8       , 1650.5       , 1642.4       , 1642.4       ,\n",
      "       1642.4       , 1642.4       , 1642.4       , 1642.27188644,\n",
      "       1638.78604516, 1636.89844302, 1635.65190124, 1634.60720729,\n",
      "       1633.75724339, 1633.07287812, 1632.46169751, 1631.97122128,\n",
      "       1631.57182311, 1631.16472327, 1630.83591092, 1630.51573765,\n",
      "       1630.25794303, 1630.03009353])}\n",
      "{'1000m': array([136.2       , 136.2       , 136.2       , 136.2       ,\n",
      "       136.2       , 136.        , 133.9       , 133.9       ,\n",
      "       133.9       , 133.9       , 133.9       , 133.9       ,\n",
      "       133.4       , 132.18      , 132.18      , 132.18      ,\n",
      "       132.18      , 132.18      , 132.18      , 132.18      ,\n",
      "       132.1028192 , 131.98788428, 131.88986722, 131.80978552,\n",
      "       131.73721647, 131.676207  , 131.61895048, 131.57205763,\n",
      "       131.52439482, 131.48117646]), '1m': array([231.1       , 231.1       , 231.1       , 231.1       ,\n",
      "       231.1       , 231.1       , 231.1       , 229.4       ,\n",
      "       229.4       , 229.4       , 229.4       , 228.95      ,\n",
      "       228.8       , 227.33      , 227.33      , 227.33      ,\n",
      "       227.33      , 227.33      , 227.33      , 227.33      ,\n",
      "       227.30243787, 227.20631982, 227.12237192, 227.04938262,\n",
      "       226.98560017, 226.93101596, 226.88573697, 226.84612207,\n",
      "       226.80852256, 226.77543256]), '5000m': array([796.6       , 796.6       , 796.6       , 796.6       ,\n",
      "       793.        , 793.        , 793.        , 793.        ,\n",
      "       793.        , 792.9       , 788.4       , 788.4       ,\n",
      "       788.4       , 786.2       , 780.42      , 780.42      ,\n",
      "       780.42      , 780.42      , 780.42      , 780.42      ,\n",
      "       780.42      , 780.42      , 780.42      , 780.34184068,\n",
      "       780.07705293, 779.83023447, 779.64075676, 779.45922179,\n",
      "       779.29606277, 779.14131608]), 'Marathon': array([7777.        , 7714.        , 7714.        , 7714.        ,\n",
      "       7714.        , 7714.        , 7714.        , 7714.        ,\n",
      "       7714.        , 7714.        , 7714.        , 7714.        ,\n",
      "       7714.        , 7693.        , 7693.        , 7693.        ,\n",
      "       7693.        , 7684.18766133, 7675.30449495, 7668.92962829,\n",
      "       7664.14182163, 7660.22910917, 7657.08291648, 7654.24379404,\n",
      "       7651.86720138, 7649.78936886, 7648.0780212 , 7646.48788949,\n",
      "       7644.90737501, 7643.55586561]), '10000m': array([1659.4       , 1659.4       , 1659.4       , 1659.4       ,\n",
      "       1658.4       , 1650.8       , 1650.8       , 1650.8       ,\n",
      "       1650.8       , 1650.5       , 1642.4       , 1642.4       ,\n",
      "       1642.4       , 1642.4       , 1642.4       , 1642.4       ,\n",
      "       1642.4       , 1642.4       , 1642.4       , 1642.4       ,\n",
      "       1642.23073788, 1641.64292327, 1641.1865958 , 1640.81138439,\n",
      "       1640.48527093, 1640.18606048, 1639.9264309 , 1639.67479355,\n",
      "       1639.46516208, 1639.25977522])}\n",
      "{'1000m': array([136.2 , 136.2 , 136.2 , 136.2 , 136.2 , 136.  , 133.9 , 133.9 ,\n",
      "       133.9 , 133.9 , 133.9 , 133.9 , 133.4 , 132.18, 132.18, 132.18,\n",
      "       132.18, 132.18, 132.18, 132.18, 132.18, 132.18, 132.18, 132.18,\n",
      "       132.18, 132.18, 132.18, 132.18, 132.18, 132.18]), '1m': array([231.1 , 231.1 , 231.1 , 231.1 , 231.1 , 231.1 , 231.1 , 229.4 ,\n",
      "       229.4 , 229.4 , 229.4 , 228.95, 228.8 , 227.33, 227.33, 227.33,\n",
      "       227.33, 227.33, 227.33, 227.33, 227.33, 227.33, 227.33, 227.33,\n",
      "       227.33, 227.33, 227.33, 227.33, 227.33, 227.33]), '5000m': array([796.6 , 796.6 , 796.6 , 796.6 , 793.  , 793.  , 793.  , 793.  ,\n",
      "       793.  , 792.9 , 788.4 , 788.4 , 788.4 , 786.2 , 780.42, 780.42,\n",
      "       780.42, 780.42, 780.42, 780.42, 780.42, 780.42, 780.42, 780.42,\n",
      "       780.42, 780.42, 780.42, 780.42, 780.42, 780.42]), 'Marathon': array([7777.        , 7714.        , 7714.        , 7714.        ,\n",
      "       7714.        , 7714.        , 7714.        , 7714.        ,\n",
      "       7714.        , 7714.        , 7714.        , 7714.        ,\n",
      "       7714.        , 7693.        , 7693.        , 7693.        ,\n",
      "       7693.        , 7693.        , 7693.        , 7693.        ,\n",
      "       7693.        , 7693.        , 7693.        , 7693.        ,\n",
      "       7693.        , 7692.64392156, 7691.0303719 , 7689.25876373,\n",
      "       7688.02184348, 7686.87998892]), '10000m': array([1659.4, 1659.4, 1659.4, 1659.4, 1658.4, 1650.8, 1650.8, 1650.8,\n",
      "       1650.8, 1650.5, 1642.4, 1642.4, 1642.4, 1642.4, 1642.4, 1642.4,\n",
      "       1642.4, 1642.4, 1642.4, 1642.4, 1642.4, 1642.4, 1642.4, 1642.4,\n",
      "       1642.4, 1642.4, 1642.4, 1642.4, 1642.4, 1642.4])}\n",
      "{'1000m': array([136.2 , 136.2 , 136.2 , 136.2 , 136.2 , 136.  , 133.9 , 133.9 ,\n",
      "       133.9 , 133.9 , 133.9 , 133.9 , 133.4 , 132.18, 132.18, 132.18,\n",
      "       132.18, 132.18, 132.18, 132.18, 132.18, 132.18, 132.18, 132.18,\n",
      "       132.18, 132.18, 132.18, 132.18, 132.18, 132.18]), '1m': array([231.1 , 231.1 , 231.1 , 231.1 , 231.1 , 231.1 , 231.1 , 229.4 ,\n",
      "       229.4 , 229.4 , 229.4 , 228.95, 228.8 , 227.33, 227.33, 227.33,\n",
      "       227.33, 227.33, 227.33, 227.33, 227.33, 227.33, 227.33, 227.33,\n",
      "       227.33, 227.33, 227.33, 227.33, 227.33, 227.33]), '5000m': array([796.6 , 796.6 , 796.6 , 796.6 , 793.  , 793.  , 793.  , 793.  ,\n",
      "       793.  , 792.9 , 788.4 , 788.4 , 788.4 , 786.2 , 780.42, 780.42,\n",
      "       780.42, 780.42, 780.42, 780.42, 780.42, 780.42, 780.42, 780.42,\n",
      "       780.42, 780.42, 780.42, 780.42, 780.42, 780.42]), 'Marathon': array([7777., 7714., 7714., 7714., 7714., 7714., 7714., 7714., 7714.,\n",
      "       7714., 7714., 7714., 7714., 7693., 7693., 7693., 7693., 7693.,\n",
      "       7693., 7693., 7693., 7693., 7693., 7693., 7693., 7693., 7693.,\n",
      "       7693., 7693., 7693.]), '10000m': array([1659.4, 1659.4, 1659.4, 1659.4, 1658.4, 1650.8, 1650.8, 1650.8,\n",
      "       1650.8, 1650.5, 1642.4, 1642.4, 1642.4, 1642.4, 1642.4, 1642.4,\n",
      "       1642.4, 1642.4, 1642.4, 1642.4, 1642.4, 1642.4, 1642.4, 1642.4,\n",
      "       1642.4, 1642.4, 1642.4, 1642.4, 1642.4, 1642.4])}\n"
     ]
    }
   ],
   "source": [
    "print(s5_quantiles)\n",
    "print(s15_quantiles)\n",
    "print(s50_quantiles)\n",
    "print(s85_quantiles)\n",
    "print(s95_quantiles)\n",
    "print(means)"
   ]
  },
  {
   "cell_type": "markdown",
   "metadata": {},
   "source": [
    "# Weibull"
   ]
  },
  {
   "cell_type": "code",
   "execution_count": 7,
   "metadata": {},
   "outputs": [
    {
     "name": "stderr",
     "output_type": "stream",
     "text": [
      "Auto-assigning NUTS sampler...\n",
      "Initializing NUTS using jitter+adapt_diag...\n",
      "Sequential sampling (2 chains in 1 job)\n",
      "NUTS: [beta, alpha]\n"
     ]
    },
    {
     "data": {
      "text/html": [
       "\n",
       "    <div>\n",
       "        <style>\n",
       "            /* Turns off some styling */\n",
       "            progress {\n",
       "                /* gets rid of default border in Firefox and Opera. */\n",
       "                border: none;\n",
       "                /* Needs to be in here for Safari polyfill so background images work as expected. */\n",
       "                background-size: auto;\n",
       "            }\n",
       "            .progress-bar-interrupted, .progress-bar-interrupted::-webkit-progress-bar {\n",
       "                background: #F44336;\n",
       "            }\n",
       "        </style>\n",
       "      <progress value='7000' class='' max='7000' style='width:300px; height:20px; vertical-align: middle;'></progress>\n",
       "      100.00% [7000/7000 00:11<00:00 Sampling chain 0, 0 divergences]\n",
       "    </div>\n",
       "    "
      ],
      "text/plain": [
       "<IPython.core.display.HTML object>"
      ]
     },
     "metadata": {},
     "output_type": "display_data"
    },
    {
     "data": {
      "text/html": [
       "\n",
       "    <div>\n",
       "        <style>\n",
       "            /* Turns off some styling */\n",
       "            progress {\n",
       "                /* gets rid of default border in Firefox and Opera. */\n",
       "                border: none;\n",
       "                /* Needs to be in here for Safari polyfill so background images work as expected. */\n",
       "                background-size: auto;\n",
       "            }\n",
       "            .progress-bar-interrupted, .progress-bar-interrupted::-webkit-progress-bar {\n",
       "                background: #F44336;\n",
       "            }\n",
       "        </style>\n",
       "      <progress value='7000' class='' max='7000' style='width:300px; height:20px; vertical-align: middle;'></progress>\n",
       "      100.00% [7000/7000 00:11<00:00 Sampling chain 1, 0 divergences]\n",
       "    </div>\n",
       "    "
      ],
      "text/plain": [
       "<IPython.core.display.HTML object>"
      ]
     },
     "metadata": {},
     "output_type": "display_data"
    },
    {
     "name": "stderr",
     "output_type": "stream",
     "text": [
      "Sampling 2 chains for 5_000 tune and 2_000 draw iterations (10_000 + 4_000 draws total) took 23 seconds.\n",
      "The number of effective samples is smaller than 25% for some parameters.\n"
     ]
    },
    {
     "data": {
      "text/html": [
       "\n",
       "    <div>\n",
       "        <style>\n",
       "            /* Turns off some styling */\n",
       "            progress {\n",
       "                /* gets rid of default border in Firefox and Opera. */\n",
       "                border: none;\n",
       "                /* Needs to be in here for Safari polyfill so background images work as expected. */\n",
       "                background-size: auto;\n",
       "            }\n",
       "            .progress-bar-interrupted, .progress-bar-interrupted::-webkit-progress-bar {\n",
       "                background: #F44336;\n",
       "            }\n",
       "        </style>\n",
       "      <progress value='4000' class='' max='4000' style='width:300px; height:20px; vertical-align: middle;'></progress>\n",
       "      100.00% [4000/4000 00:10<00:00]\n",
       "    </div>\n",
       "    "
      ],
      "text/plain": [
       "<IPython.core.display.HTML object>"
      ]
     },
     "metadata": {},
     "output_type": "display_data"
    },
    {
     "data": {
      "text/html": [
       "\n",
       "    <div>\n",
       "        <style>\n",
       "            /* Turns off some styling */\n",
       "            progress {\n",
       "                /* gets rid of default border in Firefox and Opera. */\n",
       "                border: none;\n",
       "                /* Needs to be in here for Safari polyfill so background images work as expected. */\n",
       "                background-size: auto;\n",
       "            }\n",
       "            .progress-bar-interrupted, .progress-bar-interrupted::-webkit-progress-bar {\n",
       "                background: #F44336;\n",
       "            }\n",
       "        </style>\n",
       "      <progress value='4000' class='' max='4000' style='width:300px; height:20px; vertical-align: middle;'></progress>\n",
       "      100.00% [4000/4000 00:01<00:00]\n",
       "    </div>\n",
       "    "
      ],
      "text/plain": [
       "<IPython.core.display.HTML object>"
      ]
     },
     "metadata": {},
     "output_type": "display_data"
    },
    {
     "name": "stdout",
     "output_type": "stream",
     "text": [
      "Error: failed on 1000m\n"
     ]
    },
    {
     "name": "stderr",
     "output_type": "stream",
     "text": [
      "Auto-assigning NUTS sampler...\n",
      "Initializing NUTS using jitter+adapt_diag...\n",
      "Sequential sampling (2 chains in 1 job)\n",
      "NUTS: [beta, alpha]\n"
     ]
    },
    {
     "data": {
      "text/html": [
       "\n",
       "    <div>\n",
       "        <style>\n",
       "            /* Turns off some styling */\n",
       "            progress {\n",
       "                /* gets rid of default border in Firefox and Opera. */\n",
       "                border: none;\n",
       "                /* Needs to be in here for Safari polyfill so background images work as expected. */\n",
       "                background-size: auto;\n",
       "            }\n",
       "            .progress-bar-interrupted, .progress-bar-interrupted::-webkit-progress-bar {\n",
       "                background: #F44336;\n",
       "            }\n",
       "        </style>\n",
       "      <progress value='7000' class='' max='7000' style='width:300px; height:20px; vertical-align: middle;'></progress>\n",
       "      100.00% [7000/7000 00:12<00:00 Sampling chain 0, 0 divergences]\n",
       "    </div>\n",
       "    "
      ],
      "text/plain": [
       "<IPython.core.display.HTML object>"
      ]
     },
     "metadata": {},
     "output_type": "display_data"
    },
    {
     "data": {
      "text/html": [
       "\n",
       "    <div>\n",
       "        <style>\n",
       "            /* Turns off some styling */\n",
       "            progress {\n",
       "                /* gets rid of default border in Firefox and Opera. */\n",
       "                border: none;\n",
       "                /* Needs to be in here for Safari polyfill so background images work as expected. */\n",
       "                background-size: auto;\n",
       "            }\n",
       "            .progress-bar-interrupted, .progress-bar-interrupted::-webkit-progress-bar {\n",
       "                background: #F44336;\n",
       "            }\n",
       "        </style>\n",
       "      <progress value='7000' class='' max='7000' style='width:300px; height:20px; vertical-align: middle;'></progress>\n",
       "      100.00% [7000/7000 00:25<00:00 Sampling chain 1, 0 divergences]\n",
       "    </div>\n",
       "    "
      ],
      "text/plain": [
       "<IPython.core.display.HTML object>"
      ]
     },
     "metadata": {},
     "output_type": "display_data"
    },
    {
     "name": "stderr",
     "output_type": "stream",
     "text": [
      "Sampling 2 chains for 5_000 tune and 2_000 draw iterations (10_000 + 4_000 draws total) took 38 seconds.\n"
     ]
    },
    {
     "data": {
      "text/html": [
       "\n",
       "    <div>\n",
       "        <style>\n",
       "            /* Turns off some styling */\n",
       "            progress {\n",
       "                /* gets rid of default border in Firefox and Opera. */\n",
       "                border: none;\n",
       "                /* Needs to be in here for Safari polyfill so background images work as expected. */\n",
       "                background-size: auto;\n",
       "            }\n",
       "            .progress-bar-interrupted, .progress-bar-interrupted::-webkit-progress-bar {\n",
       "                background: #F44336;\n",
       "            }\n",
       "        </style>\n",
       "      <progress value='4000' class='' max='4000' style='width:300px; height:20px; vertical-align: middle;'></progress>\n",
       "      100.00% [4000/4000 00:10<00:00]\n",
       "    </div>\n",
       "    "
      ],
      "text/plain": [
       "<IPython.core.display.HTML object>"
      ]
     },
     "metadata": {},
     "output_type": "display_data"
    },
    {
     "data": {
      "text/html": [
       "\n",
       "    <div>\n",
       "        <style>\n",
       "            /* Turns off some styling */\n",
       "            progress {\n",
       "                /* gets rid of default border in Firefox and Opera. */\n",
       "                border: none;\n",
       "                /* Needs to be in here for Safari polyfill so background images work as expected. */\n",
       "                background-size: auto;\n",
       "            }\n",
       "            .progress-bar-interrupted, .progress-bar-interrupted::-webkit-progress-bar {\n",
       "                background: #F44336;\n",
       "            }\n",
       "        </style>\n",
       "      <progress value='4000' class='' max='4000' style='width:300px; height:20px; vertical-align: middle;'></progress>\n",
       "      100.00% [4000/4000 00:01<00:00]\n",
       "    </div>\n",
       "    "
      ],
      "text/plain": [
       "<IPython.core.display.HTML object>"
      ]
     },
     "metadata": {},
     "output_type": "display_data"
    },
    {
     "name": "stdout",
     "output_type": "stream",
     "text": [
      "Error: failed on 1m\n"
     ]
    },
    {
     "name": "stderr",
     "output_type": "stream",
     "text": [
      "Auto-assigning NUTS sampler...\n",
      "Initializing NUTS using jitter+adapt_diag...\n",
      "Sequential sampling (2 chains in 1 job)\n",
      "NUTS: [beta, alpha]\n"
     ]
    },
    {
     "data": {
      "text/html": [
       "\n",
       "    <div>\n",
       "        <style>\n",
       "            /* Turns off some styling */\n",
       "            progress {\n",
       "                /* gets rid of default border in Firefox and Opera. */\n",
       "                border: none;\n",
       "                /* Needs to be in here for Safari polyfill so background images work as expected. */\n",
       "                background-size: auto;\n",
       "            }\n",
       "            .progress-bar-interrupted, .progress-bar-interrupted::-webkit-progress-bar {\n",
       "                background: #F44336;\n",
       "            }\n",
       "        </style>\n",
       "      <progress value='7000' class='' max='7000' style='width:300px; height:20px; vertical-align: middle;'></progress>\n",
       "      100.00% [7000/7000 00:12<00:00 Sampling chain 0, 0 divergences]\n",
       "    </div>\n",
       "    "
      ],
      "text/plain": [
       "<IPython.core.display.HTML object>"
      ]
     },
     "metadata": {},
     "output_type": "display_data"
    },
    {
     "data": {
      "text/html": [
       "\n",
       "    <div>\n",
       "        <style>\n",
       "            /* Turns off some styling */\n",
       "            progress {\n",
       "                /* gets rid of default border in Firefox and Opera. */\n",
       "                border: none;\n",
       "                /* Needs to be in here for Safari polyfill so background images work as expected. */\n",
       "                background-size: auto;\n",
       "            }\n",
       "            .progress-bar-interrupted, .progress-bar-interrupted::-webkit-progress-bar {\n",
       "                background: #F44336;\n",
       "            }\n",
       "        </style>\n",
       "      <progress value='7000' class='' max='7000' style='width:300px; height:20px; vertical-align: middle;'></progress>\n",
       "      100.00% [7000/7000 00:17<00:00 Sampling chain 1, 0 divergences]\n",
       "    </div>\n",
       "    "
      ],
      "text/plain": [
       "<IPython.core.display.HTML object>"
      ]
     },
     "metadata": {},
     "output_type": "display_data"
    },
    {
     "name": "stderr",
     "output_type": "stream",
     "text": [
      "Sampling 2 chains for 5_000 tune and 2_000 draw iterations (10_000 + 4_000 draws total) took 30 seconds.\n"
     ]
    },
    {
     "data": {
      "text/html": [
       "\n",
       "    <div>\n",
       "        <style>\n",
       "            /* Turns off some styling */\n",
       "            progress {\n",
       "                /* gets rid of default border in Firefox and Opera. */\n",
       "                border: none;\n",
       "                /* Needs to be in here for Safari polyfill so background images work as expected. */\n",
       "                background-size: auto;\n",
       "            }\n",
       "            .progress-bar-interrupted, .progress-bar-interrupted::-webkit-progress-bar {\n",
       "                background: #F44336;\n",
       "            }\n",
       "        </style>\n",
       "      <progress value='4000' class='' max='4000' style='width:300px; height:20px; vertical-align: middle;'></progress>\n",
       "      100.00% [4000/4000 00:09<00:00]\n",
       "    </div>\n",
       "    "
      ],
      "text/plain": [
       "<IPython.core.display.HTML object>"
      ]
     },
     "metadata": {},
     "output_type": "display_data"
    },
    {
     "data": {
      "text/html": [
       "\n",
       "    <div>\n",
       "        <style>\n",
       "            /* Turns off some styling */\n",
       "            progress {\n",
       "                /* gets rid of default border in Firefox and Opera. */\n",
       "                border: none;\n",
       "                /* Needs to be in here for Safari polyfill so background images work as expected. */\n",
       "                background-size: auto;\n",
       "            }\n",
       "            .progress-bar-interrupted, .progress-bar-interrupted::-webkit-progress-bar {\n",
       "                background: #F44336;\n",
       "            }\n",
       "        </style>\n",
       "      <progress value='4000' class='' max='4000' style='width:300px; height:20px; vertical-align: middle;'></progress>\n",
       "      100.00% [4000/4000 00:01<00:00]\n",
       "    </div>\n",
       "    "
      ],
      "text/plain": [
       "<IPython.core.display.HTML object>"
      ]
     },
     "metadata": {},
     "output_type": "display_data"
    },
    {
     "name": "stdout",
     "output_type": "stream",
     "text": [
      "Error: failed on 5000m\n"
     ]
    },
    {
     "name": "stderr",
     "output_type": "stream",
     "text": [
      "Auto-assigning NUTS sampler...\n",
      "Initializing NUTS using jitter+adapt_diag...\n",
      "Sequential sampling (2 chains in 1 job)\n",
      "NUTS: [beta, alpha]\n"
     ]
    },
    {
     "data": {
      "text/html": [
       "\n",
       "    <div>\n",
       "        <style>\n",
       "            /* Turns off some styling */\n",
       "            progress {\n",
       "                /* gets rid of default border in Firefox and Opera. */\n",
       "                border: none;\n",
       "                /* Needs to be in here for Safari polyfill so background images work as expected. */\n",
       "                background-size: auto;\n",
       "            }\n",
       "            .progress-bar-interrupted, .progress-bar-interrupted::-webkit-progress-bar {\n",
       "                background: #F44336;\n",
       "            }\n",
       "        </style>\n",
       "      <progress value='7000' class='' max='7000' style='width:300px; height:20px; vertical-align: middle;'></progress>\n",
       "      100.00% [7000/7000 00:14<00:00 Sampling chain 0, 0 divergences]\n",
       "    </div>\n",
       "    "
      ],
      "text/plain": [
       "<IPython.core.display.HTML object>"
      ]
     },
     "metadata": {},
     "output_type": "display_data"
    },
    {
     "data": {
      "text/html": [
       "\n",
       "    <div>\n",
       "        <style>\n",
       "            /* Turns off some styling */\n",
       "            progress {\n",
       "                /* gets rid of default border in Firefox and Opera. */\n",
       "                border: none;\n",
       "                /* Needs to be in here for Safari polyfill so background images work as expected. */\n",
       "                background-size: auto;\n",
       "            }\n",
       "            .progress-bar-interrupted, .progress-bar-interrupted::-webkit-progress-bar {\n",
       "                background: #F44336;\n",
       "            }\n",
       "        </style>\n",
       "      <progress value='7000' class='' max='7000' style='width:300px; height:20px; vertical-align: middle;'></progress>\n",
       "      100.00% [7000/7000 00:11<00:00 Sampling chain 1, 0 divergences]\n",
       "    </div>\n",
       "    "
      ],
      "text/plain": [
       "<IPython.core.display.HTML object>"
      ]
     },
     "metadata": {},
     "output_type": "display_data"
    },
    {
     "name": "stderr",
     "output_type": "stream",
     "text": [
      "Sampling 2 chains for 5_000 tune and 2_000 draw iterations (10_000 + 4_000 draws total) took 26 seconds.\n"
     ]
    },
    {
     "data": {
      "text/html": [
       "\n",
       "    <div>\n",
       "        <style>\n",
       "            /* Turns off some styling */\n",
       "            progress {\n",
       "                /* gets rid of default border in Firefox and Opera. */\n",
       "                border: none;\n",
       "                /* Needs to be in here for Safari polyfill so background images work as expected. */\n",
       "                background-size: auto;\n",
       "            }\n",
       "            .progress-bar-interrupted, .progress-bar-interrupted::-webkit-progress-bar {\n",
       "                background: #F44336;\n",
       "            }\n",
       "        </style>\n",
       "      <progress value='4000' class='' max='4000' style='width:300px; height:20px; vertical-align: middle;'></progress>\n",
       "      100.00% [4000/4000 00:09<00:00]\n",
       "    </div>\n",
       "    "
      ],
      "text/plain": [
       "<IPython.core.display.HTML object>"
      ]
     },
     "metadata": {},
     "output_type": "display_data"
    },
    {
     "data": {
      "text/html": [
       "\n",
       "    <div>\n",
       "        <style>\n",
       "            /* Turns off some styling */\n",
       "            progress {\n",
       "                /* gets rid of default border in Firefox and Opera. */\n",
       "                border: none;\n",
       "                /* Needs to be in here for Safari polyfill so background images work as expected. */\n",
       "                background-size: auto;\n",
       "            }\n",
       "            .progress-bar-interrupted, .progress-bar-interrupted::-webkit-progress-bar {\n",
       "                background: #F44336;\n",
       "            }\n",
       "        </style>\n",
       "      <progress value='4000' class='' max='4000' style='width:300px; height:20px; vertical-align: middle;'></progress>\n",
       "      100.00% [4000/4000 00:01<00:00]\n",
       "    </div>\n",
       "    "
      ],
      "text/plain": [
       "<IPython.core.display.HTML object>"
      ]
     },
     "metadata": {},
     "output_type": "display_data"
    },
    {
     "name": "stdout",
     "output_type": "stream",
     "text": [
      "Error: failed on Marathon\n"
     ]
    },
    {
     "name": "stderr",
     "output_type": "stream",
     "text": [
      "C:\\Users\\Jonathan\\miniconda3\\envs\\pm3env\\lib\\site-packages\\pymc3\\model.py:1755: ImputationWarning: Data in jump_data contains missing values and will be automatically imputed from the sampling distribution.\n",
      "  warnings.warn(impute_message, ImputationWarning)\n",
      "C:\\Users\\Jonathan\\miniconda3\\envs\\pm3env\\lib\\site-packages\\pymc3\\model.py:1755: ImputationWarning: Data in flat_data contains missing values and will be automatically imputed from the sampling distribution.\n",
      "  warnings.warn(impute_message, ImputationWarning)\n"
     ]
    },
    {
     "name": "stdout",
     "output_type": "stream",
     "text": [
      "Error: failed on 10000m\n"
     ]
    },
    {
     "name": "stderr",
     "output_type": "stream",
     "text": [
      "C:\\Users\\Jonathan\\miniconda3\\envs\\pm3env\\lib\\site-packages\\pymc3\\model.py:1755: ImputationWarning: Data in jump_data contains missing values and will be automatically imputed from the sampling distribution.\n",
      "  warnings.warn(impute_message, ImputationWarning)\n",
      "C:\\Users\\Jonathan\\miniconda3\\envs\\pm3env\\lib\\site-packages\\pymc3\\model.py:1755: ImputationWarning: Data in flat_data contains missing values and will be automatically imputed from the sampling distribution.\n",
      "  warnings.warn(impute_message, ImputationWarning)\n"
     ]
    },
    {
     "name": "stdout",
     "output_type": "stream",
     "text": [
      "Error: failed on 20000m\n"
     ]
    },
    {
     "data": {
      "image/png": "[encoded data removed]",
      "text/plain": [
       "<Figure size 936x576 with 1 Axes>"
      ]
     },
     "metadata": {
      "needs_background": "light"
     },
     "output_type": "display_data"
    },
    {
     "data": {
      "image/png": "[encoded data removed]",
      "text/plain": [
       "<Figure size 936x576 with 1 Axes>"
      ]
     },
     "metadata": {
      "needs_background": "light"
     },
     "output_type": "display_data"
    },
    {
     "data": {
      "image/png": "[encoded data removed]",
      "text/plain": [
       "<Figure size 936x576 with 1 Axes>"
      ]
     },
     "metadata": {
      "needs_background": "light"
     },
     "output_type": "display_data"
    },
    {
     "data": {
      "image/png": "[encoded data removed]",
      "text/plain": [
       "<Figure size 936x576 with 1 Axes>"
      ]
     },
     "metadata": {
      "needs_background": "light"
     },
     "output_type": "display_data"
    }
   ],
   "source": [
    "#whiches = [\"1m\", \"5000m\", \"10000m\", \"Marathon\"]\n",
    "whiches = [\"1000m\", \"1m\", \"5000m\", \"Marathon\", \"10000m\", '20000m']\n",
    "#whiches = []\n",
    "\n",
    "msesw = {}\n",
    "avg_log_probsw = {}\n",
    "\n",
    "s5_quantiles = {}\n",
    "s15_quantiles = {}\n",
    "s50_quantiles = {}\n",
    "s85_quantiles = {}\n",
    "s95_quantiles = {}\n",
    "means = {}\n",
    "\n",
    "fails = []\n",
    "\n",
    "#whiches = [\"1000m\"]\n",
    "for which in whiches:\n",
    "\n",
    "    try:\n",
    "\n",
    "        df = pd.read_csv(\"tryfos_data_womens.csv\")\n",
    "        years, records = df[\"Year\"].values, df[which].values # Years 1983 and onward are just forecasts\n",
    "\n",
    "        training_years = years[:15]\n",
    "        training_records = records[:15]\n",
    "        tryfos_years = years[15:]\n",
    "        tryfos_fcast = records[15:]\n",
    "\n",
    "        actual_df = pd.read_csv(\"tryfos_actual_womens.csv\")\n",
    "        _, actual_records = actual_df[\"Year\"].values, actual_df[which].values\n",
    "\n",
    "        prior_parameters = {\n",
    "        'alpha' : {\n",
    "            'lower' : 1e-5,\n",
    "            'upper' : 10e4,\n",
    "        },\n",
    "        'beta' : {\n",
    "            'lower' : 1e-5,\n",
    "            'upper': 10e4,\n",
    "            }\n",
    "        }\n",
    "\n",
    "        model = fm.WeibullForecastModel(training_records, prior_parameters=prior_parameters, attempt_distribution=\"weibull\", \n",
    "                            kind=\"min\", train='all', fcast_len=len(tryfos_fcast), fcast_test_data=actual_records)\n",
    "\n",
    "\n",
    "        model.fit(chains=2, draws=2000)\n",
    "        model.posterior_predictive()\n",
    "        model.forecast()\n",
    "\n",
    "\n",
    "        # MSE calculation\n",
    "        median = np.quantile(model.forecast_samples[:,-15:], q=0.5, axis=0)\n",
    "        bayes_mse = fm.mse(median, model.fcast_test_data)\n",
    "        tryfos_mse = fm.mse(tryfos_fcast, model.fcast_test_data)\n",
    "        baseline_fcast = training_records[-1]*np.ones_like(model.fcast_test_data)\n",
    "        baseline_mse = fm.mse(baseline_fcast, model.fcast_test_data)\n",
    "        msesw[which] = (bayes_mse, tryfos_mse, baseline_mse)\n",
    "\n",
    "        # Average logp\n",
    "        avg_log_probsw[which] = np.mean(model.posterior_predictive_ppc[\"log_like_holdout\"])\n",
    "\n",
    "\n",
    "        sample_paths = model.forecast_samples\n",
    "\n",
    "        s5_quant = np.quantile(sample_paths, q=0.05, axis=0)\n",
    "        s15_quant = np.quantile(sample_paths, q=0.15, axis=0)\n",
    "        s50_quant = np.quantile(sample_paths, q=0.5, axis=0)\n",
    "        s85_quant = np.quantile(sample_paths, q=0.85, axis=0)\n",
    "        s95_quant = np.quantile(sample_paths, q=0.95, axis=0)\n",
    "        mean = np.mean(sample_paths, axis=0)\n",
    "\n",
    "        s5_quantiles[which] = s5_quant\n",
    "        s15_quantiles[which] = s15_quant\n",
    "        s50_quantiles[which] = s50_quant\n",
    "        s85_quantiles[which] = s85_quant\n",
    "        s95_quantiles[which] = s95_quant\n",
    "        means[which] = mean\n",
    "\n",
    "\n",
    "        # Plots\n",
    "        fig = plot_posterior_predictive(model, f\"{which}, Gumbel Attempts, Posterior Predictive\")\n",
    "        fig.savefig(f\"womens/weibull/final_{which}_weibull_attempts_post_pred.png\")\n",
    "\n",
    "        # fig = plot_forecast(model, tryfos_fcast, f\"{which}, Gumbel Attempts, Forecast\", actual_records)\n",
    "        # fig.savefig(f\"{which}_gumbel_attempts_forecast.png\")\n",
    "\n",
    "        fig = plot_forecast_fin(model, tryfos_fcast, f\"{which}, Gumbel Attempts\", actual_records)\n",
    "        fig.savefig(f\"womens/predictions/weibull/final_{which}_weibull_attempts_forecast.png\")\n",
    "\n",
    "        fig = plot_forecast_fin_w_mean(model, tryfos_fcast, f\"{which}, Gumbel Attempts\", actual_records)\n",
    "        fig.savefig(f\"womens/predictions/weibull/final_{which}_weibull_attempts_forecast_w_mean.png\")\n",
    "\n",
    "        fig = plot_forecast_small(model, tryfos_fcast, f\"{which}, Gumbel Attempts\", actual_records)\n",
    "        fig.savefig(f\"womens/weibull/s_final_{which}_weibull_attempts_forecast.png\")\n",
    "\n",
    "\n",
    "\n",
    "    except:\n",
    "       print(f\"Error: failed on {which}\")\n",
    "       fails.append(which)"
   ]
  },
  {
   "cell_type": "code",
   "execution_count": 15,
   "metadata": {},
   "outputs": [
    {
     "data": {
      "text/plain": [
       "{'1000m': (0.4751277712501471, 0.30973333333333847, 0.0),\n",
       " '1m': (1.271411888399154, 1.9230733333333596, 3.425253333333406),\n",
       " '5000m': (53.27283603802333, 43.3707066666667, 65.49352666666633),\n",
       " 'Marathon': (1753.9170060075314, 3500.8, 5341.133333333333),\n",
       " '10000m': (540.5166963810487, 496.97074666666725, 607.3418133333379)}"
      ]
     },
     "execution_count": 15,
     "metadata": {},
     "output_type": "execute_result"
    }
   ],
   "source": [
    "msesw"
   ]
  },
  {
   "cell_type": "code",
   "execution_count": 16,
   "metadata": {},
   "outputs": [
    {
     "data": {
      "text/plain": [
       "{'1000m': -2.821296028829953,\n",
       " '1m': -10.617307578342722,\n",
       " '5000m': -35.92279902102185,\n",
       " 'Marathon': -26.700629980231206,\n",
       " '10000m': -77.49709485601977}"
      ]
     },
     "execution_count": 16,
     "metadata": {},
     "output_type": "execute_result"
    }
   ],
   "source": [
    "avg_log_probsw"
   ]
  },
  {
   "cell_type": "code",
   "execution_count": 17,
   "metadata": {},
   "outputs": [
    {
     "name": "stdout",
     "output_type": "stream",
     "text": [
      "{'1000m': array([136.2       , 136.2       , 136.2       , 136.2       ,\n",
      "       136.2       , 136.        , 133.9       , 133.9       ,\n",
      "       133.9       , 133.9       , 133.9       , 133.9       ,\n",
      "       133.4       , 132.18      , 132.18      , 130.14332011,\n",
      "       128.68589379, 127.7624618 , 127.149661  , 126.64855027,\n",
      "       126.22070028, 125.91382171, 125.5914806 , 125.30207914,\n",
      "       125.08664935, 124.84423666, 124.65946079, 124.4781939 ,\n",
      "       124.30920643, 124.14200824]), '1m': array([231.1       , 231.1       , 231.1       , 231.1       ,\n",
      "       231.1       , 231.1       , 231.1       , 229.4       ,\n",
      "       229.4       , 229.4       , 229.4       , 228.95      ,\n",
      "       228.8       , 227.33      , 227.33      , 225.21220174,\n",
      "       224.03912937, 223.27667143, 222.73336424, 222.31537707,\n",
      "       221.94873191, 221.61202329, 221.35774968, 221.11146339,\n",
      "       220.89061624, 220.71407402, 220.55339814, 220.39027281,\n",
      "       220.1924575 , 220.05162113]), '5000m': array([796.6       , 796.6       , 796.6       , 796.6       ,\n",
      "       793.        , 793.        , 793.        , 793.        ,\n",
      "       793.        , 792.9       , 788.4       , 788.4       ,\n",
      "       788.4       , 786.2       , 780.42      , 776.4876421 ,\n",
      "       772.08462662, 769.51554863, 767.68400367, 766.10516849,\n",
      "       764.89552135, 763.9009561 , 763.04425373, 762.26488397,\n",
      "       761.55374422, 760.78476806, 760.09584726, 759.59154151,\n",
      "       759.1264531 , 758.54165989]), 'Marathon': array([7777.        , 7714.        , 7714.        , 7714.        ,\n",
      "       7714.        , 7714.        , 7714.        , 7714.        ,\n",
      "       7714.        , 7714.        , 7714.        , 7714.        ,\n",
      "       7714.        , 7693.        , 7693.        , 7593.54360718,\n",
      "       7544.26213093, 7512.55594104, 7490.25182442, 7472.6111758 ,\n",
      "       7458.61139951, 7446.57486582, 7435.3316874 , 7425.0956496 ,\n",
      "       7413.94343753, 7407.04377949, 7400.33953841, 7392.44361598,\n",
      "       7386.75671373, 7379.86535744]), '10000m': array([1659.4       , 1659.4       , 1659.4       , 1659.4       ,\n",
      "       1658.4       , 1650.8       , 1650.8       , 1650.8       ,\n",
      "       1650.8       , 1650.5       , 1642.4       , 1642.4       ,\n",
      "       1642.4       , 1642.4       , 1642.4       , 1636.06976445,\n",
      "       1630.55280696, 1627.11383339, 1624.74649271, 1622.68465863,\n",
      "       1621.13219432, 1619.63362495, 1618.3859269 , 1617.47082583,\n",
      "       1616.49141767, 1615.66920174, 1614.87889036, 1614.2789923 ,\n",
      "       1613.39031939, 1612.74652287])}\n",
      "{'1000m': array([136.2       , 136.2       , 136.2       , 136.2       ,\n",
      "       136.2       , 136.        , 133.9       , 133.9       ,\n",
      "       133.9       , 133.9       , 133.9       , 133.9       ,\n",
      "       133.4       , 132.18      , 132.18      , 132.18      ,\n",
      "       131.15509622, 130.41378069, 129.90306994, 129.46546666,\n",
      "       129.13517073, 128.86898421, 128.62645778, 128.3992599 ,\n",
      "       128.18865178, 128.01170535, 127.81142855, 127.66823768,\n",
      "       127.54395359, 127.4101446 ]), '1m': array([231.1       , 231.1       , 231.1       , 231.1       ,\n",
      "       231.1       , 231.1       , 231.1       , 229.4       ,\n",
      "       229.4       , 229.4       , 229.4       , 228.95      ,\n",
      "       228.8       , 227.33      , 227.33      , 227.21822583,\n",
      "       226.18921877, 225.56053143, 225.0998103 , 224.72973329,\n",
      "       224.41546825, 224.16651752, 223.94935722, 223.73791176,\n",
      "       223.55494537, 223.39848349, 223.25385902, 223.11820067,\n",
      "       222.98178348, 222.88369492]), '5000m': array([796.6       , 796.6       , 796.6       , 796.6       ,\n",
      "       793.        , 793.        , 793.        , 793.        ,\n",
      "       793.        , 792.9       , 788.4       , 788.4       ,\n",
      "       788.4       , 786.2       , 780.42      , 780.42      ,\n",
      "       779.5591539 , 777.29285741, 775.61735485, 774.35253946,\n",
      "       773.34390402, 772.46890119, 771.69888333, 770.98974027,\n",
      "       770.40241639, 769.80859862, 769.29242061, 768.81314161,\n",
      "       768.39688037, 767.9767964 ]), 'Marathon': array([7777.        , 7714.        , 7714.        , 7714.        ,\n",
      "       7714.        , 7714.        , 7714.        , 7714.        ,\n",
      "       7714.        , 7714.        , 7714.        , 7714.        ,\n",
      "       7714.        , 7693.        , 7693.        , 7668.88188855,\n",
      "       7632.74862446, 7610.42389759, 7593.62597166, 7579.65607784,\n",
      "       7569.53063582, 7560.66272273, 7553.51852544, 7546.06277905,\n",
      "       7539.76631476, 7533.97980903, 7528.1436042 , 7523.06170641,\n",
      "       7518.99076761, 7515.15807733]), '10000m': array([1659.4       , 1659.4       , 1659.4       , 1659.4       ,\n",
      "       1658.4       , 1650.8       , 1650.8       , 1650.8       ,\n",
      "       1650.8       , 1650.5       , 1642.4       , 1642.4       ,\n",
      "       1642.4       , 1642.4       , 1642.4       , 1642.4       ,\n",
      "       1640.04570498, 1637.26449243, 1635.22760508, 1633.52587532,\n",
      "       1632.28657537, 1631.11313444, 1630.18465431, 1629.33775748,\n",
      "       1628.61723792, 1627.87983963, 1627.18200102, 1626.6050759 ,\n",
      "       1626.03971298, 1625.51436685])}\n",
      "{'1000m': array([136.2       , 136.2       , 136.2       , 136.2       ,\n",
      "       136.2       , 136.        , 133.9       , 133.9       ,\n",
      "       133.9       , 133.9       , 133.9       , 133.9       ,\n",
      "       133.4       , 132.18      , 132.18      , 132.18      ,\n",
      "       132.18      , 132.18      , 132.18      , 132.18      ,\n",
      "       132.17008973, 131.96091137, 131.77128089, 131.60691269,\n",
      "       131.4576727 , 131.32130808, 131.19580275, 131.08239983,\n",
      "       130.9752086 , 130.87641383]), '1m': array([231.1       , 231.1       , 231.1       , 231.1       ,\n",
      "       231.1       , 231.1       , 231.1       , 229.4       ,\n",
      "       229.4       , 229.4       , 229.4       , 228.95      ,\n",
      "       228.8       , 227.33      , 227.33      , 227.33      ,\n",
      "       227.33      , 227.33      , 227.33      , 227.33      ,\n",
      "       227.09348471, 226.89604432, 226.72836105, 226.58645786,\n",
      "       226.44340146, 226.31896499, 226.21067638, 226.09745467,\n",
      "       225.99657106, 225.90510587]), '5000m': array([796.6       , 796.6       , 796.6       , 796.6       ,\n",
      "       793.        , 793.        , 793.        , 793.        ,\n",
      "       793.        , 792.9       , 788.4       , 788.4       ,\n",
      "       788.4       , 786.2       , 780.42      , 780.42      ,\n",
      "       780.42      , 780.42      , 780.42      , 780.42      ,\n",
      "       780.42      , 780.42      , 780.42      , 780.42      ,\n",
      "       780.27771494, 779.81937821, 779.41033343, 779.04081768,\n",
      "       778.69628317, 778.38296972]), 'Marathon': array([7777.        , 7714.        , 7714.        , 7714.        ,\n",
      "       7714.        , 7714.        , 7714.        , 7714.        ,\n",
      "       7714.        , 7714.        , 7714.        , 7714.        ,\n",
      "       7714.        , 7693.        , 7693.        , 7693.        ,\n",
      "       7693.        , 7693.        , 7686.36319689, 7677.60930539,\n",
      "       7670.31935061, 7664.28977587, 7659.20142448, 7654.85579011,\n",
      "       7650.71721135, 7646.9040799 , 7643.57539822, 7640.54153222,\n",
      "       7637.72671193, 7634.91781999]), '10000m': array([1659.4       , 1659.4       , 1659.4       , 1659.4       ,\n",
      "       1658.4       , 1650.8       , 1650.8       , 1650.8       ,\n",
      "       1650.8       , 1650.5       , 1642.4       , 1642.4       ,\n",
      "       1642.4       , 1642.4       , 1642.4       , 1642.4       ,\n",
      "       1642.4       , 1642.4       , 1642.4       , 1642.4       ,\n",
      "       1642.4       , 1642.4       , 1642.4       , 1641.93775748,\n",
      "       1641.37295557, 1640.85211187, 1640.38008661, 1639.95131489,\n",
      "       1639.54491049, 1639.16586578])}\n",
      "{'1000m': array([136.2 , 136.2 , 136.2 , 136.2 , 136.2 , 136.  , 133.9 , 133.9 ,\n",
      "       133.9 , 133.9 , 133.9 , 133.9 , 133.4 , 132.18, 132.18, 132.18,\n",
      "       132.18, 132.18, 132.18, 132.18, 132.18, 132.18, 132.18, 132.18,\n",
      "       132.18, 132.18, 132.18, 132.18, 132.18, 132.18]), '1m': array([231.1 , 231.1 , 231.1 , 231.1 , 231.1 , 231.1 , 231.1 , 229.4 ,\n",
      "       229.4 , 229.4 , 229.4 , 228.95, 228.8 , 227.33, 227.33, 227.33,\n",
      "       227.33, 227.33, 227.33, 227.33, 227.33, 227.33, 227.33, 227.33,\n",
      "       227.33, 227.33, 227.33, 227.33, 227.33, 227.33]), '5000m': array([796.6 , 796.6 , 796.6 , 796.6 , 793.  , 793.  , 793.  , 793.  ,\n",
      "       793.  , 792.9 , 788.4 , 788.4 , 788.4 , 786.2 , 780.42, 780.42,\n",
      "       780.42, 780.42, 780.42, 780.42, 780.42, 780.42, 780.42, 780.42,\n",
      "       780.42, 780.42, 780.42, 780.42, 780.42, 780.42]), 'Marathon': array([7777., 7714., 7714., 7714., 7714., 7714., 7714., 7714., 7714.,\n",
      "       7714., 7714., 7714., 7714., 7693., 7693., 7693., 7693., 7693.,\n",
      "       7693., 7693., 7693., 7693., 7693., 7693., 7693., 7693., 7693.,\n",
      "       7693., 7693., 7693.]), '10000m': array([1659.4, 1659.4, 1659.4, 1659.4, 1658.4, 1650.8, 1650.8, 1650.8,\n",
      "       1650.8, 1650.5, 1642.4, 1642.4, 1642.4, 1642.4, 1642.4, 1642.4,\n",
      "       1642.4, 1642.4, 1642.4, 1642.4, 1642.4, 1642.4, 1642.4, 1642.4,\n",
      "       1642.4, 1642.4, 1642.4, 1642.4, 1642.4, 1642.4])}\n",
      "{'1000m': array([136.2 , 136.2 , 136.2 , 136.2 , 136.2 , 136.  , 133.9 , 133.9 ,\n",
      "       133.9 , 133.9 , 133.9 , 133.9 , 133.4 , 132.18, 132.18, 132.18,\n",
      "       132.18, 132.18, 132.18, 132.18, 132.18, 132.18, 132.18, 132.18,\n",
      "       132.18, 132.18, 132.18, 132.18, 132.18, 132.18]), '1m': array([231.1 , 231.1 , 231.1 , 231.1 , 231.1 , 231.1 , 231.1 , 229.4 ,\n",
      "       229.4 , 229.4 , 229.4 , 228.95, 228.8 , 227.33, 227.33, 227.33,\n",
      "       227.33, 227.33, 227.33, 227.33, 227.33, 227.33, 227.33, 227.33,\n",
      "       227.33, 227.33, 227.33, 227.33, 227.33, 227.33]), '5000m': array([796.6 , 796.6 , 796.6 , 796.6 , 793.  , 793.  , 793.  , 793.  ,\n",
      "       793.  , 792.9 , 788.4 , 788.4 , 788.4 , 786.2 , 780.42, 780.42,\n",
      "       780.42, 780.42, 780.42, 780.42, 780.42, 780.42, 780.42, 780.42,\n",
      "       780.42, 780.42, 780.42, 780.42, 780.42, 780.42]), 'Marathon': array([7777., 7714., 7714., 7714., 7714., 7714., 7714., 7714., 7714.,\n",
      "       7714., 7714., 7714., 7714., 7693., 7693., 7693., 7693., 7693.,\n",
      "       7693., 7693., 7693., 7693., 7693., 7693., 7693., 7693., 7693.,\n",
      "       7693., 7693., 7693.]), '10000m': array([1659.4, 1659.4, 1659.4, 1659.4, 1658.4, 1650.8, 1650.8, 1650.8,\n",
      "       1650.8, 1650.5, 1642.4, 1642.4, 1642.4, 1642.4, 1642.4, 1642.4,\n",
      "       1642.4, 1642.4, 1642.4, 1642.4, 1642.4, 1642.4, 1642.4, 1642.4,\n",
      "       1642.4, 1642.4, 1642.4, 1642.4, 1642.4, 1642.4])}\n"
     ]
    }
   ],
   "source": [
    "print(s5_quantiles)\n",
    "print(s15_quantiles)\n",
    "print(s50_quantiles)\n",
    "print(s85_quantiles)\n",
    "print(s95_quantiles)"
   ]
  },
  {
   "cell_type": "code",
   "execution_count": null,
   "metadata": {},
   "outputs": [],
   "source": []
  },
  {
   "cell_type": "code",
   "execution_count": null,
   "metadata": {},
   "outputs": [],
   "source": []
  }
 ],
 "metadata": {
  "interpreter": {
   "hash": "69ffb85235ffa46b5a57f679eb7b603080f93f3e7f902cfae1f9a31760076578"
  },
  "kernelspec": {
   "display_name": "Python 3.8.10 64-bit ('pm3env': conda)",
   "language": "python",
   "name": "python3"
  },
  "language_info": {
   "codemirror_mode": {
    "name": "ipython",
    "version": 3
   },
   "file_extension": ".py",
   "mimetype": "text/x-python",
   "name": "python",
   "nbconvert_exporter": "python",
   "pygments_lexer": "ipython3",
   "version": "3.8.10"
  },
  "orig_nbformat": 4
 },
 "nbformat": 4,
 "nbformat_minor": 2
}
